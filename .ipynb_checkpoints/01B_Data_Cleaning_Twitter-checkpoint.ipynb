{
 "cells": [
  {
   "cell_type": "markdown",
   "metadata": {},
   "source": [
    "# Data Cleaning - Twitter"
   ]
  },
  {
   "cell_type": "code",
   "execution_count": 160,
   "metadata": {},
   "outputs": [],
   "source": [
    "#import libraries\n",
    "\n",
    "import pandas as pd\n",
    "import numpy as np\n",
    "import re\n",
    "from vaderSentiment.vaderSentiment import SentimentIntensityAnalyzer\n",
    "import datetime\n",
    "\n",
    "import pickle"
   ]
  },
  {
   "cell_type": "code",
   "execution_count": 154,
   "metadata": {},
   "outputs": [],
   "source": [
    "dt_tweets_raw = pd.read_csv('data/trump_tweets.txt')"
   ]
  },
  {
   "cell_type": "code",
   "execution_count": 155,
   "metadata": {},
   "outputs": [],
   "source": [
    "pd.set_option('display.max_colwidth',-1)  "
   ]
  },
  {
   "cell_type": "code",
   "execution_count": 156,
   "metadata": {},
   "outputs": [],
   "source": [
    "dt_tweets = dt_tweets_raw.drop(['source', 'retweet_count', 'favorite_count', 'is_retweet', 'id_str'], axis=1)"
   ]
  },
  {
   "cell_type": "code",
   "execution_count": 157,
   "metadata": {},
   "outputs": [],
   "source": [
    "#dt_tweets = dt_tweets.set_index('created_at')"
   ]
  },
  {
   "cell_type": "markdown",
   "metadata": {},
   "source": [
    "**Cleaning tweets**"
   ]
  },
  {
   "cell_type": "code",
   "execution_count": 158,
   "metadata": {},
   "outputs": [],
   "source": [
    "dt_tweets['text'] = dt_tweets['text'].apply(lambda x: clean_tweet(x))"
   ]
  },
  {
   "cell_type": "code",
   "execution_count": 164,
   "metadata": {},
   "outputs": [],
   "source": [
    "#Change date object to datetime\n",
    "dt_tweets['created_at'] = pd.to_datetime(dt_tweets['created_at'])"
   ]
  },
  {
   "cell_type": "code",
   "execution_count": 169,
   "metadata": {},
   "outputs": [],
   "source": [
    "#create date column\n",
    "dt_tweets['date'] = [d.date() for d in dt_tweets['created_at']]"
   ]
  },
  {
   "cell_type": "code",
   "execution_count": 172,
   "metadata": {},
   "outputs": [],
   "source": [
    "#drop created by column \n",
    "dt_tweets = dt_tweets.drop(['created_at'], axis=1)"
   ]
  },
  {
   "cell_type": "code",
   "execution_count": 173,
   "metadata": {},
   "outputs": [
    {
     "data": {
      "text/html": [
       "<div>\n",
       "<style scoped>\n",
       "    .dataframe tbody tr th:only-of-type {\n",
       "        vertical-align: middle;\n",
       "    }\n",
       "\n",
       "    .dataframe tbody tr th {\n",
       "        vertical-align: top;\n",
       "    }\n",
       "\n",
       "    .dataframe thead th {\n",
       "        text-align: right;\n",
       "    }\n",
       "</style>\n",
       "<table border=\"1\" class=\"dataframe\">\n",
       "  <thead>\n",
       "    <tr style=\"text-align: right;\">\n",
       "      <th></th>\n",
       "      <th>text</th>\n",
       "      <th>date</th>\n",
       "    </tr>\n",
       "  </thead>\n",
       "  <tbody>\n",
       "    <tr>\n",
       "      <th>0</th>\n",
       "      <td>Busy week planned with a heavy focus on jobs and national security Top executives coming in at 9 00 A M to talk manufacturing in America</td>\n",
       "      <td>2017-01-23</td>\n",
       "    </tr>\n",
       "    <tr>\n",
       "      <th>1</th>\n",
       "      <td>Will be meeting at 9 00 with top automobile executives concerning jobs in America I want new plants to be built here for cars sold here</td>\n",
       "      <td>2017-01-24</td>\n",
       "    </tr>\n",
       "    <tr>\n",
       "      <th>2</th>\n",
       "      <td>A photo delivered yesterday that will be displayed in the upper lower press hall Thank you Abbas</td>\n",
       "      <td>2017-01-24</td>\n",
       "    </tr>\n",
       "    <tr>\n",
       "      <th>3</th>\n",
       "      <td>Great meeting with automobile industry leaders at the this morning Together we will MAGA</td>\n",
       "      <td>2017-01-24</td>\n",
       "    </tr>\n",
       "    <tr>\n",
       "      <th>4</th>\n",
       "      <td>Signing orders to move forward with the construction of the Keystone XL and Dakota Access pipelines in the Oval Off</td>\n",
       "      <td>2017-01-24</td>\n",
       "    </tr>\n",
       "    <tr>\n",
       "      <th>5</th>\n",
       "      <td>Great meeting with Ford CEO Mark Fields and General Motors CEO Mary Barra at the today</td>\n",
       "      <td>2017-01-25</td>\n",
       "    </tr>\n",
       "    <tr>\n",
       "      <th>6</th>\n",
       "      <td>Congratulations to for being number one in inauguration ratings They were many times higher than FAKE NEWS public is smart</td>\n",
       "      <td>2017-01-25</td>\n",
       "    </tr>\n",
       "    <tr>\n",
       "      <th>7</th>\n",
       "      <td>If Chicago doesn t fix the horrible carnage going on 228 shootings in 2017 with 42 killings up 24 from 2016 I will send in the Feds</td>\n",
       "      <td>2017-01-25</td>\n",
       "    </tr>\n",
       "    <tr>\n",
       "      <th>8</th>\n",
       "      <td>Big day planned on NATIONAL SECURITY tomorrow Among many other things we will build the wall</td>\n",
       "      <td>2017-01-25</td>\n",
       "    </tr>\n",
       "    <tr>\n",
       "      <th>9</th>\n",
       "      <td>I will be asking for a major investigation into VOTER FRAUD including those registered to vote in two states those who are illegal and</td>\n",
       "      <td>2017-01-25</td>\n",
       "    </tr>\n",
       "  </tbody>\n",
       "</table>\n",
       "</div>"
      ],
      "text/plain": [
       "                                                                                                                                       text  \\\n",
       "0  Busy week planned with a heavy focus on jobs and national security Top executives coming in at 9 00 A M to talk manufacturing in America   \n",
       "1  Will be meeting at 9 00 with top automobile executives concerning jobs in America I want new plants to be built here for cars sold here    \n",
       "2  A photo delivered yesterday that will be displayed in the upper lower press hall Thank you Abbas                                           \n",
       "3  Great meeting with automobile industry leaders at the this morning Together we will MAGA                                                   \n",
       "4  Signing orders to move forward with the construction of the Keystone XL and Dakota Access pipelines in the Oval Off                        \n",
       "5  Great meeting with Ford CEO Mark Fields and General Motors CEO Mary Barra at the today                                                     \n",
       "6  Congratulations to for being number one in inauguration ratings They were many times higher than FAKE NEWS public is smart                 \n",
       "7  If Chicago doesn t fix the horrible carnage going on 228 shootings in 2017 with 42 killings up 24 from 2016 I will send in the Feds        \n",
       "8  Big day planned on NATIONAL SECURITY tomorrow Among many other things we will build the wall                                               \n",
       "9  I will be asking for a major investigation into VOTER FRAUD including those registered to vote in two states those who are illegal and     \n",
       "\n",
       "         date  \n",
       "0  2017-01-23  \n",
       "1  2017-01-24  \n",
       "2  2017-01-24  \n",
       "3  2017-01-24  \n",
       "4  2017-01-24  \n",
       "5  2017-01-25  \n",
       "6  2017-01-25  \n",
       "7  2017-01-25  \n",
       "8  2017-01-25  \n",
       "9  2017-01-25  "
      ]
     },
     "execution_count": 173,
     "metadata": {},
     "output_type": "execute_result"
    }
   ],
   "source": [
    "dt_tweets.head(10)"
   ]
  },
  {
   "cell_type": "markdown",
   "metadata": {},
   "source": [
    "**Sentiment Analysis**"
   ]
  },
  {
   "cell_type": "code",
   "execution_count": 131,
   "metadata": {},
   "outputs": [],
   "source": [
    "analyzer = SentimentIntensityAnalyzer()\n",
    "sentiment = dt_tweets['text'].apply(lambda x: analyzer.polarity_scores(x))"
   ]
  },
  {
   "cell_type": "code",
   "execution_count": 132,
   "metadata": {},
   "outputs": [],
   "source": [
    "dt_tweets=pd.concat([dt_tweets,sentiment.apply(pd.Series)],1)"
   ]
  },
  {
   "cell_type": "code",
   "execution_count": 133,
   "metadata": {},
   "outputs": [
    {
     "data": {
      "text/html": [
       "<div>\n",
       "<style scoped>\n",
       "    .dataframe tbody tr th:only-of-type {\n",
       "        vertical-align: middle;\n",
       "    }\n",
       "\n",
       "    .dataframe tbody tr th {\n",
       "        vertical-align: top;\n",
       "    }\n",
       "\n",
       "    .dataframe thead th {\n",
       "        text-align: right;\n",
       "    }\n",
       "</style>\n",
       "<table border=\"1\" class=\"dataframe\">\n",
       "  <thead>\n",
       "    <tr style=\"text-align: right;\">\n",
       "      <th></th>\n",
       "      <th>text</th>\n",
       "      <th>neg</th>\n",
       "      <th>neu</th>\n",
       "      <th>pos</th>\n",
       "      <th>compound</th>\n",
       "    </tr>\n",
       "    <tr>\n",
       "      <th>created_at</th>\n",
       "      <th></th>\n",
       "      <th></th>\n",
       "      <th></th>\n",
       "      <th></th>\n",
       "      <th></th>\n",
       "    </tr>\n",
       "  </thead>\n",
       "  <tbody>\n",
       "    <tr>\n",
       "      <th>2017-01-23 11:38:16</th>\n",
       "      <td>Busy week planned with a heavy focus on jobs and national security Top executives coming in at 9 00 A M to talk manufacturing in America</td>\n",
       "      <td>0.000</td>\n",
       "      <td>0.826</td>\n",
       "      <td>0.174</td>\n",
       "      <td>0.4939</td>\n",
       "    </tr>\n",
       "    <tr>\n",
       "      <th>2017-01-24 11:11:47</th>\n",
       "      <td>Will be meeting at 9 00 with top automobile executives concerning jobs in America I want new plants to be built here for cars sold here</td>\n",
       "      <td>0.000</td>\n",
       "      <td>0.876</td>\n",
       "      <td>0.124</td>\n",
       "      <td>0.2732</td>\n",
       "    </tr>\n",
       "    <tr>\n",
       "      <th>2017-01-24 16:58:06</th>\n",
       "      <td>A photo delivered yesterday that will be displayed in the upper lower press hall Thank you Abbas</td>\n",
       "      <td>0.118</td>\n",
       "      <td>0.749</td>\n",
       "      <td>0.134</td>\n",
       "      <td>0.0772</td>\n",
       "    </tr>\n",
       "    <tr>\n",
       "      <th>2017-01-24 17:04:01</th>\n",
       "      <td>Great meeting with automobile industry leaders at the this morning Together we will MAGA</td>\n",
       "      <td>0.000</td>\n",
       "      <td>0.760</td>\n",
       "      <td>0.240</td>\n",
       "      <td>0.6249</td>\n",
       "    </tr>\n",
       "    <tr>\n",
       "      <th>2017-01-24 17:49:17</th>\n",
       "      <td>Signing orders to move forward with the construction of the Keystone XL and Dakota Access pipelines in the Oval Off</td>\n",
       "      <td>0.000</td>\n",
       "      <td>1.000</td>\n",
       "      <td>0.000</td>\n",
       "      <td>0.0000</td>\n",
       "    </tr>\n",
       "    <tr>\n",
       "      <th>2017-01-25 00:46:57</th>\n",
       "      <td>Great meeting with Ford CEO Mark Fields and General Motors CEO Mary Barra at the today</td>\n",
       "      <td>0.000</td>\n",
       "      <td>0.785</td>\n",
       "      <td>0.215</td>\n",
       "      <td>0.6249</td>\n",
       "    </tr>\n",
       "    <tr>\n",
       "      <th>2017-01-25 02:16:19</th>\n",
       "      <td>Congratulations to for being number one in inauguration ratings They were many times higher than FAKE NEWS public is smart</td>\n",
       "      <td>0.138</td>\n",
       "      <td>0.577</td>\n",
       "      <td>0.285</td>\n",
       "      <td>0.4708</td>\n",
       "    </tr>\n",
       "    <tr>\n",
       "      <th>2017-01-25 02:25:40</th>\n",
       "      <td>If Chicago doesn t fix the horrible carnage going on 228 shootings in 2017 with 42 killings up 24 from 2016 I will send in the Feds</td>\n",
       "      <td>0.258</td>\n",
       "      <td>0.742</td>\n",
       "      <td>0.000</td>\n",
       "      <td>-0.8402</td>\n",
       "    </tr>\n",
       "    <tr>\n",
       "      <th>2017-01-25 02:37:48</th>\n",
       "      <td>Big day planned on NATIONAL SECURITY tomorrow Among many other things we will build the wall</td>\n",
       "      <td>0.000</td>\n",
       "      <td>0.827</td>\n",
       "      <td>0.173</td>\n",
       "      <td>0.4824</td>\n",
       "    </tr>\n",
       "    <tr>\n",
       "      <th>2017-01-25 12:10:01</th>\n",
       "      <td>I will be asking for a major investigation into VOTER FRAUD including those registered to vote in two states those who are illegal and</td>\n",
       "      <td>0.289</td>\n",
       "      <td>0.711</td>\n",
       "      <td>0.000</td>\n",
       "      <td>-0.8455</td>\n",
       "    </tr>\n",
       "  </tbody>\n",
       "</table>\n",
       "</div>"
      ],
      "text/plain": [
       "                                                                                                                                                         text  \\\n",
       "created_at                                                                                                                                                      \n",
       "2017-01-23 11:38:16  Busy week planned with a heavy focus on jobs and national security Top executives coming in at 9 00 A M to talk manufacturing in America   \n",
       "2017-01-24 11:11:47  Will be meeting at 9 00 with top automobile executives concerning jobs in America I want new plants to be built here for cars sold here    \n",
       "2017-01-24 16:58:06  A photo delivered yesterday that will be displayed in the upper lower press hall Thank you Abbas                                           \n",
       "2017-01-24 17:04:01  Great meeting with automobile industry leaders at the this morning Together we will MAGA                                                   \n",
       "2017-01-24 17:49:17  Signing orders to move forward with the construction of the Keystone XL and Dakota Access pipelines in the Oval Off                        \n",
       "2017-01-25 00:46:57  Great meeting with Ford CEO Mark Fields and General Motors CEO Mary Barra at the today                                                     \n",
       "2017-01-25 02:16:19  Congratulations to for being number one in inauguration ratings They were many times higher than FAKE NEWS public is smart                 \n",
       "2017-01-25 02:25:40  If Chicago doesn t fix the horrible carnage going on 228 shootings in 2017 with 42 killings up 24 from 2016 I will send in the Feds        \n",
       "2017-01-25 02:37:48  Big day planned on NATIONAL SECURITY tomorrow Among many other things we will build the wall                                               \n",
       "2017-01-25 12:10:01  I will be asking for a major investigation into VOTER FRAUD including those registered to vote in two states those who are illegal and     \n",
       "\n",
       "                       neg    neu    pos  compound  \n",
       "created_at                                          \n",
       "2017-01-23 11:38:16  0.000  0.826  0.174  0.4939    \n",
       "2017-01-24 11:11:47  0.000  0.876  0.124  0.2732    \n",
       "2017-01-24 16:58:06  0.118  0.749  0.134  0.0772    \n",
       "2017-01-24 17:04:01  0.000  0.760  0.240  0.6249    \n",
       "2017-01-24 17:49:17  0.000  1.000  0.000  0.0000    \n",
       "2017-01-25 00:46:57  0.000  0.785  0.215  0.6249    \n",
       "2017-01-25 02:16:19  0.138  0.577  0.285  0.4708    \n",
       "2017-01-25 02:25:40  0.258  0.742  0.000 -0.8402    \n",
       "2017-01-25 02:37:48  0.000  0.827  0.173  0.4824    \n",
       "2017-01-25 12:10:01  0.289  0.711  0.000 -0.8455    "
      ]
     },
     "execution_count": 133,
     "metadata": {},
     "output_type": "execute_result"
    }
   ],
   "source": [
    "dt_tweets.head(10)"
   ]
  },
  {
   "cell_type": "markdown",
   "metadata": {},
   "source": [
    "**Categorizing Tweets**"
   ]
  },
  {
   "cell_type": "code",
   "execution_count": 134,
   "metadata": {},
   "outputs": [],
   "source": [
    "dt_tweets['sentiment'] = np.where(dt_tweets['compound']<0, 'negative', 'positive')\n",
    "        "
   ]
  },
  {
   "cell_type": "code",
   "execution_count": 135,
   "metadata": {},
   "outputs": [],
   "source": [
    "sentiment_count = dt_tweets.groupby('sentiment').size()"
   ]
  },
  {
   "cell_type": "code",
   "execution_count": 140,
   "metadata": {},
   "outputs": [],
   "source": [
    "dt_tweets['neg_dv'] = np.where(dt_tweets['compound']<0, 1, 0)"
   ]
  },
  {
   "cell_type": "code",
   "execution_count": 141,
   "metadata": {},
   "outputs": [
    {
     "data": {
      "text/html": [
       "<div>\n",
       "<style scoped>\n",
       "    .dataframe tbody tr th:only-of-type {\n",
       "        vertical-align: middle;\n",
       "    }\n",
       "\n",
       "    .dataframe tbody tr th {\n",
       "        vertical-align: top;\n",
       "    }\n",
       "\n",
       "    .dataframe thead th {\n",
       "        text-align: right;\n",
       "    }\n",
       "</style>\n",
       "<table border=\"1\" class=\"dataframe\">\n",
       "  <thead>\n",
       "    <tr style=\"text-align: right;\">\n",
       "      <th></th>\n",
       "      <th>text</th>\n",
       "      <th>neg</th>\n",
       "      <th>neu</th>\n",
       "      <th>pos</th>\n",
       "      <th>compound</th>\n",
       "      <th>sentiment</th>\n",
       "      <th>neg_dv</th>\n",
       "    </tr>\n",
       "    <tr>\n",
       "      <th>created_at</th>\n",
       "      <th></th>\n",
       "      <th></th>\n",
       "      <th></th>\n",
       "      <th></th>\n",
       "      <th></th>\n",
       "      <th></th>\n",
       "      <th></th>\n",
       "    </tr>\n",
       "  </thead>\n",
       "  <tbody>\n",
       "    <tr>\n",
       "      <th>2019-01-19 02:23:46</th>\n",
       "      <td>RT By the time their fake news campaigns are fully exposed they ve already moved on to their next fake news campaign A g</td>\n",
       "      <td>0.291</td>\n",
       "      <td>0.709</td>\n",
       "      <td>0.000</td>\n",
       "      <td>-0.7778</td>\n",
       "      <td>negative</td>\n",
       "      <td>1</td>\n",
       "    </tr>\n",
       "    <tr>\n",
       "      <th>2019-01-19 03:02:50</th>\n",
       "      <td>Remember it was Buzzfeed that released the totally discredited Dossier paid for by Crooked Hillary Clinton and the Democrats as opposition research on which the entire Russian probe is based A very sad day for journalism but a great day for our Country</td>\n",
       "      <td>0.090</td>\n",
       "      <td>0.793</td>\n",
       "      <td>0.118</td>\n",
       "      <td>0.5199</td>\n",
       "      <td>positive</td>\n",
       "      <td>0</td>\n",
       "    </tr>\n",
       "    <tr>\n",
       "      <th>2019-01-19 03:22:29</th>\n",
       "      <td>RT At what point in fairness after 2 years do Americans of good will say enough already If the SpecialCounsel had collusi</td>\n",
       "      <td>0.000</td>\n",
       "      <td>0.873</td>\n",
       "      <td>0.127</td>\n",
       "      <td>0.4404</td>\n",
       "      <td>positive</td>\n",
       "      <td>0</td>\n",
       "    </tr>\n",
       "    <tr>\n",
       "      <th>2019-01-19 03:22:44</th>\n",
       "      <td>RT This is just the most egregious example of the rampant unfairness that has tainted this partisan witch hunt from the beg</td>\n",
       "      <td>0.106</td>\n",
       "      <td>0.894</td>\n",
       "      <td>0.000</td>\n",
       "      <td>-0.3612</td>\n",
       "      <td>negative</td>\n",
       "      <td>1</td>\n",
       "    </tr>\n",
       "    <tr>\n",
       "      <th>2019-01-19 03:24:49</th>\n",
       "      <td>Fake News is truly the ENEMY OF THE PEOPLE</td>\n",
       "      <td>0.452</td>\n",
       "      <td>0.370</td>\n",
       "      <td>0.179</td>\n",
       "      <td>-0.6633</td>\n",
       "      <td>negative</td>\n",
       "      <td>1</td>\n",
       "    </tr>\n",
       "  </tbody>\n",
       "</table>\n",
       "</div>"
      ],
      "text/plain": [
       "                                                                                                                                                                                                                                                                             text  \\\n",
       "created_at                                                                                                                                                                                                                                                                          \n",
       "2019-01-19 02:23:46  RT By the time their fake news campaigns are fully exposed they ve already moved on to their next fake news campaign A g                                                                                                                                       \n",
       "2019-01-19 03:02:50  Remember it was Buzzfeed that released the totally discredited Dossier paid for by Crooked Hillary Clinton and the Democrats as opposition research on which the entire Russian probe is based A very sad day for journalism but a great day for our Country   \n",
       "2019-01-19 03:22:29  RT At what point in fairness after 2 years do Americans of good will say enough already If the SpecialCounsel had collusi                                                                                                                                      \n",
       "2019-01-19 03:22:44  RT This is just the most egregious example of the rampant unfairness that has tainted this partisan witch hunt from the beg                                                                                                                                    \n",
       "2019-01-19 03:24:49  Fake News is truly the ENEMY OF THE PEOPLE                                                                                                                                                                                                                     \n",
       "\n",
       "                       neg    neu    pos  compound sentiment  neg_dv  \n",
       "created_at                                                            \n",
       "2019-01-19 02:23:46  0.291  0.709  0.000 -0.7778    negative  1       \n",
       "2019-01-19 03:02:50  0.090  0.793  0.118  0.5199    positive  0       \n",
       "2019-01-19 03:22:29  0.000  0.873  0.127  0.4404    positive  0       \n",
       "2019-01-19 03:22:44  0.106  0.894  0.000 -0.3612    negative  1       \n",
       "2019-01-19 03:24:49  0.452  0.370  0.179 -0.6633    negative  1       "
      ]
     },
     "execution_count": 141,
     "metadata": {},
     "output_type": "execute_result"
    }
   ],
   "source": [
    "dt_tweets.tail(5)"
   ]
  },
  {
   "cell_type": "code",
   "execution_count": 142,
   "metadata": {},
   "outputs": [],
   "source": [
    "#save dataframe as pickle file\n",
    "\n",
    "with open('dt_tweets.pickle', 'wb') as to_write:\n",
    "    pickle.dump(dt_tweets, to_write)"
   ]
  },
  {
   "cell_type": "code",
   "execution_count": null,
   "metadata": {},
   "outputs": [],
   "source": []
  }
 ],
 "metadata": {
  "kernelspec": {
   "display_name": "Python 3",
   "language": "python",
   "name": "python3"
  },
  "language_info": {
   "codemirror_mode": {
    "name": "ipython",
    "version": 3
   },
   "file_extension": ".py",
   "mimetype": "text/x-python",
   "name": "python",
   "nbconvert_exporter": "python",
   "pygments_lexer": "ipython3",
   "version": "3.7.2"
  }
 },
 "nbformat": 4,
 "nbformat_minor": 2
}
