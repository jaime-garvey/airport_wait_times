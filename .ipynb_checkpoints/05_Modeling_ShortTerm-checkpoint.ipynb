{
 "cells": [
  {
   "cell_type": "code",
   "execution_count": 75,
   "metadata": {},
   "outputs": [],
   "source": [
    "import pandas as pd\n",
    "import numpy as np\n",
    "import re\n",
    "from vaderSentiment.vaderSentiment import SentimentIntensityAnalyzer\n",
    "import datetime\n",
    "\n",
    "import statsmodels.api as sm\n",
    "\n",
    "import matplotlib.pyplot as plt\n",
    "import mpl_finance\n",
    "\n",
    "from pandas_datareader import data as pdr\n",
    "import fix_yahoo_finance\n",
    "\n",
    "import pickle\n"
   ]
  },
  {
   "cell_type": "code",
   "execution_count": 2,
   "metadata": {},
   "outputs": [],
   "source": [
    "dt_tweets = pd.read_csv('data/trump_tweets_16.txt')"
   ]
  },
  {
   "cell_type": "code",
   "execution_count": 3,
   "metadata": {},
   "outputs": [],
   "source": [
    "dt_tweets = dt_tweets.set_index('created_at')"
   ]
  },
  {
   "cell_type": "code",
   "execution_count": 4,
   "metadata": {},
   "outputs": [],
   "source": [
    "pd.set_option('display.max_colwidth',-1)  "
   ]
  },
  {
   "cell_type": "markdown",
   "metadata": {},
   "source": [
    "# Cleaning"
   ]
  },
  {
   "cell_type": "code",
   "execution_count": 5,
   "metadata": {},
   "outputs": [
    {
     "data": {
      "text/html": [
       "<div>\n",
       "<style scoped>\n",
       "    .dataframe tbody tr th:only-of-type {\n",
       "        vertical-align: middle;\n",
       "    }\n",
       "\n",
       "    .dataframe tbody tr th {\n",
       "        vertical-align: top;\n",
       "    }\n",
       "\n",
       "    .dataframe thead th {\n",
       "        text-align: right;\n",
       "    }\n",
       "</style>\n",
       "<table border=\"1\" class=\"dataframe\">\n",
       "  <thead>\n",
       "    <tr style=\"text-align: right;\">\n",
       "      <th></th>\n",
       "      <th>source</th>\n",
       "      <th>text</th>\n",
       "      <th>retweet_count</th>\n",
       "      <th>favorite_count</th>\n",
       "      <th>is_retweet</th>\n",
       "      <th>id_str</th>\n",
       "    </tr>\n",
       "    <tr>\n",
       "      <th>created_at</th>\n",
       "      <th></th>\n",
       "      <th></th>\n",
       "      <th></th>\n",
       "      <th></th>\n",
       "      <th></th>\n",
       "      <th></th>\n",
       "    </tr>\n",
       "  </thead>\n",
       "  <tbody>\n",
       "    <tr>\n",
       "      <th>01-24-2019 16:16:03</th>\n",
       "      <td>Twitter for iPhone</td>\n",
       "      <td>Nancy just said she “just doesn’t understand why?” Very simply without a Wall it all doesn’t work. Our Country has a chance to greatly reduce Crime Human Trafficking Gangs and Drugs. Should have been done for decades. We will not Cave!</td>\n",
       "      <td>24896</td>\n",
       "      <td>104385</td>\n",
       "      <td>False</td>\n",
       "      <td>1088470495312400384</td>\n",
       "    </tr>\n",
       "    <tr>\n",
       "      <th>01-24-2019 13:37:59</th>\n",
       "      <td>Twitter for iPhone</td>\n",
       "      <td>Without a Wall there cannot be safety and security at the Border or for the U.S.A. BUILD THE WALL AND CRIME WILL FALL!</td>\n",
       "      <td>21673</td>\n",
       "      <td>95221</td>\n",
       "      <td>False</td>\n",
       "      <td>1088430717611245571</td>\n",
       "    </tr>\n",
       "  </tbody>\n",
       "</table>\n",
       "</div>"
      ],
      "text/plain": [
       "                                 source  \\\n",
       "created_at                                \n",
       "01-24-2019 16:16:03  Twitter for iPhone   \n",
       "01-24-2019 13:37:59  Twitter for iPhone   \n",
       "\n",
       "                                                                                                                                                                                                                                                            text  \\\n",
       "created_at                                                                                                                                                                                                                                                         \n",
       "01-24-2019 16:16:03  Nancy just said she “just doesn’t understand why?” Very simply without a Wall it all doesn’t work. Our Country has a chance to greatly reduce Crime Human Trafficking Gangs and Drugs. Should have been done for decades. We will not Cave!   \n",
       "01-24-2019 13:37:59  Without a Wall there cannot be safety and security at the Border or for the U.S.A. BUILD THE WALL AND CRIME WILL FALL!                                                                                                                        \n",
       "\n",
       "                     retweet_count  favorite_count is_retweet  \\\n",
       "created_at                                                      \n",
       "01-24-2019 16:16:03  24896          104385          False       \n",
       "01-24-2019 13:37:59  21673          95221           False       \n",
       "\n",
       "                                  id_str  \n",
       "created_at                                \n",
       "01-24-2019 16:16:03  1088470495312400384  \n",
       "01-24-2019 13:37:59  1088430717611245571  "
      ]
     },
     "execution_count": 5,
     "metadata": {},
     "output_type": "execute_result"
    }
   ],
   "source": [
    "dt_tweets.head(2)"
   ]
  },
  {
   "cell_type": "code",
   "execution_count": 6,
   "metadata": {},
   "outputs": [],
   "source": [
    "def clean_tweet(tweet): \n",
    "        ''' \n",
    "        Utility function to clean tweet text by removing links, special characters \n",
    "        using simple regex statements. \n",
    "        '''\n",
    "        return ' '.join(re.sub(\"([^0-9A-Za-z \\t])|(\\w+:\\/\\/\\S+)\", \" \", tweet).split()) "
   ]
  },
  {
   "cell_type": "code",
   "execution_count": 7,
   "metadata": {},
   "outputs": [],
   "source": [
    "dt_tweets['text'] = dt_tweets['text'].apply(lambda x: clean_tweet(x))"
   ]
  },
  {
   "cell_type": "code",
   "execution_count": 8,
   "metadata": {},
   "outputs": [],
   "source": [
    "dt_tweets16 = dt_tweets.drop(['source', 'id_str', 'retweet_count', 'favorite_count', 'is_retweet'], axis=1)"
   ]
  },
  {
   "cell_type": "code",
   "execution_count": 9,
   "metadata": {},
   "outputs": [
    {
     "data": {
      "text/html": [
       "<div>\n",
       "<style scoped>\n",
       "    .dataframe tbody tr th:only-of-type {\n",
       "        vertical-align: middle;\n",
       "    }\n",
       "\n",
       "    .dataframe tbody tr th {\n",
       "        vertical-align: top;\n",
       "    }\n",
       "\n",
       "    .dataframe thead th {\n",
       "        text-align: right;\n",
       "    }\n",
       "</style>\n",
       "<table border=\"1\" class=\"dataframe\">\n",
       "  <thead>\n",
       "    <tr style=\"text-align: right;\">\n",
       "      <th></th>\n",
       "      <th>text</th>\n",
       "    </tr>\n",
       "    <tr>\n",
       "      <th>created_at</th>\n",
       "      <th></th>\n",
       "    </tr>\n",
       "  </thead>\n",
       "  <tbody>\n",
       "    <tr>\n",
       "      <th>01-24-2019 16:16:03</th>\n",
       "      <td>Nancy just said she just doesn t understand why Very simply without a Wall it all doesn t work Our Country has a chance to greatly reduce Crime Human Trafficking Gangs and Drugs Should have been done for decades We will not Cave</td>\n",
       "    </tr>\n",
       "    <tr>\n",
       "      <th>01-24-2019 13:37:59</th>\n",
       "      <td>Without a Wall there cannot be safety and security at the Border or for the U S A BUILD THE WALL AND CRIME WILL FALL</td>\n",
       "    </tr>\n",
       "    <tr>\n",
       "      <th>01-24-2019 13:34:26</th>\n",
       "      <td>back home where they belong no more Rockets or M s being fired over Japan or anywhere else and most importantly no Nuclear Testing This is more than has ever been accomplished with North Korea and the Fake News knows it I expect another good meeting soon much potential</td>\n",
       "    </tr>\n",
       "    <tr>\n",
       "      <th>01-24-2019 13:21:59</th>\n",
       "      <td>The Fake News Media loves saying so little happened at my first summit with Kim Jong Un Wrong After 40 years of doing nothing with North Korea but being taken to the cleaners amp with a major war ready to start in a short 15 months relationships built hostages amp remains</td>\n",
       "    </tr>\n",
       "    <tr>\n",
       "      <th>01-24-2019 12:48:32</th>\n",
       "      <td>So interesting that bad lawyer Michael Cohen who sadly will not be testifying before Congress is using the lawyer of Crooked Hillary Clinton to represent him Gee how did that happen Remember July 4th weekend when Crooked went before FBI amp wasn t sworn in no tape nothing</td>\n",
       "    </tr>\n",
       "  </tbody>\n",
       "</table>\n",
       "</div>"
      ],
      "text/plain": [
       "                                                                                                                                                                                                                                                                                                 text\n",
       "created_at                                                                                                                                                                                                                                                                                           \n",
       "01-24-2019 16:16:03  Nancy just said she just doesn t understand why Very simply without a Wall it all doesn t work Our Country has a chance to greatly reduce Crime Human Trafficking Gangs and Drugs Should have been done for decades We will not Cave                                            \n",
       "01-24-2019 13:37:59  Without a Wall there cannot be safety and security at the Border or for the U S A BUILD THE WALL AND CRIME WILL FALL                                                                                                                                                            \n",
       "01-24-2019 13:34:26  back home where they belong no more Rockets or M s being fired over Japan or anywhere else and most importantly no Nuclear Testing This is more than has ever been accomplished with North Korea and the Fake News knows it I expect another good meeting soon much potential   \n",
       "01-24-2019 13:21:59  The Fake News Media loves saying so little happened at my first summit with Kim Jong Un Wrong After 40 years of doing nothing with North Korea but being taken to the cleaners amp with a major war ready to start in a short 15 months relationships built hostages amp remains\n",
       "01-24-2019 12:48:32  So interesting that bad lawyer Michael Cohen who sadly will not be testifying before Congress is using the lawyer of Crooked Hillary Clinton to represent him Gee how did that happen Remember July 4th weekend when Crooked went before FBI amp wasn t sworn in no tape nothing"
      ]
     },
     "execution_count": 9,
     "metadata": {},
     "output_type": "execute_result"
    }
   ],
   "source": [
    "dt_tweets16.head(5)"
   ]
  },
  {
   "cell_type": "code",
   "execution_count": 10,
   "metadata": {},
   "outputs": [],
   "source": [
    "#Change date object to datetime\n",
    "dt_tweets16.index = pd.to_datetime(dt_tweets16.index)"
   ]
  },
  {
   "cell_type": "code",
   "execution_count": 11,
   "metadata": {},
   "outputs": [],
   "source": [
    "dt_tweets16['text'] = dt_tweets16['text'].apply(lambda x: clean_tweet(x))"
   ]
  },
  {
   "cell_type": "code",
   "execution_count": 12,
   "metadata": {},
   "outputs": [],
   "source": [
    "dt_tweets16['text'] = dt_tweets16['text'].apply(lambda x: x.lower())"
   ]
  },
  {
   "cell_type": "code",
   "execution_count": 13,
   "metadata": {},
   "outputs": [
    {
     "data": {
      "text/html": [
       "<div>\n",
       "<style scoped>\n",
       "    .dataframe tbody tr th:only-of-type {\n",
       "        vertical-align: middle;\n",
       "    }\n",
       "\n",
       "    .dataframe tbody tr th {\n",
       "        vertical-align: top;\n",
       "    }\n",
       "\n",
       "    .dataframe thead th {\n",
       "        text-align: right;\n",
       "    }\n",
       "</style>\n",
       "<table border=\"1\" class=\"dataframe\">\n",
       "  <thead>\n",
       "    <tr style=\"text-align: right;\">\n",
       "      <th></th>\n",
       "      <th>text</th>\n",
       "    </tr>\n",
       "    <tr>\n",
       "      <th>created_at</th>\n",
       "      <th></th>\n",
       "    </tr>\n",
       "  </thead>\n",
       "  <tbody>\n",
       "    <tr>\n",
       "      <th>2019-01-24 16:16:03</th>\n",
       "      <td>nancy just said she just doesn t understand why very simply without a wall it all doesn t work our country has a chance to greatly reduce crime human trafficking gangs and drugs should have been done for decades we will not cave</td>\n",
       "    </tr>\n",
       "    <tr>\n",
       "      <th>2019-01-24 13:37:59</th>\n",
       "      <td>without a wall there cannot be safety and security at the border or for the u s a build the wall and crime will fall</td>\n",
       "    </tr>\n",
       "    <tr>\n",
       "      <th>2019-01-24 13:34:26</th>\n",
       "      <td>back home where they belong no more rockets or m s being fired over japan or anywhere else and most importantly no nuclear testing this is more than has ever been accomplished with north korea and the fake news knows it i expect another good meeting soon much potential</td>\n",
       "    </tr>\n",
       "    <tr>\n",
       "      <th>2019-01-24 13:21:59</th>\n",
       "      <td>the fake news media loves saying so little happened at my first summit with kim jong un wrong after 40 years of doing nothing with north korea but being taken to the cleaners amp with a major war ready to start in a short 15 months relationships built hostages amp remains</td>\n",
       "    </tr>\n",
       "    <tr>\n",
       "      <th>2019-01-24 12:48:32</th>\n",
       "      <td>so interesting that bad lawyer michael cohen who sadly will not be testifying before congress is using the lawyer of crooked hillary clinton to represent him gee how did that happen remember july 4th weekend when crooked went before fbi amp wasn t sworn in no tape nothing</td>\n",
       "    </tr>\n",
       "    <tr>\n",
       "      <th>2019-01-24 11:56:31</th>\n",
       "      <td>the economy is doing great more people working in u s a today than at any time in our history media barely covers foxandfriends</td>\n",
       "    </tr>\n",
       "    <tr>\n",
       "      <th>2019-01-24 11:51:52</th>\n",
       "      <td>this is everything fdr dreamed about the new deal to put america back to work think of lbj he gave people food stamps amp welfare donald trump s giving them a job he s got a lot of good things to talk about news stories do not accurately cover him should correct dougwead</td>\n",
       "    </tr>\n",
       "    <tr>\n",
       "      <th>2019-01-24 11:35:48</th>\n",
       "      <td>a great new book just out game of thorns by doug wead presidential historian and best selling author the book covers the campaign of 2016 and what could be more exciting than that</td>\n",
       "    </tr>\n",
       "    <tr>\n",
       "      <th>2019-01-24 04:18:30</th>\n",
       "      <td>alternative venue for the sotu address because there is no venue that can compete with the history tradition and importance of the house chamber i look forward to giving a great state of the union address in the near future</td>\n",
       "    </tr>\n",
       "    <tr>\n",
       "      <th>2019-01-24 04:12:07</th>\n",
       "      <td>as the shutdown was going on nancy pelosi asked me to give the state of the union address i agreed she then changed her mind because of the shutdown suggesting a later date this is her prerogative i will do the address when the shutdown is over i am not looking for an</td>\n",
       "    </tr>\n",
       "  </tbody>\n",
       "</table>\n",
       "</div>"
      ],
      "text/plain": [
       "                                                                                                                                                                                                                                                                                                 text\n",
       "created_at                                                                                                                                                                                                                                                                                           \n",
       "2019-01-24 16:16:03  nancy just said she just doesn t understand why very simply without a wall it all doesn t work our country has a chance to greatly reduce crime human trafficking gangs and drugs should have been done for decades we will not cave                                            \n",
       "2019-01-24 13:37:59  without a wall there cannot be safety and security at the border or for the u s a build the wall and crime will fall                                                                                                                                                            \n",
       "2019-01-24 13:34:26  back home where they belong no more rockets or m s being fired over japan or anywhere else and most importantly no nuclear testing this is more than has ever been accomplished with north korea and the fake news knows it i expect another good meeting soon much potential   \n",
       "2019-01-24 13:21:59  the fake news media loves saying so little happened at my first summit with kim jong un wrong after 40 years of doing nothing with north korea but being taken to the cleaners amp with a major war ready to start in a short 15 months relationships built hostages amp remains\n",
       "2019-01-24 12:48:32  so interesting that bad lawyer michael cohen who sadly will not be testifying before congress is using the lawyer of crooked hillary clinton to represent him gee how did that happen remember july 4th weekend when crooked went before fbi amp wasn t sworn in no tape nothing\n",
       "2019-01-24 11:56:31  the economy is doing great more people working in u s a today than at any time in our history media barely covers foxandfriends                                                                                                                                                 \n",
       "2019-01-24 11:51:52  this is everything fdr dreamed about the new deal to put america back to work think of lbj he gave people food stamps amp welfare donald trump s giving them a job he s got a lot of good things to talk about news stories do not accurately cover him should correct dougwead \n",
       "2019-01-24 11:35:48  a great new book just out game of thorns by doug wead presidential historian and best selling author the book covers the campaign of 2016 and what could be more exciting than that                                                                                             \n",
       "2019-01-24 04:18:30  alternative venue for the sotu address because there is no venue that can compete with the history tradition and importance of the house chamber i look forward to giving a great state of the union address in the near future                                                 \n",
       "2019-01-24 04:12:07  as the shutdown was going on nancy pelosi asked me to give the state of the union address i agreed she then changed her mind because of the shutdown suggesting a later date this is her prerogative i will do the address when the shutdown is over i am not looking for an    "
      ]
     },
     "execution_count": 13,
     "metadata": {},
     "output_type": "execute_result"
    }
   ],
   "source": [
    "dt_tweets16.head(10)"
   ]
  },
  {
   "cell_type": "markdown",
   "metadata": {},
   "source": [
    "## Companies"
   ]
  },
  {
   "cell_type": "code",
   "execution_count": 19,
   "metadata": {},
   "outputs": [],
   "source": [
    "companies = ['Ford', 'general motors','United Technologies', 'Rexnord', 'Boeing', 'Softbank','Glenfiddich' 'Lockheed Martin', 'General Motors', 'Toyota', 'Fiat', 'Chrysler', 'Walmart', 'Fiat', 'Chrysler', 'Nordstrom', 'Corning', 'Pfizer', 'Harley Davidson', 'Intel', 'Exxon Mobil', 'Aetna', 'Bayer', 'Carrier', 'SoftBank', 'Comcast', 'Amazon', 'Facebook', 'American Airlines', 'CBS', 'Wells Fargo', 'Disney', 'JP Morgan', 'Banning', 'CNN', 'NBC', 'sony','general dynamics','nfl','nascar','google','holiday inn','nike', 'usatoday','wsj','merck','vanity fair','time magazine','univision', 'goldman sachs','rolling stone','procter gamble','nypost','politico' ' nymag', 'microsoft','koch', 'MSNBC', 'GM', 'Macys', 'Twitter', 'NY Post', 'Fox News', 'Buzzfeed', 'NY Times', 'New York Times', 'Tmobile', 'Washington Post', 'amtrak', 'AOL', 'Verizon', 'Amazon', 'forbes', 'espn','coca cola']"
   ]
  },
  {
   "cell_type": "code",
   "execution_count": 20,
   "metadata": {},
   "outputs": [
    {
     "ename": "TypeError",
     "evalue": "contains() missing 1 required positional argument: 'pat'",
     "output_type": "error",
     "traceback": [
      "\u001b[0;31m---------------------------------------------------------------------------\u001b[0m",
      "\u001b[0;31mTypeError\u001b[0m                                 Traceback (most recent call last)",
      "\u001b[0;32m<ipython-input-20-169b0e303a1a>\u001b[0m in \u001b[0;36m<module>\u001b[0;34m\u001b[0m\n\u001b[0;32m----> 1\u001b[0;31m \u001b[0mcompany_tweet\u001b[0m \u001b[0;34m=\u001b[0m \u001b[0mdt_tweets16\u001b[0m\u001b[0;34m[\u001b[0m\u001b[0mdt_tweets16\u001b[0m\u001b[0;34m[\u001b[0m\u001b[0;34m\"text\"\u001b[0m\u001b[0;34m]\u001b[0m\u001b[0;34m.\u001b[0m\u001b[0mstr\u001b[0m\u001b[0;34m.\u001b[0m\u001b[0mcontains\u001b[0m\u001b[0;34m(\u001b[0m\u001b[0;34m)\u001b[0m\u001b[0;34m]\u001b[0m\u001b[0;34m\u001b[0m\u001b[0;34m\u001b[0m\u001b[0m\n\u001b[0m",
      "\u001b[0;31mTypeError\u001b[0m: contains() missing 1 required positional argument: 'pat'"
     ]
    }
   ],
   "source": [
    "#company_tweet = dt_tweets16[dt_tweets16[\"text\"].str.contains()]"
   ]
  },
  {
   "cell_type": "code",
   "execution_count": 16,
   "metadata": {},
   "outputs": [
    {
     "ename": "NameError",
     "evalue": "name 'company_tweet' is not defined",
     "output_type": "error",
     "traceback": [
      "\u001b[0;31m---------------------------------------------------------------------------\u001b[0m",
      "\u001b[0;31mNameError\u001b[0m                                 Traceback (most recent call last)",
      "\u001b[0;32m<ipython-input-16-39d43e9ea2f7>\u001b[0m in \u001b[0;36m<module>\u001b[0;34m\u001b[0m\n\u001b[0;32m----> 1\u001b[0;31m \u001b[0mcompany_tweet\u001b[0m \u001b[0;34m=\u001b[0m \u001b[0mcompany_tweet\u001b[0m\u001b[0;34m.\u001b[0m\u001b[0mappend\u001b[0m\u001b[0;34m(\u001b[0m\u001b[0mdt_tweets16\u001b[0m\u001b[0;34m[\u001b[0m\u001b[0mdt_tweets16\u001b[0m\u001b[0;34m[\u001b[0m\u001b[0;34m\"text\"\u001b[0m\u001b[0;34m]\u001b[0m\u001b[0;34m.\u001b[0m\u001b[0mstr\u001b[0m\u001b[0;34m.\u001b[0m\u001b[0mcontains\u001b[0m\u001b[0;34m(\u001b[0m\u001b[0;34m'nfl'\u001b[0m\u001b[0;34m)\u001b[0m\u001b[0;34m]\u001b[0m\u001b[0;34m)\u001b[0m\u001b[0;34m\u001b[0m\u001b[0;34m\u001b[0m\u001b[0m\n\u001b[0m",
      "\u001b[0;31mNameError\u001b[0m: name 'company_tweet' is not defined"
     ]
    }
   ],
   "source": [
    "#company_tweet = company_tweet.append(dt_tweets16[dt_tweets16[\"text\"].str.contains('nfl')])"
   ]
  },
  {
   "cell_type": "code",
   "execution_count": 17,
   "metadata": {},
   "outputs": [
    {
     "ename": "NameError",
     "evalue": "name 'company_tweet' is not defined",
     "output_type": "error",
     "traceback": [
      "\u001b[0;31m---------------------------------------------------------------------------\u001b[0m",
      "\u001b[0;31mNameError\u001b[0m                                 Traceback (most recent call last)",
      "\u001b[0;32m<ipython-input-17-034b62bce7e4>\u001b[0m in \u001b[0;36m<module>\u001b[0;34m\u001b[0m\n\u001b[0;32m----> 1\u001b[0;31m \u001b[0mcompany_tweet\u001b[0m\u001b[0;34m.\u001b[0m\u001b[0minfo\u001b[0m\u001b[0;34m(\u001b[0m\u001b[0;34m)\u001b[0m\u001b[0;34m\u001b[0m\u001b[0;34m\u001b[0m\u001b[0m\n\u001b[0m",
      "\u001b[0;31mNameError\u001b[0m: name 'company_tweet' is not defined"
     ]
    }
   ],
   "source": [
    "#company_tweet.info()"
   ]
  },
  {
   "cell_type": "code",
   "execution_count": 21,
   "metadata": {},
   "outputs": [
    {
     "ename": "NameError",
     "evalue": "name 'company_tweet' is not defined",
     "output_type": "error",
     "traceback": [
      "\u001b[0;31m---------------------------------------------------------------------------\u001b[0m",
      "\u001b[0;31mNameError\u001b[0m                                 Traceback (most recent call last)",
      "\u001b[0;32m<ipython-input-21-d9be8870effa>\u001b[0m in \u001b[0;36m<module>\u001b[0;34m\u001b[0m\n\u001b[0;32m----> 1\u001b[0;31m \u001b[0mcompany_tweet\u001b[0m\u001b[0;34m.\u001b[0m\u001b[0mhead\u001b[0m\u001b[0;34m(\u001b[0m\u001b[0;34m)\u001b[0m\u001b[0;34m;\u001b[0m\u001b[0;34m\u001b[0m\u001b[0;34m\u001b[0m\u001b[0m\n\u001b[0m",
      "\u001b[0;31mNameError\u001b[0m: name 'company_tweet' is not defined"
     ]
    }
   ],
   "source": [
    "#company_tweet.head();"
   ]
  },
  {
   "cell_type": "code",
   "execution_count": 21,
   "metadata": {},
   "outputs": [
    {
     "ename": "NameError",
     "evalue": "name 'company_tweet' is not defined",
     "output_type": "error",
     "traceback": [
      "\u001b[0;31m---------------------------------------------------------------------------\u001b[0m",
      "\u001b[0;31mNameError\u001b[0m                                 Traceback (most recent call last)",
      "\u001b[0;32m<ipython-input-21-42af0133f1ea>\u001b[0m in \u001b[0;36m<module>\u001b[0;34m\u001b[0m\n\u001b[1;32m      2\u001b[0m \u001b[0;34m\u001b[0m\u001b[0m\n\u001b[1;32m      3\u001b[0m \u001b[0;32mwith\u001b[0m \u001b[0mopen\u001b[0m\u001b[0;34m(\u001b[0m\u001b[0;34m'company_tweets.pickle'\u001b[0m\u001b[0;34m,\u001b[0m \u001b[0;34m'wb'\u001b[0m\u001b[0;34m)\u001b[0m \u001b[0;32mas\u001b[0m \u001b[0mto_write\u001b[0m\u001b[0;34m:\u001b[0m\u001b[0;34m\u001b[0m\u001b[0;34m\u001b[0m\u001b[0m\n\u001b[0;32m----> 4\u001b[0;31m     \u001b[0mpickle\u001b[0m\u001b[0;34m.\u001b[0m\u001b[0mdump\u001b[0m\u001b[0;34m(\u001b[0m\u001b[0mcompany_tweet\u001b[0m\u001b[0;34m,\u001b[0m \u001b[0mto_write\u001b[0m\u001b[0;34m)\u001b[0m\u001b[0;34m\u001b[0m\u001b[0;34m\u001b[0m\u001b[0m\n\u001b[0m",
      "\u001b[0;31mNameError\u001b[0m: name 'company_tweet' is not defined"
     ]
    }
   ],
   "source": [
    "#save dataframe as pickle file\n",
    "\n",
    "with open('company_tweets.pickle', 'wb') as to_write:\n",
    "    pickle.dump(company_tweet, to_write)"
   ]
  },
  {
   "cell_type": "markdown",
   "metadata": {},
   "source": [
    "Company Tweets"
   ]
  },
  {
   "cell_type": "code",
   "execution_count": 22,
   "metadata": {},
   "outputs": [],
   "source": [
    "tweets_co = pd.read_pickle('data/company_tweets.pickle')"
   ]
  },
  {
   "cell_type": "code",
   "execution_count": 23,
   "metadata": {},
   "outputs": [],
   "source": [
    "tweets_co.index = pd.to_datetime(tweets_co.index)"
   ]
  },
  {
   "cell_type": "code",
   "execution_count": 24,
   "metadata": {},
   "outputs": [],
   "source": [
    "tweets_co = tweets_co.sort_index()"
   ]
  },
  {
   "cell_type": "code",
   "execution_count": 25,
   "metadata": {},
   "outputs": [
    {
     "data": {
      "text/html": [
       "<div>\n",
       "<style scoped>\n",
       "    .dataframe tbody tr th:only-of-type {\n",
       "        vertical-align: middle;\n",
       "    }\n",
       "\n",
       "    .dataframe tbody tr th {\n",
       "        vertical-align: top;\n",
       "    }\n",
       "\n",
       "    .dataframe thead th {\n",
       "        text-align: right;\n",
       "    }\n",
       "</style>\n",
       "<table border=\"1\" class=\"dataframe\">\n",
       "  <thead>\n",
       "    <tr style=\"text-align: right;\">\n",
       "      <th></th>\n",
       "      <th>text</th>\n",
       "    </tr>\n",
       "    <tr>\n",
       "      <th>created_at</th>\n",
       "      <th></th>\n",
       "    </tr>\n",
       "  </thead>\n",
       "  <tbody>\n",
       "    <tr>\n",
       "      <th>2016-01-01 21:29:56</th>\n",
       "      <td>sprinklermanus cnn realdonaldtrump they re spending millions but you re still going to win go donald trump</td>\n",
       "    </tr>\n",
       "    <tr>\n",
       "      <th>2016-01-03 18:13:29</th>\n",
       "      <td>tinahillstrom1 foxnews katrinapierson i love piersmorgan amp realdonaldtrump real men w an opinion exciting interesting controversial 01 03 2016 19 49 18 571 2152 false 683736913631653888 twitter for android ruthmarcus of the washingtonpost was terrible today on face the nation no focus poor level of concentration but correct on hillary lying 01 03 2016 19 03 56 984 3733 false 683725499391164416 twitter for android chucktodd said today on meetthepress that attacking bill to get to hillary has never worked before wrong attacked him in 08 amp won</td>\n",
       "    </tr>\n",
       "    <tr>\n",
       "      <th>2016-01-05 03:36:53</th>\n",
       "      <td>iloveidevices edwinro47796972 happyjack225 foxnews krauthammer minimizing dependency on china is crucial only trump talks about that 01 05 2016 03 39 11 1049 3225 false 684217554861199360 twitter for android salriccobono realdonaldtrump troyconway donald get big business back and make america great again for 2016</td>\n",
       "    </tr>\n",
       "    <tr>\n",
       "      <th>2016-01-05 03:47:14</th>\n",
       "      <td>lilredfrmkokomo realdonaldtrump my facebook groups are all voting trump 4000 people great</td>\n",
       "    </tr>\n",
       "    <tr>\n",
       "      <th>2016-01-06 03:50:46</th>\n",
       "      <td>compresphyllis seanhannity foxnews i am so glad u are for trump your program is my favorite the don is by far the best</td>\n",
       "    </tr>\n",
       "    <tr>\n",
       "      <th>2016-01-06 21:09:42</th>\n",
       "      <td>i will be on wolfblitzer for a cnnsitroom interview today please join us 5pm et</td>\n",
       "    </tr>\n",
       "    <tr>\n",
       "      <th>2016-01-07 11:15:54</th>\n",
       "      <td>macys was one of the worst performing stocks on the s amp p last year plunging 46 very disloyal company another win for trump boycott</td>\n",
       "    </tr>\n",
       "    <tr>\n",
       "      <th>2016-01-07 16:14:38</th>\n",
       "      <td>sentedcruz ted free legal advice on how to pre empt the dems on citizen issue go to court now amp seek declaratory judgment you will win</td>\n",
       "    </tr>\n",
       "    <tr>\n",
       "      <th>2016-01-07 16:14:38</th>\n",
       "      <td>sentedcruz ted free legal advice on how to pre empt the dems on citizen issue go to court now amp seek declaratory judgment you will win</td>\n",
       "    </tr>\n",
       "    <tr>\n",
       "      <th>2016-01-08 23:12:35</th>\n",
       "      <td>foxnews poll thank you makeamericagreatagain trump2016</td>\n",
       "    </tr>\n",
       "    <tr>\n",
       "      <th>2016-01-09 14:22:36</th>\n",
       "      <td>pat buchanan gave a fantastic interview this morning on cnn way to go pat way ahead of your time</td>\n",
       "    </tr>\n",
       "    <tr>\n",
       "      <th>2016-01-09 17:56:06</th>\n",
       "      <td>1 2 time magazine has me on the cover this week david von drehle has written one of the best stories i have ever had</td>\n",
       "    </tr>\n",
       "    <tr>\n",
       "      <th>2016-01-10 00:12:20</th>\n",
       "      <td>i will be interviewed by chris wallace on fox tomorrow morning tune in</td>\n",
       "    </tr>\n",
       "    <tr>\n",
       "      <th>2016-01-10 18:28:54</th>\n",
       "      <td>in the just out foxnews poll i easily beat hillary clinton and i havn t even focused on her yet on our way make america great again</td>\n",
       "    </tr>\n",
       "    <tr>\n",
       "      <th>2016-01-10 20:15:30</th>\n",
       "      <td>remember get time magazine i am on the cover take it out in 4 years and read it again just watch</td>\n",
       "    </tr>\n",
       "    <tr>\n",
       "      <th>2016-01-10 21:06:26</th>\n",
       "      <td>this is really unfair and a conflict for all the other candidates i said it should not be allowed and abc agreed</td>\n",
       "    </tr>\n",
       "    <tr>\n",
       "      <th>2016-01-11 14:41:52</th>\n",
       "      <td>great job on fox this morning katiepavlich i am sending out for your book immediately thank you very much</td>\n",
       "    </tr>\n",
       "    <tr>\n",
       "      <th>2016-01-12 01:49:59</th>\n",
       "      <td>majorcbs major garrett of cbsnews covers me very inaccurately total agenda bad reporter</td>\n",
       "    </tr>\n",
       "    <tr>\n",
       "      <th>2016-01-12 02:42:49</th>\n",
       "      <td>face the nation s interview of me was the highest rated show that they have had in 15 years congratulations and wow cbsnews jdickerson</td>\n",
       "    </tr>\n",
       "    <tr>\n",
       "      <th>2016-01-12 03:34:17</th>\n",
       "      <td>fantastic job on cnn tonight kayleighmcenany is a winner donlemon</td>\n",
       "    </tr>\n",
       "  </tbody>\n",
       "</table>\n",
       "</div>"
      ],
      "text/plain": [
       "                                                                                                                                                                                                                                                                                                                                                                                                                                                                                                                                                                                       text\n",
       "created_at                                                                                                                                                                                                                                                                                                                                                                                                                                                                                                                                                                                 \n",
       "2016-01-01 21:29:56  sprinklermanus cnn realdonaldtrump they re spending millions but you re still going to win go donald trump                                                                                                                                                                                                                                                                                                                                                                                                                                                            \n",
       "2016-01-03 18:13:29  tinahillstrom1 foxnews katrinapierson i love piersmorgan amp realdonaldtrump real men w an opinion exciting interesting controversial 01 03 2016 19 49 18 571 2152 false 683736913631653888 twitter for android ruthmarcus of the washingtonpost was terrible today on face the nation no focus poor level of concentration but correct on hillary lying 01 03 2016 19 03 56 984 3733 false 683725499391164416 twitter for android chucktodd said today on meetthepress that attacking bill to get to hillary has never worked before wrong attacked him in 08 amp won\n",
       "2016-01-05 03:36:53  iloveidevices edwinro47796972 happyjack225 foxnews krauthammer minimizing dependency on china is crucial only trump talks about that 01 05 2016 03 39 11 1049 3225 false 684217554861199360 twitter for android salriccobono realdonaldtrump troyconway donald get big business back and make america great again for 2016                                                                                                                                                                                                                                            \n",
       "2016-01-05 03:47:14  lilredfrmkokomo realdonaldtrump my facebook groups are all voting trump 4000 people great                                                                                                                                                                                                                                                                                                                                                                                                                                                                             \n",
       "2016-01-06 03:50:46  compresphyllis seanhannity foxnews i am so glad u are for trump your program is my favorite the don is by far the best                                                                                                                                                                                                                                                                                                                                                                                                                                                \n",
       "2016-01-06 21:09:42  i will be on wolfblitzer for a cnnsitroom interview today please join us 5pm et                                                                                                                                                                                                                                                                                                                                                                                                                                                                                       \n",
       "2016-01-07 11:15:54  macys was one of the worst performing stocks on the s amp p last year plunging 46 very disloyal company another win for trump boycott                                                                                                                                                                                                                                                                                                                                                                                                                                 \n",
       "2016-01-07 16:14:38  sentedcruz ted free legal advice on how to pre empt the dems on citizen issue go to court now amp seek declaratory judgment you will win                                                                                                                                                                                                                                                                                                                                                                                                                              \n",
       "2016-01-07 16:14:38  sentedcruz ted free legal advice on how to pre empt the dems on citizen issue go to court now amp seek declaratory judgment you will win                                                                                                                                                                                                                                                                                                                                                                                                                              \n",
       "2016-01-08 23:12:35  foxnews poll thank you makeamericagreatagain trump2016                                                                                                                                                                                                                                                                                                                                                                                                                                                                                                                \n",
       "2016-01-09 14:22:36  pat buchanan gave a fantastic interview this morning on cnn way to go pat way ahead of your time                                                                                                                                                                                                                                                                                                                                                                                                                                                                      \n",
       "2016-01-09 17:56:06  1 2 time magazine has me on the cover this week david von drehle has written one of the best stories i have ever had                                                                                                                                                                                                                                                                                                                                                                                                                                                  \n",
       "2016-01-10 00:12:20  i will be interviewed by chris wallace on fox tomorrow morning tune in                                                                                                                                                                                                                                                                                                                                                                                                                                                                                                \n",
       "2016-01-10 18:28:54  in the just out foxnews poll i easily beat hillary clinton and i havn t even focused on her yet on our way make america great again                                                                                                                                                                                                                                                                                                                                                                                                                                   \n",
       "2016-01-10 20:15:30  remember get time magazine i am on the cover take it out in 4 years and read it again just watch                                                                                                                                                                                                                                                                                                                                                                                                                                                                      \n",
       "2016-01-10 21:06:26  this is really unfair and a conflict for all the other candidates i said it should not be allowed and abc agreed                                                                                                                                                                                                                                                                                                                                                                                                                                                      \n",
       "2016-01-11 14:41:52  great job on fox this morning katiepavlich i am sending out for your book immediately thank you very much                                                                                                                                                                                                                                                                                                                                                                                                                                                             \n",
       "2016-01-12 01:49:59  majorcbs major garrett of cbsnews covers me very inaccurately total agenda bad reporter                                                                                                                                                                                                                                                                                                                                                                                                                                                                               \n",
       "2016-01-12 02:42:49  face the nation s interview of me was the highest rated show that they have had in 15 years congratulations and wow cbsnews jdickerson                                                                                                                                                                                                                                                                                                                                                                                                                                \n",
       "2016-01-12 03:34:17  fantastic job on cnn tonight kayleighmcenany is a winner donlemon                                                                                                                                                                                                                                                                                                                                                                                                                                                                                                     "
      ]
     },
     "execution_count": 25,
     "metadata": {},
     "output_type": "execute_result"
    }
   ],
   "source": [
    "tweets_co.head(20)"
   ]
  },
  {
   "cell_type": "code",
   "execution_count": 319,
   "metadata": {},
   "outputs": [],
   "source": [
    "#create empty column\n",
    "#tweets_co['company'] = tweets_co.apply(lambda _: '', axis=1)"
   ]
  },
  {
   "cell_type": "code",
   "execution_count": 27,
   "metadata": {},
   "outputs": [
    {
     "data": {
      "text/html": [
       "<div>\n",
       "<style scoped>\n",
       "    .dataframe tbody tr th:only-of-type {\n",
       "        vertical-align: middle;\n",
       "    }\n",
       "\n",
       "    .dataframe tbody tr th {\n",
       "        vertical-align: top;\n",
       "    }\n",
       "\n",
       "    .dataframe thead th {\n",
       "        text-align: right;\n",
       "    }\n",
       "</style>\n",
       "<table border=\"1\" class=\"dataframe\">\n",
       "  <thead>\n",
       "    <tr style=\"text-align: right;\">\n",
       "      <th></th>\n",
       "      <th>text</th>\n",
       "    </tr>\n",
       "    <tr>\n",
       "      <th>created_at</th>\n",
       "      <th></th>\n",
       "    </tr>\n",
       "  </thead>\n",
       "  <tbody>\n",
       "    <tr>\n",
       "      <th>2016-01-01 21:29:56</th>\n",
       "      <td>sprinklermanus cnn realdonaldtrump they re spending millions but you re still going to win go donald trump</td>\n",
       "    </tr>\n",
       "    <tr>\n",
       "      <th>2016-01-03 18:13:29</th>\n",
       "      <td>tinahillstrom1 foxnews katrinapierson i love piersmorgan amp realdonaldtrump real men w an opinion exciting interesting controversial 01 03 2016 19 49 18 571 2152 false 683736913631653888 twitter for android ruthmarcus of the washingtonpost was terrible today on face the nation no focus poor level of concentration but correct on hillary lying 01 03 2016 19 03 56 984 3733 false 683725499391164416 twitter for android chucktodd said today on meetthepress that attacking bill to get to hillary has never worked before wrong attacked him in 08 amp won</td>\n",
       "    </tr>\n",
       "    <tr>\n",
       "      <th>2016-01-05 03:36:53</th>\n",
       "      <td>iloveidevices edwinro47796972 happyjack225 foxnews krauthammer minimizing dependency on china is crucial only trump talks about that 01 05 2016 03 39 11 1049 3225 false 684217554861199360 twitter for android salriccobono realdonaldtrump troyconway donald get big business back and make america great again for 2016</td>\n",
       "    </tr>\n",
       "    <tr>\n",
       "      <th>2016-01-05 03:47:14</th>\n",
       "      <td>lilredfrmkokomo realdonaldtrump my facebook groups are all voting trump 4000 people great</td>\n",
       "    </tr>\n",
       "    <tr>\n",
       "      <th>2016-01-06 03:50:46</th>\n",
       "      <td>compresphyllis seanhannity foxnews i am so glad u are for trump your program is my favorite the don is by far the best</td>\n",
       "    </tr>\n",
       "  </tbody>\n",
       "</table>\n",
       "</div>"
      ],
      "text/plain": [
       "                                                                                                                                                                                                                                                                                                                                                                                                                                                                                                                                                                                       text\n",
       "created_at                                                                                                                                                                                                                                                                                                                                                                                                                                                                                                                                                                                 \n",
       "2016-01-01 21:29:56  sprinklermanus cnn realdonaldtrump they re spending millions but you re still going to win go donald trump                                                                                                                                                                                                                                                                                                                                                                                                                                                            \n",
       "2016-01-03 18:13:29  tinahillstrom1 foxnews katrinapierson i love piersmorgan amp realdonaldtrump real men w an opinion exciting interesting controversial 01 03 2016 19 49 18 571 2152 false 683736913631653888 twitter for android ruthmarcus of the washingtonpost was terrible today on face the nation no focus poor level of concentration but correct on hillary lying 01 03 2016 19 03 56 984 3733 false 683725499391164416 twitter for android chucktodd said today on meetthepress that attacking bill to get to hillary has never worked before wrong attacked him in 08 amp won\n",
       "2016-01-05 03:36:53  iloveidevices edwinro47796972 happyjack225 foxnews krauthammer minimizing dependency on china is crucial only trump talks about that 01 05 2016 03 39 11 1049 3225 false 684217554861199360 twitter for android salriccobono realdonaldtrump troyconway donald get big business back and make america great again for 2016                                                                                                                                                                                                                                            \n",
       "2016-01-05 03:47:14  lilredfrmkokomo realdonaldtrump my facebook groups are all voting trump 4000 people great                                                                                                                                                                                                                                                                                                                                                                                                                                                                             \n",
       "2016-01-06 03:50:46  compresphyllis seanhannity foxnews i am so glad u are for trump your program is my favorite the don is by far the best                                                                                                                                                                                                                                                                                                                                                                                                                                                "
      ]
     },
     "execution_count": 27,
     "metadata": {},
     "output_type": "execute_result"
    }
   ],
   "source": [
    "tweets_co.head()"
   ]
  },
  {
   "cell_type": "code",
   "execution_count": 323,
   "metadata": {},
   "outputs": [],
   "source": [
    "#company list\n",
    "companies = ['ford', 'general motors','united technologies', 'rexnord', 'boeing', 'softbank','glenfiddich', 'lockheed martin', 'general motors', 'toyota', 'fiat', 'chrysler', 'walmart', 'fiat', 'chrysler', 'nordstrom', 'corning', 'pfizer', 'harley davidson', 'intel', 'exxon mobil', 'aetna', 'bayer', 'carrier', 'softbank', 'comcast', 'amazon', 'facebook', 'american airlines', 'cbs', 'wells fargo', 'disney', 'jp morgan', 'banning', 'cnn', 'nbc', 'sony','general dynamics','nfl','nascar','google','holiday inn','nike', 'usatoday','wsj','merck','vanity fair','time magazine','univision', 'goldman sachs','rolling stone','procter gamble','nypost','politico' ' nymag', 'microsoft','koch', 'msnbc', 'gm', 'macys', 'twitter', 'ny post', 'fox news', 'buzzfeed', 'ny times', 'new york times', 'tmobile', 'washington post', 'amtrak', 'aol', 'verizon', 'amazon', 'forbes', 'espn','coca cola']"
   ]
  },
  {
   "cell_type": "code",
   "execution_count": 325,
   "metadata": {},
   "outputs": [],
   "source": [
    "#df['company'] = None\n",
    "\n",
    "for c in companies:\n",
    "    tweets_co.loc[tweets_co.text.str.contains(c), 'company'] = c"
   ]
  },
  {
   "cell_type": "code",
   "execution_count": 341,
   "metadata": {},
   "outputs": [],
   "source": [
    "analyzer = SentimentIntensityAnalyzer()\n",
    "sentiment = tweets_co['text'].apply(lambda x: analyzer.polarity_scores(x))"
   ]
  },
  {
   "cell_type": "code",
   "execution_count": 342,
   "metadata": {},
   "outputs": [],
   "source": [
    "tweets_co=pd.concat([tweets_co,sentiment.apply(pd.Series)],1)"
   ]
  },
  {
   "cell_type": "code",
   "execution_count": 343,
   "metadata": {},
   "outputs": [
    {
     "data": {
      "text/html": [
       "<div>\n",
       "<style scoped>\n",
       "    .dataframe tbody tr th:only-of-type {\n",
       "        vertical-align: middle;\n",
       "    }\n",
       "\n",
       "    .dataframe tbody tr th {\n",
       "        vertical-align: top;\n",
       "    }\n",
       "\n",
       "    .dataframe thead th {\n",
       "        text-align: right;\n",
       "    }\n",
       "</style>\n",
       "<table border=\"1\" class=\"dataframe\">\n",
       "  <thead>\n",
       "    <tr style=\"text-align: right;\">\n",
       "      <th></th>\n",
       "      <th>text</th>\n",
       "      <th>company</th>\n",
       "      <th>neg</th>\n",
       "      <th>neu</th>\n",
       "      <th>pos</th>\n",
       "      <th>compound</th>\n",
       "    </tr>\n",
       "    <tr>\n",
       "      <th>created_at</th>\n",
       "      <th></th>\n",
       "      <th></th>\n",
       "      <th></th>\n",
       "      <th></th>\n",
       "      <th></th>\n",
       "      <th></th>\n",
       "    </tr>\n",
       "  </thead>\n",
       "  <tbody>\n",
       "    <tr>\n",
       "      <th>2016-01-01 21:29:56</th>\n",
       "      <td>sprinklermanus cnn realdonaldtrump they re spending millions but you re still going to win go donald trump</td>\n",
       "      <td>cnn</td>\n",
       "      <td>0.000</td>\n",
       "      <td>0.755</td>\n",
       "      <td>0.245</td>\n",
       "      <td>0.7351</td>\n",
       "    </tr>\n",
       "    <tr>\n",
       "      <th>2016-01-03 18:13:29</th>\n",
       "      <td>tinahillstrom1 foxnews katrinapierson i love piersmorgan amp realdonaldtrump real men w an opinion exciting interesting controversial 01 03 2016 19 49 18 571 2152 false 683736913631653888 twitter for android ruthmarcus of the washingtonpost was terrible today on face the nation no focus poor level of concentration but correct on hillary lying 01 03 2016 19 03 56 984 3733 false 683725499391164416 twitter for android chucktodd said today on meetthepress that attacking bill to get to hillary has never worked before wrong attacked him in 08 amp won</td>\n",
       "      <td>twitter</td>\n",
       "      <td>0.183</td>\n",
       "      <td>0.678</td>\n",
       "      <td>0.139</td>\n",
       "      <td>-0.5816</td>\n",
       "    </tr>\n",
       "    <tr>\n",
       "      <th>2016-01-05 03:36:53</th>\n",
       "      <td>iloveidevices edwinro47796972 happyjack225 foxnews krauthammer minimizing dependency on china is crucial only trump talks about that 01 05 2016 03 39 11 1049 3225 false 684217554861199360 twitter for android salriccobono realdonaldtrump troyconway donald get big business back and make america great again for 2016</td>\n",
       "      <td>twitter</td>\n",
       "      <td>0.000</td>\n",
       "      <td>0.913</td>\n",
       "      <td>0.087</td>\n",
       "      <td>0.6249</td>\n",
       "    </tr>\n",
       "  </tbody>\n",
       "</table>\n",
       "</div>"
      ],
      "text/plain": [
       "                                                                                                                                                                                                                                                                                                                                                                                                                                                                                                                                                                                       text  \\\n",
       "created_at                                                                                                                                                                                                                                                                                                                                                                                                                                                                                                                                                                                    \n",
       "2016-01-01 21:29:56  sprinklermanus cnn realdonaldtrump they re spending millions but you re still going to win go donald trump                                                                                                                                                                                                                                                                                                                                                                                                                                                               \n",
       "2016-01-03 18:13:29  tinahillstrom1 foxnews katrinapierson i love piersmorgan amp realdonaldtrump real men w an opinion exciting interesting controversial 01 03 2016 19 49 18 571 2152 false 683736913631653888 twitter for android ruthmarcus of the washingtonpost was terrible today on face the nation no focus poor level of concentration but correct on hillary lying 01 03 2016 19 03 56 984 3733 false 683725499391164416 twitter for android chucktodd said today on meetthepress that attacking bill to get to hillary has never worked before wrong attacked him in 08 amp won   \n",
       "2016-01-05 03:36:53  iloveidevices edwinro47796972 happyjack225 foxnews krauthammer minimizing dependency on china is crucial only trump talks about that 01 05 2016 03 39 11 1049 3225 false 684217554861199360 twitter for android salriccobono realdonaldtrump troyconway donald get big business back and make america great again for 2016                                                                                                                                                                                                                                               \n",
       "\n",
       "                     company    neg    neu    pos  compound  \n",
       "created_at                                                   \n",
       "2016-01-01 21:29:56  cnn      0.000  0.755  0.245  0.7351    \n",
       "2016-01-03 18:13:29  twitter  0.183  0.678  0.139 -0.5816    \n",
       "2016-01-05 03:36:53  twitter  0.000  0.913  0.087  0.6249    "
      ]
     },
     "execution_count": 343,
     "metadata": {},
     "output_type": "execute_result"
    }
   ],
   "source": [
    "tweets_co.head()"
   ]
  },
  {
   "cell_type": "code",
   "execution_count": 344,
   "metadata": {},
   "outputs": [],
   "source": [
    "#save dataframe as pickle file\n",
    "\n",
    "with open('company_tweets_sentiment.pickle', 'wb') as to_write:\n",
    "    pickle.dump(tweets_co, to_write)"
   ]
  },
  {
   "cell_type": "markdown",
   "metadata": {},
   "source": [
    "### Make Company Dataframe"
   ]
  },
  {
   "cell_type": "code",
   "execution_count": 337,
   "metadata": {},
   "outputs": [],
   "source": [
    "co_data = pd.DataFrame({'company':companies})"
   ]
  },
  {
   "cell_type": "code",
   "execution_count": 340,
   "metadata": {},
   "outputs": [],
   "source": [
    "co_data;"
   ]
  },
  {
   "cell_type": "markdown",
   "metadata": {},
   "source": [
    "### Amazon"
   ]
  },
  {
   "cell_type": "code",
   "execution_count": 28,
   "metadata": {},
   "outputs": [],
   "source": [
    "amazon_tweets = pd.read_csv('data/amazon_tweets.txt')"
   ]
  },
  {
   "cell_type": "code",
   "execution_count": 29,
   "metadata": {},
   "outputs": [],
   "source": [
    "#amazon_tweets['text'] = amazon_tweets['text'].apply(lambda x: clean_tweet(x))"
   ]
  },
  {
   "cell_type": "code",
   "execution_count": 30,
   "metadata": {},
   "outputs": [],
   "source": [
    "amazon_tweets = amazon_tweets.drop(['source', 'id_str', 'retweet_count', 'favorite_count', 'is_retweet'], axis=1)"
   ]
  },
  {
   "cell_type": "code",
   "execution_count": 31,
   "metadata": {},
   "outputs": [],
   "source": [
    "amazon_tweets.index = amazon_tweets['created_at']"
   ]
  },
  {
   "cell_type": "code",
   "execution_count": 33,
   "metadata": {},
   "outputs": [],
   "source": [
    "amazon_tweets.index = amazon_tweets.index"
   ]
  },
  {
   "cell_type": "code",
   "execution_count": 47,
   "metadata": {},
   "outputs": [],
   "source": [
    "amazon_tweets = amazon_tweets.drop(['created_at'], axis=1)"
   ]
  },
  {
   "cell_type": "code",
   "execution_count": 48,
   "metadata": {},
   "outputs": [
    {
     "data": {
      "text/html": [
       "<div>\n",
       "<style scoped>\n",
       "    .dataframe tbody tr th:only-of-type {\n",
       "        vertical-align: middle;\n",
       "    }\n",
       "\n",
       "    .dataframe tbody tr th {\n",
       "        vertical-align: top;\n",
       "    }\n",
       "\n",
       "    .dataframe thead th {\n",
       "        text-align: right;\n",
       "    }\n",
       "</style>\n",
       "<table border=\"1\" class=\"dataframe\">\n",
       "  <thead>\n",
       "    <tr style=\"text-align: right;\">\n",
       "      <th></th>\n",
       "      <th>text</th>\n",
       "    </tr>\n",
       "    <tr>\n",
       "      <th>created_at</th>\n",
       "      <th></th>\n",
       "    </tr>\n",
       "  </thead>\n",
       "  <tbody>\n",
       "    <tr>\n",
       "      <th>01-04-2015 03:46:43</th>\n",
       "      <td>@MIclimber: @realDonaldTrump look at alum @THEGaryBusey making you proud with @AmazonFireTV #CelebApprentice Great.</td>\n",
       "    </tr>\n",
       "    <tr>\n",
       "      <th>04-25-2015 13:48:54</th>\n",
       "      <td>Congratulations to @DanaPerino on your book going to number one on Amazon. Great book - Great job!</td>\n",
       "    </tr>\n",
       "    <tr>\n",
       "      <th>12-07-2015 15:08:20</th>\n",
       "      <td>The @washingtonpost which loses a fortune is owned by  @JeffBezos for purposes of keeping taxes down at his no profit company @amazon.</td>\n",
       "    </tr>\n",
       "    <tr>\n",
       "      <th>12-07-2015 15:18:25</th>\n",
       "      <td>The @washingtonpost loses   money (a deduction) and gives owner @JeffBezos power to screw public on low taxation of @Amazon! Big tax shelter</td>\n",
       "    </tr>\n",
       "    <tr>\n",
       "      <th>12-07-2015 15:22:48</th>\n",
       "      <td>If @amazon ever had to pay fair taxes its stock would crash and it would crumble like a paper bag. The @washingtonpost scam is saving it!</td>\n",
       "    </tr>\n",
       "  </tbody>\n",
       "</table>\n",
       "</div>"
      ],
      "text/plain": [
       "                                                                                                                                                             text\n",
       "created_at                                                                                                                                                       \n",
       "01-04-2015 03:46:43  @MIclimber: @realDonaldTrump look at alum @THEGaryBusey making you proud with @AmazonFireTV #CelebApprentice Great.                         \n",
       "04-25-2015 13:48:54  Congratulations to @DanaPerino on your book going to number one on Amazon. Great book - Great job!                                          \n",
       "12-07-2015 15:08:20  The @washingtonpost which loses a fortune is owned by  @JeffBezos for purposes of keeping taxes down at his no profit company @amazon.      \n",
       "12-07-2015 15:18:25  The @washingtonpost loses   money (a deduction) and gives owner @JeffBezos power to screw public on low taxation of @Amazon! Big tax shelter\n",
       "12-07-2015 15:22:48  If @amazon ever had to pay fair taxes its stock would crash and it would crumble like a paper bag. The @washingtonpost scam is saving it!   "
      ]
     },
     "execution_count": 48,
     "metadata": {},
     "output_type": "execute_result"
    }
   ],
   "source": [
    "amazon_tweets.head()"
   ]
  },
  {
   "cell_type": "code",
   "execution_count": 49,
   "metadata": {},
   "outputs": [],
   "source": [
    "#save dataframe as pickle file\n",
    "\n",
    "with open('amazon_tweets.pickle', 'wb') as to_write:\n",
    "    pickle.dump(amazon_tweets, to_write)"
   ]
  },
  {
   "cell_type": "code",
   "execution_count": 61,
   "metadata": {},
   "outputs": [],
   "source": [
    "amazon = pd.read_pickle('amazon_tweets.pickle')"
   ]
  },
  {
   "cell_type": "code",
   "execution_count": 64,
   "metadata": {},
   "outputs": [
    {
     "data": {
      "text/html": [
       "<div>\n",
       "<style scoped>\n",
       "    .dataframe tbody tr th:only-of-type {\n",
       "        vertical-align: middle;\n",
       "    }\n",
       "\n",
       "    .dataframe tbody tr th {\n",
       "        vertical-align: top;\n",
       "    }\n",
       "\n",
       "    .dataframe thead th {\n",
       "        text-align: right;\n",
       "    }\n",
       "</style>\n",
       "<table border=\"1\" class=\"dataframe\">\n",
       "  <thead>\n",
       "    <tr style=\"text-align: right;\">\n",
       "      <th></th>\n",
       "      <th>text</th>\n",
       "    </tr>\n",
       "    <tr>\n",
       "      <th>created_at</th>\n",
       "      <th></th>\n",
       "    </tr>\n",
       "  </thead>\n",
       "  <tbody>\n",
       "    <tr>\n",
       "      <th>01-04-2015 03:46:43</th>\n",
       "      <td>@MIclimber: @realDonaldTrump look at alum @THEGaryBusey making you proud with @AmazonFireTV #CelebApprentice Great.</td>\n",
       "    </tr>\n",
       "    <tr>\n",
       "      <th>04-25-2015 13:48:54</th>\n",
       "      <td>Congratulations to @DanaPerino on your book going to number one on Amazon. Great book - Great job!</td>\n",
       "    </tr>\n",
       "    <tr>\n",
       "      <th>12-07-2015 15:08:20</th>\n",
       "      <td>The @washingtonpost which loses a fortune is owned by  @JeffBezos for purposes of keeping taxes down at his no profit company @amazon.</td>\n",
       "    </tr>\n",
       "    <tr>\n",
       "      <th>12-07-2015 15:18:25</th>\n",
       "      <td>The @washingtonpost loses   money (a deduction) and gives owner @JeffBezos power to screw public on low taxation of @Amazon! Big tax shelter</td>\n",
       "    </tr>\n",
       "    <tr>\n",
       "      <th>12-07-2015 15:22:48</th>\n",
       "      <td>If @amazon ever had to pay fair taxes its stock would crash and it would crumble like a paper bag. The @washingtonpost scam is saving it!</td>\n",
       "    </tr>\n",
       "    <tr>\n",
       "      <th>12-23-2015 14:55:24</th>\n",
       "      <td>The @washingtonpost which is the lobbyist (power) for not imposing taxes on #Amazon today did a nasty cartoon attacking @tedcruz kids. Bad</td>\n",
       "    </tr>\n",
       "    <tr>\n",
       "      <th>06-28-2017 13:06:14</th>\n",
       "      <td>The #AmazonWashingtonPost sometimes referred to as the guardian of Amazon not paying internet taxes (which they should) is FAKE NEWS!</td>\n",
       "    </tr>\n",
       "    <tr>\n",
       "      <th>07-22-2017 10:33:01</th>\n",
       "      <td>A new INTELLIGENCE LEAK from the Amazon Washington Postthis time against A.G. Jeff Sessions.These illegal leaks like Comey's must stop!</td>\n",
       "    </tr>\n",
       "    <tr>\n",
       "      <th>07-23-2017 23:57:36</th>\n",
       "      <td>It's hard to read the Failing New York Times or the Amazon Washington Post because every story/opinion even if should be positive is bad!</td>\n",
       "    </tr>\n",
       "    <tr>\n",
       "      <th>07-25-2017 02:23:18</th>\n",
       "      <td>The Amazon Washington Post fabricated the facts on my ending massive dangerous and wasteful payments to Syrian rebels fighting Assad.....</td>\n",
       "    </tr>\n",
       "    <tr>\n",
       "      <th>07-25-2017 02:28:44</th>\n",
       "      <td>So many stories about me in the @washingtonpost are Fake News. They are as bad as ratings challenged @CNN. Lobbyist for Amazon and taxes?</td>\n",
       "    </tr>\n",
       "    <tr>\n",
       "      <th>07-25-2017 02:36:17</th>\n",
       "      <td>Is Fake News Washington Post being used as a lobbyist weapon against Congress to keep Politicians from looking into Amazon no-tax monopoly?</td>\n",
       "    </tr>\n",
       "    <tr>\n",
       "      <th>08-08-2017 18:00:30</th>\n",
       "      <td>E-mails show that the AmazonWashingtonPost and the FailingNewYorkTimes were reluctant to cover the Clinton/Lynch secret meeting in plane.</td>\n",
       "    </tr>\n",
       "    <tr>\n",
       "      <th>08-16-2017 10:12:45</th>\n",
       "      <td>Amazon is doing great damage to tax paying retailers. Towns cities and states throughout the U.S. are being hurt - many jobs being lost!</td>\n",
       "    </tr>\n",
       "    <tr>\n",
       "      <th>12-29-2017 13:04:09</th>\n",
       "      <td>Why is the United States Post Office which is losing many billions of dollars a year while charging Amazon and others so little to deliver their packages making Amazon richer and the Post Office dumber and poorer? Should be charging MUCH MORE!</td>\n",
       "    </tr>\n",
       "    <tr>\n",
       "      <th>03-29-2018 11:57:38</th>\n",
       "      <td>I have stated my concerns with Amazon long before the Election. Unlike others they pay little or no taxes to state &amp;amp; local governments use our Postal System as their Delivery Boy (causing tremendous loss to the U.S.) and are putting many thousands of retailers out of business!</td>\n",
       "    </tr>\n",
       "    <tr>\n",
       "      <th>03-31-2018 12:45:41</th>\n",
       "      <td>While we are on the subject it is reported that the U.S. Post Office will lose $1.50 on average for each package it delivers for Amazon. That amounts to Billions of Dollars. The Failing N.Y. Times reports that “the size of the company’s lobbying staff has ballooned” and that...</td>\n",
       "    </tr>\n",
       "    <tr>\n",
       "      <th>03-31-2018 12:52:59</th>\n",
       "      <td>...does not include the Fake Washington Post which is used as a “lobbyist” and should so  REGISTER. If the P.O. “increased its parcel rates Amazon’s shipping costs would rise by $2.6 Billion.” This Post Office scam must stop. Amazon must pay real costs (and taxes) now!</td>\n",
       "    </tr>\n",
       "    <tr>\n",
       "      <th>04-02-2018 13:35:03</th>\n",
       "      <td>Only fools or worse are saying that our money losing Post Office makes money with Amazon. THEY LOSE A FORTUNE and this will be changed. Also our fully tax paying retailers are closing stores all over the country...not a level playing field!</td>\n",
       "    </tr>\n",
       "    <tr>\n",
       "      <th>04-03-2018 13:55:37</th>\n",
       "      <td>I am right about Amazon costing the United States Post Office massive amounts of money for being their Delivery Boy. Amazon should pay these costs (plus) and not have them bourne by the American Taxpayer. Many billions of dollars. P.O. leaders don’t have a clue (or do they?)!</td>\n",
       "    </tr>\n",
       "    <tr>\n",
       "      <th>04-05-2018 13:10:07</th>\n",
       "      <td>The Fake News Washington Post Amazon’s “chief lobbyist” has another (of many) phony headlines “Trump Defiant As China Adds Trade Penalties.” WRONG! Should read “Trump Defiant as U.S. Adds Trade Penalties Will End Barriers And Massive  I.P. Theft.” Typically bad reporting!</td>\n",
       "    </tr>\n",
       "    <tr>\n",
       "      <th>07-07-2018 13:21:11</th>\n",
       "      <td>Twitter is getting rid of fake accounts at a record pace. Will that include the Failing New York Times and propaganda machine for Amazon the Washington Post who constantly quote anonymous sources that in my opinion don’t exist - They will both be out of business in 7 years!</td>\n",
       "    </tr>\n",
       "    <tr>\n",
       "      <th>07-23-2018 13:21:15</th>\n",
       "      <td>The Amazon Washington Post has gone crazy against me ever since they lost the Internet Tax Case in the U.S. Supreme Court two months ago. Next up is the U.S. Post Office which they use at a fraction of real cost as their “delivery boy” for a BIG percentage of their packages....</td>\n",
       "    </tr>\n",
       "    <tr>\n",
       "      <th>07-23-2018 13:35:20</th>\n",
       "      <td>....In my opinion the Washington Post is nothing more than an expensive (the paper loses a fortune) lobbyist for Amazon. Is it used as protection against antitrust claims which many feel should be brought?</td>\n",
       "    </tr>\n",
       "    <tr>\n",
       "      <th>07-29-2018 19:09:19</th>\n",
       "      <td>...and the Amazon Washington Post do nothing but write bad stories even on very positive achievements - and they will never change!</td>\n",
       "    </tr>\n",
       "    <tr>\n",
       "      <th>08-02-2018 04:38:15</th>\n",
       "      <td>Congratulations to  @GreggJarrett on The TREMENDOUS success of his just out book “The Russia Hoax The Illicit Scheme To Clear Hillary Clinton &amp;amp; Frame Donald Trump.” Already number one on Amazon. Hard work from a brilliant guy. It’s the Real Story of the Rigged Witch Hunt!</td>\n",
       "    </tr>\n",
       "    <tr>\n",
       "      <th>08-04-2018 03:01:46</th>\n",
       "      <td>Congratulations to Gregg Jarrett on his book “THE RUSSIA HOAX THE ILLICIT SCHEME TO CLEAR HILLARY CLINTON AND FRAME DONALD TRUMP” going to #1 on @nytimes and Amazon. It is indeed a HOAX and WITCH HUNT illegally started by people who have already been disgraced. Great book!</td>\n",
       "    </tr>\n",
       "    <tr>\n",
       "      <th>01-12-2019 15:57:23</th>\n",
       "      <td>I just watched a Fake reporter from the Amazon Washington Post say the White House is “chaotic there does not seem to be a strategy for this Shutdown. There is no plan.” The Fakes always like talking Chaos there is NONE. In fact there’s almost nobody in the W.H. but me and...</td>\n",
       "    </tr>\n",
       "    <tr>\n",
       "      <th>01-14-2019 01:45:10</th>\n",
       "      <td>So sorry to hear the news about Jeff Bozo being taken down by a competitor whose reporting I understand is far more accurate than the reporting in his lobbyist newspaper the Amazon Washington Post. Hopefully the paper will soon be placed in better &amp;amp; more responsible hands!</td>\n",
       "    </tr>\n",
       "  </tbody>\n",
       "</table>\n",
       "</div>"
      ],
      "text/plain": [
       "                                                                                                                                                                                                                                                                                                          text\n",
       "created_at                                                                                                                                                                                                                                                                                                    \n",
       "01-04-2015 03:46:43  @MIclimber: @realDonaldTrump look at alum @THEGaryBusey making you proud with @AmazonFireTV #CelebApprentice Great.                                                                                                                                                                      \n",
       "04-25-2015 13:48:54  Congratulations to @DanaPerino on your book going to number one on Amazon. Great book - Great job!                                                                                                                                                                                       \n",
       "12-07-2015 15:08:20  The @washingtonpost which loses a fortune is owned by  @JeffBezos for purposes of keeping taxes down at his no profit company @amazon.                                                                                                                                                   \n",
       "12-07-2015 15:18:25  The @washingtonpost loses   money (a deduction) and gives owner @JeffBezos power to screw public on low taxation of @Amazon! Big tax shelter                                                                                                                                             \n",
       "12-07-2015 15:22:48  If @amazon ever had to pay fair taxes its stock would crash and it would crumble like a paper bag. The @washingtonpost scam is saving it!                                                                                                                                                \n",
       "12-23-2015 14:55:24  The @washingtonpost which is the lobbyist (power) for not imposing taxes on #Amazon today did a nasty cartoon attacking @tedcruz kids. Bad                                                                                                                                               \n",
       "06-28-2017 13:06:14  The #AmazonWashingtonPost sometimes referred to as the guardian of Amazon not paying internet taxes (which they should) is FAKE NEWS!                                                                                                                                                    \n",
       "07-22-2017 10:33:01  A new INTELLIGENCE LEAK from the Amazon Washington Postthis time against A.G. Jeff Sessions.These illegal leaks like Comey's must stop!                                                                                                                                                  \n",
       "07-23-2017 23:57:36  It's hard to read the Failing New York Times or the Amazon Washington Post because every story/opinion even if should be positive is bad!                                                                                                                                                \n",
       "07-25-2017 02:23:18  The Amazon Washington Post fabricated the facts on my ending massive dangerous and wasteful payments to Syrian rebels fighting Assad.....                                                                                                                                                \n",
       "07-25-2017 02:28:44  So many stories about me in the @washingtonpost are Fake News. They are as bad as ratings challenged @CNN. Lobbyist for Amazon and taxes?                                                                                                                                                \n",
       "07-25-2017 02:36:17  Is Fake News Washington Post being used as a lobbyist weapon against Congress to keep Politicians from looking into Amazon no-tax monopoly?                                                                                                                                              \n",
       "08-08-2017 18:00:30  E-mails show that the AmazonWashingtonPost and the FailingNewYorkTimes were reluctant to cover the Clinton/Lynch secret meeting in plane.                                                                                                                                                \n",
       "08-16-2017 10:12:45  Amazon is doing great damage to tax paying retailers. Towns cities and states throughout the U.S. are being hurt - many jobs being lost!                                                                                                                                                 \n",
       "12-29-2017 13:04:09  Why is the United States Post Office which is losing many billions of dollars a year while charging Amazon and others so little to deliver their packages making Amazon richer and the Post Office dumber and poorer? Should be charging MUCH MORE!                                      \n",
       "03-29-2018 11:57:38  I have stated my concerns with Amazon long before the Election. Unlike others they pay little or no taxes to state &amp; local governments use our Postal System as their Delivery Boy (causing tremendous loss to the U.S.) and are putting many thousands of retailers out of business!\n",
       "03-31-2018 12:45:41  While we are on the subject it is reported that the U.S. Post Office will lose $1.50 on average for each package it delivers for Amazon. That amounts to Billions of Dollars. The Failing N.Y. Times reports that “the size of the company’s lobbying staff has ballooned” and that...   \n",
       "03-31-2018 12:52:59  ...does not include the Fake Washington Post which is used as a “lobbyist” and should so  REGISTER. If the P.O. “increased its parcel rates Amazon’s shipping costs would rise by $2.6 Billion.” This Post Office scam must stop. Amazon must pay real costs (and taxes) now!            \n",
       "04-02-2018 13:35:03  Only fools or worse are saying that our money losing Post Office makes money with Amazon. THEY LOSE A FORTUNE and this will be changed. Also our fully tax paying retailers are closing stores all over the country...not a level playing field!                                         \n",
       "04-03-2018 13:55:37  I am right about Amazon costing the United States Post Office massive amounts of money for being their Delivery Boy. Amazon should pay these costs (plus) and not have them bourne by the American Taxpayer. Many billions of dollars. P.O. leaders don’t have a clue (or do they?)!     \n",
       "04-05-2018 13:10:07  The Fake News Washington Post Amazon’s “chief lobbyist” has another (of many) phony headlines “Trump Defiant As China Adds Trade Penalties.” WRONG! Should read “Trump Defiant as U.S. Adds Trade Penalties Will End Barriers And Massive  I.P. Theft.” Typically bad reporting!         \n",
       "07-07-2018 13:21:11  Twitter is getting rid of fake accounts at a record pace. Will that include the Failing New York Times and propaganda machine for Amazon the Washington Post who constantly quote anonymous sources that in my opinion don’t exist - They will both be out of business in 7 years!       \n",
       "07-23-2018 13:21:15  The Amazon Washington Post has gone crazy against me ever since they lost the Internet Tax Case in the U.S. Supreme Court two months ago. Next up is the U.S. Post Office which they use at a fraction of real cost as their “delivery boy” for a BIG percentage of their packages....   \n",
       "07-23-2018 13:35:20  ....In my opinion the Washington Post is nothing more than an expensive (the paper loses a fortune) lobbyist for Amazon. Is it used as protection against antitrust claims which many feel should be brought?                                                                            \n",
       "07-29-2018 19:09:19  ...and the Amazon Washington Post do nothing but write bad stories even on very positive achievements - and they will never change!                                                                                                                                                      \n",
       "08-02-2018 04:38:15  Congratulations to  @GreggJarrett on The TREMENDOUS success of his just out book “The Russia Hoax The Illicit Scheme To Clear Hillary Clinton &amp; Frame Donald Trump.” Already number one on Amazon. Hard work from a brilliant guy. It’s the Real Story of the Rigged Witch Hunt!     \n",
       "08-04-2018 03:01:46  Congratulations to Gregg Jarrett on his book “THE RUSSIA HOAX THE ILLICIT SCHEME TO CLEAR HILLARY CLINTON AND FRAME DONALD TRUMP” going to #1 on @nytimes and Amazon. It is indeed a HOAX and WITCH HUNT illegally started by people who have already been disgraced. Great book!        \n",
       "01-12-2019 15:57:23  I just watched a Fake reporter from the Amazon Washington Post say the White House is “chaotic there does not seem to be a strategy for this Shutdown. There is no plan.” The Fakes always like talking Chaos there is NONE. In fact there’s almost nobody in the W.H. but me and...     \n",
       "01-14-2019 01:45:10  So sorry to hear the news about Jeff Bozo being taken down by a competitor whose reporting I understand is far more accurate than the reporting in his lobbyist newspaper the Amazon Washington Post. Hopefully the paper will soon be placed in better &amp; more responsible hands!    "
      ]
     },
     "execution_count": 64,
     "metadata": {},
     "output_type": "execute_result"
    }
   ],
   "source": [
    "amazon"
   ]
  },
  {
   "cell_type": "markdown",
   "metadata": {},
   "source": [
    "## Calculating Beta"
   ]
  },
  {
   "cell_type": "code",
   "execution_count": 41,
   "metadata": {},
   "outputs": [],
   "source": [
    "company_df = pd.read_csv('data/companies_close.csv')"
   ]
  },
  {
   "cell_type": "code",
   "execution_count": 42,
   "metadata": {},
   "outputs": [
    {
     "data": {
      "text/html": [
       "<div>\n",
       "<style scoped>\n",
       "    .dataframe tbody tr th:only-of-type {\n",
       "        vertical-align: middle;\n",
       "    }\n",
       "\n",
       "    .dataframe tbody tr th {\n",
       "        vertical-align: top;\n",
       "    }\n",
       "\n",
       "    .dataframe thead th {\n",
       "        text-align: right;\n",
       "    }\n",
       "</style>\n",
       "<table border=\"1\" class=\"dataframe\">\n",
       "  <thead>\n",
       "    <tr style=\"text-align: right;\">\n",
       "      <th></th>\n",
       "      <th>Date</th>\n",
       "      <th>SPX</th>\n",
       "      <th>Amazon</th>\n",
       "    </tr>\n",
       "  </thead>\n",
       "  <tbody>\n",
       "    <tr>\n",
       "      <th>0</th>\n",
       "      <td>1/2/15</td>\n",
       "      <td>2058.199951</td>\n",
       "      <td>308.519989</td>\n",
       "    </tr>\n",
       "  </tbody>\n",
       "</table>\n",
       "</div>"
      ],
      "text/plain": [
       "     Date          SPX      Amazon\n",
       "0  1/2/15  2058.199951  308.519989"
      ]
     },
     "execution_count": 42,
     "metadata": {},
     "output_type": "execute_result"
    }
   ],
   "source": [
    "company_df.head(1)"
   ]
  },
  {
   "cell_type": "code",
   "execution_count": 43,
   "metadata": {},
   "outputs": [],
   "source": [
    "# Convert date column to datetime\n",
    "company_df['Date'] = pd.to_datetime(company_df['Date'])"
   ]
  },
  {
   "cell_type": "code",
   "execution_count": 44,
   "metadata": {},
   "outputs": [],
   "source": [
    "#Change close to percent change\n",
    "company_df[\"SPX\"] = company_df[\"SPX\"].pct_change(1) \n",
    "company_df[\"Amazon\"] = company_df[\"Amazon\"].pct_change(1) "
   ]
  },
  {
   "cell_type": "code",
   "execution_count": 46,
   "metadata": {},
   "outputs": [],
   "source": [
    "company_df = company_df.dropna(axis=0)"
   ]
  },
  {
   "cell_type": "code",
   "execution_count": 47,
   "metadata": {},
   "outputs": [
    {
     "data": {
      "text/html": [
       "<div>\n",
       "<style scoped>\n",
       "    .dataframe tbody tr th:only-of-type {\n",
       "        vertical-align: middle;\n",
       "    }\n",
       "\n",
       "    .dataframe tbody tr th {\n",
       "        vertical-align: top;\n",
       "    }\n",
       "\n",
       "    .dataframe thead th {\n",
       "        text-align: right;\n",
       "    }\n",
       "</style>\n",
       "<table border=\"1\" class=\"dataframe\">\n",
       "  <thead>\n",
       "    <tr style=\"text-align: right;\">\n",
       "      <th></th>\n",
       "      <th>Date</th>\n",
       "      <th>SPX</th>\n",
       "      <th>Amazon</th>\n",
       "    </tr>\n",
       "  </thead>\n",
       "  <tbody>\n",
       "    <tr>\n",
       "      <th>1</th>\n",
       "      <td>2015-01-05</td>\n",
       "      <td>-0.018278</td>\n",
       "      <td>-0.020517</td>\n",
       "    </tr>\n",
       "    <tr>\n",
       "      <th>2</th>\n",
       "      <td>2015-01-06</td>\n",
       "      <td>-0.008893</td>\n",
       "      <td>-0.022833</td>\n",
       "    </tr>\n",
       "    <tr>\n",
       "      <th>3</th>\n",
       "      <td>2015-01-07</td>\n",
       "      <td>0.011630</td>\n",
       "      <td>0.010600</td>\n",
       "    </tr>\n",
       "    <tr>\n",
       "      <th>4</th>\n",
       "      <td>2015-01-08</td>\n",
       "      <td>0.017888</td>\n",
       "      <td>0.006836</td>\n",
       "    </tr>\n",
       "    <tr>\n",
       "      <th>5</th>\n",
       "      <td>2015-01-09</td>\n",
       "      <td>-0.008404</td>\n",
       "      <td>-0.011749</td>\n",
       "    </tr>\n",
       "  </tbody>\n",
       "</table>\n",
       "</div>"
      ],
      "text/plain": [
       "        Date       SPX    Amazon\n",
       "1 2015-01-05 -0.018278 -0.020517\n",
       "2 2015-01-06 -0.008893 -0.022833\n",
       "3 2015-01-07  0.011630  0.010600\n",
       "4 2015-01-08  0.017888  0.006836\n",
       "5 2015-01-09 -0.008404 -0.011749"
      ]
     },
     "execution_count": 47,
     "metadata": {},
     "output_type": "execute_result"
    }
   ],
   "source": [
    "company_df.head()"
   ]
  },
  {
   "cell_type": "code",
   "execution_count": 49,
   "metadata": {},
   "outputs": [
    {
     "name": "stdout",
     "output_type": "stream",
     "text": [
      "                            OLS Regression Results                            \n",
      "==============================================================================\n",
      "Dep. Variable:                 Amazon   R-squared:                       0.251\n",
      "Model:                            OLS   Adj. R-squared:                  0.250\n",
      "Method:                 Least Squares   F-statistic:                     172.2\n",
      "Date:                Wed, 30 Jan 2019   Prob (F-statistic):           3.91e-34\n",
      "Time:                        14:38:07   Log-Likelihood:                 1365.8\n",
      "No. Observations:                 516   AIC:                            -2728.\n",
      "Df Residuals:                     514   BIC:                            -2719.\n",
      "Df Model:                           1                                         \n",
      "Covariance Type:            nonrobust                                         \n",
      "==============================================================================\n",
      "                 coef    std err          t      P>|t|      [0.025      0.975]\n",
      "------------------------------------------------------------------------------\n",
      "const          0.0018      0.001      2.384      0.017       0.000       0.003\n",
      "SPX            1.1111      0.085     13.123      0.000       0.945       1.277\n",
      "==============================================================================\n",
      "Omnibus:                      384.543   Durbin-Watson:                   1.931\n",
      "Prob(Omnibus):                  0.000   Jarque-Bera (JB):            15493.103\n",
      "Skew:                           2.762   Prob(JB):                         0.00\n",
      "Kurtosis:                      29.270   Cond. No.                         112.\n",
      "==============================================================================\n",
      "\n",
      "Warnings:\n",
      "[1] Standard Errors assume that the covariance matrix of the errors is correctly specified.\n"
     ]
    }
   ],
   "source": [
    "#OLS in Statsmodel\n",
    "# split dependent and independent variable\n",
    "X = company_df['SPX']\n",
    "y = company_df['Amazon']\n",
    "\n",
    "# Add a constant to the independent value\n",
    "X1 = sm.add_constant(X)\n",
    "\n",
    "# make regression model \n",
    "model = sm.OLS(y, X1)\n",
    "\n",
    "# fit model and print results\n",
    "results = model.fit()\n",
    "print(results.summary())"
   ]
  },
  {
   "cell_type": "code",
   "execution_count": null,
   "metadata": {},
   "outputs": [],
   "source": [
    "# Amazon Beta = 1.11 (13.123)"
   ]
  },
  {
   "cell_type": "code",
   "execution_count": null,
   "metadata": {},
   "outputs": [],
   "source": [
    "events = [pd.to_datetime('12-07-2015'), pd.to_datetime('1990-01-15')]\n",
    "max_delta = pd.Timedelta(2, unit='d')"
   ]
  }
 ],
 "metadata": {
  "kernelspec": {
   "display_name": "Python 3",
   "language": "python",
   "name": "python3"
  },
  "language_info": {
   "codemirror_mode": {
    "name": "ipython",
    "version": 3
   },
   "file_extension": ".py",
   "mimetype": "text/x-python",
   "name": "python",
   "nbconvert_exporter": "python",
   "pygments_lexer": "ipython3",
   "version": "3.7.1"
  }
 },
 "nbformat": 4,
 "nbformat_minor": 2
}
