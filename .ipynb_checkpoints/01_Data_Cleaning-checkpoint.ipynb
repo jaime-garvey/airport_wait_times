{
 "cells": [
  {
   "cell_type": "markdown",
   "metadata": {},
   "source": [
    "# 01 - Data Acquistion & Cleaning"
   ]
  },
  {
   "cell_type": "code",
   "execution_count": 1,
   "metadata": {},
   "outputs": [],
   "source": [
    "#import libraries\n",
    "\n",
    "import pandas as pd\n",
    "import matplotlib.pyplot as plt\n",
    "import seaborn as sns\n",
    "\n",
    "import dateutil\n",
    "from datetime import datetime\n",
    "\n",
    "import pickle\n",
    "\n",
    "%matplotlib inline"
   ]
  },
  {
   "cell_type": "markdown",
   "metadata": {},
   "source": [
    "## Data Acquisition"
   ]
  },
  {
   "cell_type": "markdown",
   "metadata": {},
   "source": [
    "**Approval Ratings**"
   ]
  },
  {
   "cell_type": "code",
   "execution_count": 2,
   "metadata": {},
   "outputs": [],
   "source": [
    "#import data\n",
    "trump_ratings = pd.read_csv('data/approval_topline.csv',index_col=None)"
   ]
  },
  {
   "cell_type": "code",
   "execution_count": 3,
   "metadata": {},
   "outputs": [
    {
     "data": {
      "text/html": [
       "<div>\n",
       "<style scoped>\n",
       "    .dataframe tbody tr th:only-of-type {\n",
       "        vertical-align: middle;\n",
       "    }\n",
       "\n",
       "    .dataframe tbody tr th {\n",
       "        vertical-align: top;\n",
       "    }\n",
       "\n",
       "    .dataframe thead th {\n",
       "        text-align: right;\n",
       "    }\n",
       "</style>\n",
       "<table border=\"1\" class=\"dataframe\">\n",
       "  <thead>\n",
       "    <tr style=\"text-align: right;\">\n",
       "      <th></th>\n",
       "      <th>president</th>\n",
       "      <th>subgroup</th>\n",
       "      <th>modeldate</th>\n",
       "      <th>approve_estimate</th>\n",
       "      <th>approve_hi</th>\n",
       "      <th>approve_lo</th>\n",
       "      <th>disapprove_estimate</th>\n",
       "      <th>disapprove_hi</th>\n",
       "      <th>disapprove_lo</th>\n",
       "      <th>timestamp</th>\n",
       "    </tr>\n",
       "  </thead>\n",
       "  <tbody>\n",
       "    <tr>\n",
       "      <th>0</th>\n",
       "      <td>Donald Trump</td>\n",
       "      <td>Voters</td>\n",
       "      <td>1/18/2019</td>\n",
       "      <td>41.39695</td>\n",
       "      <td>44.85084</td>\n",
       "      <td>37.94306</td>\n",
       "      <td>54.51344</td>\n",
       "      <td>57.61982</td>\n",
       "      <td>51.40707</td>\n",
       "      <td>23:50:20 18 Jan 2019</td>\n",
       "    </tr>\n",
       "    <tr>\n",
       "      <th>1</th>\n",
       "      <td>Donald Trump</td>\n",
       "      <td>Adults</td>\n",
       "      <td>1/18/2019</td>\n",
       "      <td>39.06089</td>\n",
       "      <td>42.77406</td>\n",
       "      <td>35.34771</td>\n",
       "      <td>55.50785</td>\n",
       "      <td>59.60451</td>\n",
       "      <td>51.41118</td>\n",
       "      <td>23:49:44 18 Jan 2019</td>\n",
       "    </tr>\n",
       "    <tr>\n",
       "      <th>2</th>\n",
       "      <td>Donald Trump</td>\n",
       "      <td>All polls</td>\n",
       "      <td>1/18/2019</td>\n",
       "      <td>40.00951</td>\n",
       "      <td>44.12838</td>\n",
       "      <td>35.89064</td>\n",
       "      <td>55.16333</td>\n",
       "      <td>58.86282</td>\n",
       "      <td>51.46384</td>\n",
       "      <td>23:49:12 18 Jan 2019</td>\n",
       "    </tr>\n",
       "  </tbody>\n",
       "</table>\n",
       "</div>"
      ],
      "text/plain": [
       "      president   subgroup  modeldate  approve_estimate  approve_hi  \\\n",
       "0  Donald Trump     Voters  1/18/2019          41.39695    44.85084   \n",
       "1  Donald Trump     Adults  1/18/2019          39.06089    42.77406   \n",
       "2  Donald Trump  All polls  1/18/2019          40.00951    44.12838   \n",
       "\n",
       "   approve_lo  disapprove_estimate  disapprove_hi  disapprove_lo  \\\n",
       "0    37.94306             54.51344       57.61982       51.40707   \n",
       "1    35.34771             55.50785       59.60451       51.41118   \n",
       "2    35.89064             55.16333       58.86282       51.46384   \n",
       "\n",
       "              timestamp  \n",
       "0  23:50:20 18 Jan 2019  \n",
       "1  23:49:44 18 Jan 2019  \n",
       "2  23:49:12 18 Jan 2019  "
      ]
     },
     "execution_count": 3,
     "metadata": {},
     "output_type": "execute_result"
    }
   ],
   "source": [
    "trump_ratings.head(3)"
   ]
  },
  {
   "cell_type": "code",
   "execution_count": 4,
   "metadata": {},
   "outputs": [
    {
     "name": "stdout",
     "output_type": "stream",
     "text": [
      "<class 'pandas.core.frame.DataFrame'>\n",
      "RangeIndex: 2178 entries, 0 to 2177\n",
      "Data columns (total 10 columns):\n",
      "president              2178 non-null object\n",
      "subgroup               2178 non-null object\n",
      "modeldate              2178 non-null object\n",
      "approve_estimate       2178 non-null float64\n",
      "approve_hi             2178 non-null float64\n",
      "approve_lo             2178 non-null float64\n",
      "disapprove_estimate    2178 non-null float64\n",
      "disapprove_hi          2178 non-null float64\n",
      "disapprove_lo          2178 non-null float64\n",
      "timestamp              2178 non-null object\n",
      "dtypes: float64(6), object(4)\n",
      "memory usage: 170.2+ KB\n"
     ]
    }
   ],
   "source": [
    "trump_ratings.info()"
   ]
  },
  {
   "cell_type": "code",
   "execution_count": 5,
   "metadata": {},
   "outputs": [],
   "source": [
    "#Change date object to datetime\n",
    "trump_ratings['modeldate'] = pd.to_datetime(trump_ratings['modeldate'])"
   ]
  },
  {
   "cell_type": "code",
   "execution_count": 6,
   "metadata": {},
   "outputs": [],
   "source": [
    "#group by date and average rating for adults, voters, and all polls\n",
    "dt_ratings = trump_ratings.groupby(['modeldate']).mean()"
   ]
  },
  {
   "cell_type": "code",
   "execution_count": 7,
   "metadata": {},
   "outputs": [],
   "source": [
    "#drop min and max approval scores for each day (only look at average)\n",
    "dt_ratings.drop(['approve_hi', 'approve_lo', 'disapprove_hi', 'disapprove_lo'], axis=1, inplace=True)"
   ]
  },
  {
   "cell_type": "code",
   "execution_count": 8,
   "metadata": {},
   "outputs": [],
   "source": [
    "#create column for net approval\n",
    "\n",
    "dt_ratings['net_approval'] = dt_ratings['approve_estimate'] - dt_ratings['disapprove_estimate']"
   ]
  },
  {
   "cell_type": "code",
   "execution_count": 10,
   "metadata": {},
   "outputs": [],
   "source": [
    "with open('dt_ratings.pickle', 'wb') as to_write:\n",
    "    pickle.dump(dt_ratings, to_write)"
   ]
  },
  {
   "cell_type": "code",
   "execution_count": 188,
   "metadata": {},
   "outputs": [],
   "source": [
    "#create dataframe for net approvals (approval-disapproval) only\n",
    "approvals_net = dt_ratings.drop(['approve_estimate', 'disapprove_estimate'], axis=1)"
   ]
  },
  {
   "cell_type": "code",
   "execution_count": 189,
   "metadata": {},
   "outputs": [
    {
     "name": "stdout",
     "output_type": "stream",
     "text": [
      "<class 'pandas.core.frame.DataFrame'>\n",
      "DatetimeIndex: 726 entries, 2017-01-23 to 2019-01-18\n",
      "Data columns (total 1 columns):\n",
      "net_approval    726 non-null float64\n",
      "dtypes: float64(1)\n",
      "memory usage: 11.3 KB\n"
     ]
    }
   ],
   "source": [
    "approvals_net.info();"
   ]
  },
  {
   "cell_type": "code",
   "execution_count": 190,
   "metadata": {},
   "outputs": [],
   "source": [
    "approvals_net.head();"
   ]
  },
  {
   "cell_type": "markdown",
   "metadata": {},
   "source": [
    "**Dow Jones Historical Data**"
   ]
  },
  {
   "cell_type": "code",
   "execution_count": 11,
   "metadata": {},
   "outputs": [],
   "source": [
    "djia_df = pd.read_csv('data/DJIA.csv', index_col='Date')"
   ]
  },
  {
   "cell_type": "code",
   "execution_count": 12,
   "metadata": {},
   "outputs": [
    {
     "data": {
      "text/html": [
       "<div>\n",
       "<style scoped>\n",
       "    .dataframe tbody tr th:only-of-type {\n",
       "        vertical-align: middle;\n",
       "    }\n",
       "\n",
       "    .dataframe tbody tr th {\n",
       "        vertical-align: top;\n",
       "    }\n",
       "\n",
       "    .dataframe thead th {\n",
       "        text-align: right;\n",
       "    }\n",
       "</style>\n",
       "<table border=\"1\" class=\"dataframe\">\n",
       "  <thead>\n",
       "    <tr style=\"text-align: right;\">\n",
       "      <th></th>\n",
       "      <th>Price</th>\n",
       "      <th>Open</th>\n",
       "      <th>High</th>\n",
       "      <th>Low</th>\n",
       "      <th>Vol.</th>\n",
       "      <th>Change %</th>\n",
       "    </tr>\n",
       "    <tr>\n",
       "      <th>Date</th>\n",
       "      <th></th>\n",
       "      <th></th>\n",
       "      <th></th>\n",
       "      <th></th>\n",
       "      <th></th>\n",
       "      <th></th>\n",
       "    </tr>\n",
       "  </thead>\n",
       "  <tbody>\n",
       "    <tr>\n",
       "      <th>Jan 27, 2017</th>\n",
       "      <td>20,093.78</td>\n",
       "      <td>20,103.36</td>\n",
       "      <td>20,115.97</td>\n",
       "      <td>20,072.64</td>\n",
       "      <td>343.13M</td>\n",
       "      <td>-0.04%</td>\n",
       "    </tr>\n",
       "    <tr>\n",
       "      <th>Jan 26, 2017</th>\n",
       "      <td>20,100.91</td>\n",
       "      <td>20,076.25</td>\n",
       "      <td>20,125.58</td>\n",
       "      <td>20,067.53</td>\n",
       "      <td>356.73M</td>\n",
       "      <td>0.16%</td>\n",
       "    </tr>\n",
       "    <tr>\n",
       "      <th>Jan 25, 2017</th>\n",
       "      <td>20,068.51</td>\n",
       "      <td>19,994.48</td>\n",
       "      <td>20,082.00</td>\n",
       "      <td>19,994.48</td>\n",
       "      <td>372.24M</td>\n",
       "      <td>0.78%</td>\n",
       "    </tr>\n",
       "    <tr>\n",
       "      <th>Jan 24, 2017</th>\n",
       "      <td>19,912.71</td>\n",
       "      <td>19,794.68</td>\n",
       "      <td>19,949.24</td>\n",
       "      <td>19,786.71</td>\n",
       "      <td>374.46M</td>\n",
       "      <td>0.57%</td>\n",
       "    </tr>\n",
       "    <tr>\n",
       "      <th>Jan 23, 2017</th>\n",
       "      <td>19,799.85</td>\n",
       "      <td>19,794.79</td>\n",
       "      <td>19,833.98</td>\n",
       "      <td>19,732.36</td>\n",
       "      <td>326.69M</td>\n",
       "      <td>-0.14%</td>\n",
       "    </tr>\n",
       "  </tbody>\n",
       "</table>\n",
       "</div>"
      ],
      "text/plain": [
       "                  Price       Open       High        Low     Vol. Change %\n",
       "Date                                                                      \n",
       "Jan 27, 2017  20,093.78  20,103.36  20,115.97  20,072.64  343.13M   -0.04%\n",
       "Jan 26, 2017  20,100.91  20,076.25  20,125.58  20,067.53  356.73M    0.16%\n",
       "Jan 25, 2017  20,068.51  19,994.48  20,082.00  19,994.48  372.24M    0.78%\n",
       "Jan 24, 2017  19,912.71  19,794.68  19,949.24  19,786.71  374.46M    0.57%\n",
       "Jan 23, 2017  19,799.85  19,794.79  19,833.98  19,732.36  326.69M   -0.14%"
      ]
     },
     "execution_count": 12,
     "metadata": {},
     "output_type": "execute_result"
    }
   ],
   "source": [
    "djia_df.tail()"
   ]
  },
  {
   "cell_type": "code",
   "execution_count": 13,
   "metadata": {},
   "outputs": [],
   "source": [
    "djia_df.index = pd.to_datetime(djia_df.index)"
   ]
  },
  {
   "cell_type": "code",
   "execution_count": 14,
   "metadata": {},
   "outputs": [
    {
     "data": {
      "text/html": [
       "<div>\n",
       "<style scoped>\n",
       "    .dataframe tbody tr th:only-of-type {\n",
       "        vertical-align: middle;\n",
       "    }\n",
       "\n",
       "    .dataframe tbody tr th {\n",
       "        vertical-align: top;\n",
       "    }\n",
       "\n",
       "    .dataframe thead th {\n",
       "        text-align: right;\n",
       "    }\n",
       "</style>\n",
       "<table border=\"1\" class=\"dataframe\">\n",
       "  <thead>\n",
       "    <tr style=\"text-align: right;\">\n",
       "      <th></th>\n",
       "      <th>Price</th>\n",
       "      <th>Open</th>\n",
       "      <th>High</th>\n",
       "      <th>Low</th>\n",
       "      <th>Vol.</th>\n",
       "      <th>Change %</th>\n",
       "    </tr>\n",
       "    <tr>\n",
       "      <th>Date</th>\n",
       "      <th></th>\n",
       "      <th></th>\n",
       "      <th></th>\n",
       "      <th></th>\n",
       "      <th></th>\n",
       "      <th></th>\n",
       "    </tr>\n",
       "  </thead>\n",
       "  <tbody>\n",
       "    <tr>\n",
       "      <th>2017-01-27</th>\n",
       "      <td>20,093.78</td>\n",
       "      <td>20,103.36</td>\n",
       "      <td>20,115.97</td>\n",
       "      <td>20,072.64</td>\n",
       "      <td>343.13M</td>\n",
       "      <td>-0.04%</td>\n",
       "    </tr>\n",
       "    <tr>\n",
       "      <th>2017-01-26</th>\n",
       "      <td>20,100.91</td>\n",
       "      <td>20,076.25</td>\n",
       "      <td>20,125.58</td>\n",
       "      <td>20,067.53</td>\n",
       "      <td>356.73M</td>\n",
       "      <td>0.16%</td>\n",
       "    </tr>\n",
       "    <tr>\n",
       "      <th>2017-01-25</th>\n",
       "      <td>20,068.51</td>\n",
       "      <td>19,994.48</td>\n",
       "      <td>20,082.00</td>\n",
       "      <td>19,994.48</td>\n",
       "      <td>372.24M</td>\n",
       "      <td>0.78%</td>\n",
       "    </tr>\n",
       "    <tr>\n",
       "      <th>2017-01-24</th>\n",
       "      <td>19,912.71</td>\n",
       "      <td>19,794.68</td>\n",
       "      <td>19,949.24</td>\n",
       "      <td>19,786.71</td>\n",
       "      <td>374.46M</td>\n",
       "      <td>0.57%</td>\n",
       "    </tr>\n",
       "    <tr>\n",
       "      <th>2017-01-23</th>\n",
       "      <td>19,799.85</td>\n",
       "      <td>19,794.79</td>\n",
       "      <td>19,833.98</td>\n",
       "      <td>19,732.36</td>\n",
       "      <td>326.69M</td>\n",
       "      <td>-0.14%</td>\n",
       "    </tr>\n",
       "  </tbody>\n",
       "</table>\n",
       "</div>"
      ],
      "text/plain": [
       "                Price       Open       High        Low     Vol. Change %\n",
       "Date                                                                    \n",
       "2017-01-27  20,093.78  20,103.36  20,115.97  20,072.64  343.13M   -0.04%\n",
       "2017-01-26  20,100.91  20,076.25  20,125.58  20,067.53  356.73M    0.16%\n",
       "2017-01-25  20,068.51  19,994.48  20,082.00  19,994.48  372.24M    0.78%\n",
       "2017-01-24  19,912.71  19,794.68  19,949.24  19,786.71  374.46M    0.57%\n",
       "2017-01-23  19,799.85  19,794.79  19,833.98  19,732.36  326.69M   -0.14%"
      ]
     },
     "execution_count": 14,
     "metadata": {},
     "output_type": "execute_result"
    }
   ],
   "source": [
    "djia_df.tail()"
   ]
  },
  {
   "cell_type": "code",
   "execution_count": 15,
   "metadata": {},
   "outputs": [],
   "source": [
    "# Fill null values with last valid observation\n",
    "\n",
    "djia_df['Price'] = djia_df['Price'].fillna(method='backfill')"
   ]
  },
  {
   "cell_type": "code",
   "execution_count": 16,
   "metadata": {},
   "outputs": [],
   "source": [
    "#Remove 'M' from volume Note volume is in Millions\n",
    "\n",
    "djia_df['Vol.'] = djia_df['Vol.'].apply(lambda x: x.strip('M'))"
   ]
  },
  {
   "cell_type": "code",
   "execution_count": 17,
   "metadata": {},
   "outputs": [],
   "source": [
    "#Remove comma from price\n",
    "\n",
    "djia_df['Price'] = djia_df['Price'].apply(lambda x: x.replace(',', ''))"
   ]
  },
  {
   "cell_type": "code",
   "execution_count": 18,
   "metadata": {},
   "outputs": [],
   "source": [
    "#Convert objects to float\n",
    "\n",
    "djia_df['Price']= djia_df['Price'].astype(float)\n",
    "\n",
    "djia_df['Vol.']= djia_df['Vol.'].astype(float)"
   ]
  },
  {
   "cell_type": "code",
   "execution_count": 199,
   "metadata": {},
   "outputs": [
    {
     "name": "stdout",
     "output_type": "stream",
     "text": [
      "<class 'pandas.core.frame.DataFrame'>\n",
      "DatetimeIndex: 502 entries, 2019-01-18 to 2017-01-23\n",
      "Data columns (total 6 columns):\n",
      "Price       502 non-null float64\n",
      "Open        502 non-null object\n",
      "High        502 non-null object\n",
      "Low         502 non-null object\n",
      "Vol.        502 non-null float64\n",
      "Change %    502 non-null object\n",
      "dtypes: float64(2), object(4)\n",
      "memory usage: 27.5+ KB\n"
     ]
    }
   ],
   "source": [
    "djia_df.info()"
   ]
  },
  {
   "cell_type": "code",
   "execution_count": 19,
   "metadata": {},
   "outputs": [],
   "source": [
    "with open('djia_data.pickle', 'wb') as to_write:\n",
    "    pickle.dump(djia_df, to_write)"
   ]
  },
  {
   "cell_type": "code",
   "execution_count": 200,
   "metadata": {},
   "outputs": [],
   "source": [
    "djia_price = djia_df.drop(['Open', 'High', 'Low', 'Vol.', 'Change %'], axis=1)"
   ]
  },
  {
   "cell_type": "code",
   "execution_count": 201,
   "metadata": {},
   "outputs": [
    {
     "data": {
      "text/html": [
       "<div>\n",
       "<style scoped>\n",
       "    .dataframe tbody tr th:only-of-type {\n",
       "        vertical-align: middle;\n",
       "    }\n",
       "\n",
       "    .dataframe tbody tr th {\n",
       "        vertical-align: top;\n",
       "    }\n",
       "\n",
       "    .dataframe thead th {\n",
       "        text-align: right;\n",
       "    }\n",
       "</style>\n",
       "<table border=\"1\" class=\"dataframe\">\n",
       "  <thead>\n",
       "    <tr style=\"text-align: right;\">\n",
       "      <th></th>\n",
       "      <th>Price</th>\n",
       "    </tr>\n",
       "    <tr>\n",
       "      <th>Date</th>\n",
       "      <th></th>\n",
       "    </tr>\n",
       "  </thead>\n",
       "  <tbody>\n",
       "    <tr>\n",
       "      <th>2019-01-18</th>\n",
       "      <td>24706.35</td>\n",
       "    </tr>\n",
       "    <tr>\n",
       "      <th>2019-01-17</th>\n",
       "      <td>24370.10</td>\n",
       "    </tr>\n",
       "    <tr>\n",
       "      <th>2019-01-16</th>\n",
       "      <td>24207.16</td>\n",
       "    </tr>\n",
       "  </tbody>\n",
       "</table>\n",
       "</div>"
      ],
      "text/plain": [
       "               Price\n",
       "Date                \n",
       "2019-01-18  24706.35\n",
       "2019-01-17  24370.10\n",
       "2019-01-16  24207.16"
      ]
     },
     "execution_count": 201,
     "metadata": {},
     "output_type": "execute_result"
    }
   ],
   "source": [
    "djia_price.head(3)"
   ]
  },
  {
   "cell_type": "markdown",
   "metadata": {},
   "source": [
    "**Combine Dataframes**"
   ]
  },
  {
   "cell_type": "code",
   "execution_count": 202,
   "metadata": {},
   "outputs": [],
   "source": [
    "master_df = approvals_net.join(djia_price, how='outer')"
   ]
  },
  {
   "cell_type": "code",
   "execution_count": 203,
   "metadata": {},
   "outputs": [],
   "source": [
    "# Fill null values with last valid observation\n",
    "\n",
    "master_df['Price'] = master_df['Price'].fillna(method='backfill')"
   ]
  },
  {
   "cell_type": "code",
   "execution_count": 204,
   "metadata": {},
   "outputs": [
    {
     "name": "stdout",
     "output_type": "stream",
     "text": [
      "<class 'pandas.core.frame.DataFrame'>\n",
      "DatetimeIndex: 726 entries, 2017-01-23 to 2019-01-18\n",
      "Data columns (total 2 columns):\n",
      "net_approval    726 non-null float64\n",
      "Price           726 non-null float64\n",
      "dtypes: float64(2)\n",
      "memory usage: 17.0 KB\n"
     ]
    }
   ],
   "source": [
    "master_df.info()"
   ]
  },
  {
   "cell_type": "code",
   "execution_count": 205,
   "metadata": {},
   "outputs": [],
   "source": [
    "master_df.head(20);"
   ]
  },
  {
   "cell_type": "markdown",
   "metadata": {},
   "source": [
    "**Load and add twitter data**"
   ]
  },
  {
   "cell_type": "code",
   "execution_count": 206,
   "metadata": {},
   "outputs": [],
   "source": [
    "dt_tweets = pd.read_pickle('dt_tweets.pickle')"
   ]
  },
  {
   "cell_type": "code",
   "execution_count": 207,
   "metadata": {},
   "outputs": [],
   "source": [
    "dt_tweets = dt_tweets.drop(['neg', 'neu','pos','text'], axis=1)"
   ]
  },
  {
   "cell_type": "code",
   "execution_count": 208,
   "metadata": {},
   "outputs": [
    {
     "data": {
      "text/html": [
       "<div>\n",
       "<style scoped>\n",
       "    .dataframe tbody tr th:only-of-type {\n",
       "        vertical-align: middle;\n",
       "    }\n",
       "\n",
       "    .dataframe tbody tr th {\n",
       "        vertical-align: top;\n",
       "    }\n",
       "\n",
       "    .dataframe thead th {\n",
       "        text-align: right;\n",
       "    }\n",
       "</style>\n",
       "<table border=\"1\" class=\"dataframe\">\n",
       "  <thead>\n",
       "    <tr style=\"text-align: right;\">\n",
       "      <th></th>\n",
       "      <th>date</th>\n",
       "      <th>compound</th>\n",
       "      <th>sentiment</th>\n",
       "    </tr>\n",
       "  </thead>\n",
       "  <tbody>\n",
       "    <tr>\n",
       "      <th>0</th>\n",
       "      <td>2017-01-23</td>\n",
       "      <td>0.4939</td>\n",
       "      <td>0</td>\n",
       "    </tr>\n",
       "    <tr>\n",
       "      <th>1</th>\n",
       "      <td>2017-01-24</td>\n",
       "      <td>0.2732</td>\n",
       "      <td>0</td>\n",
       "    </tr>\n",
       "    <tr>\n",
       "      <th>2</th>\n",
       "      <td>2017-01-24</td>\n",
       "      <td>0.0772</td>\n",
       "      <td>0</td>\n",
       "    </tr>\n",
       "    <tr>\n",
       "      <th>3</th>\n",
       "      <td>2017-01-24</td>\n",
       "      <td>0.6249</td>\n",
       "      <td>0</td>\n",
       "    </tr>\n",
       "    <tr>\n",
       "      <th>4</th>\n",
       "      <td>2017-01-24</td>\n",
       "      <td>0.0000</td>\n",
       "      <td>0</td>\n",
       "    </tr>\n",
       "    <tr>\n",
       "      <th>5</th>\n",
       "      <td>2017-01-25</td>\n",
       "      <td>0.6249</td>\n",
       "      <td>0</td>\n",
       "    </tr>\n",
       "    <tr>\n",
       "      <th>6</th>\n",
       "      <td>2017-01-25</td>\n",
       "      <td>0.4708</td>\n",
       "      <td>0</td>\n",
       "    </tr>\n",
       "    <tr>\n",
       "      <th>7</th>\n",
       "      <td>2017-01-25</td>\n",
       "      <td>-0.8402</td>\n",
       "      <td>1</td>\n",
       "    </tr>\n",
       "    <tr>\n",
       "      <th>8</th>\n",
       "      <td>2017-01-25</td>\n",
       "      <td>0.4824</td>\n",
       "      <td>0</td>\n",
       "    </tr>\n",
       "    <tr>\n",
       "      <th>9</th>\n",
       "      <td>2017-01-25</td>\n",
       "      <td>-0.8455</td>\n",
       "      <td>1</td>\n",
       "    </tr>\n",
       "  </tbody>\n",
       "</table>\n",
       "</div>"
      ],
      "text/plain": [
       "        date  compound  sentiment\n",
       "0 2017-01-23    0.4939          0\n",
       "1 2017-01-24    0.2732          0\n",
       "2 2017-01-24    0.0772          0\n",
       "3 2017-01-24    0.6249          0\n",
       "4 2017-01-24    0.0000          0\n",
       "5 2017-01-25    0.6249          0\n",
       "6 2017-01-25    0.4708          0\n",
       "7 2017-01-25   -0.8402          1\n",
       "8 2017-01-25    0.4824          0\n",
       "9 2017-01-25   -0.8455          1"
      ]
     },
     "execution_count": 208,
     "metadata": {},
     "output_type": "execute_result"
    }
   ],
   "source": [
    "dt_tweets.head(10)"
   ]
  },
  {
   "cell_type": "code",
   "execution_count": 209,
   "metadata": {},
   "outputs": [
    {
     "data": {
      "text/plain": [
       "Index(['date', 'compound', 'sentiment'], dtype='object')"
      ]
     },
     "execution_count": 209,
     "metadata": {},
     "output_type": "execute_result"
    }
   ],
   "source": [
    "dt_tweets.columns"
   ]
  },
  {
   "cell_type": "code",
   "execution_count": 210,
   "metadata": {},
   "outputs": [],
   "source": [
    "dt_tweets = dt_tweets.groupby(['date']).agg('sum').reset_index()"
   ]
  },
  {
   "cell_type": "code",
   "execution_count": 211,
   "metadata": {},
   "outputs": [],
   "source": [
    "dt_tweets = dt_tweets.set_index('date')"
   ]
  },
  {
   "cell_type": "code",
   "execution_count": 212,
   "metadata": {},
   "outputs": [],
   "source": [
    "master_df = master_df.join(dt_tweets)"
   ]
  },
  {
   "cell_type": "code",
   "execution_count": 213,
   "metadata": {},
   "outputs": [
    {
     "data": {
      "text/html": [
       "<div>\n",
       "<style scoped>\n",
       "    .dataframe tbody tr th:only-of-type {\n",
       "        vertical-align: middle;\n",
       "    }\n",
       "\n",
       "    .dataframe tbody tr th {\n",
       "        vertical-align: top;\n",
       "    }\n",
       "\n",
       "    .dataframe thead th {\n",
       "        text-align: right;\n",
       "    }\n",
       "</style>\n",
       "<table border=\"1\" class=\"dataframe\">\n",
       "  <thead>\n",
       "    <tr style=\"text-align: right;\">\n",
       "      <th></th>\n",
       "      <th>net_approval</th>\n",
       "      <th>Price</th>\n",
       "      <th>compound</th>\n",
       "      <th>sentiment</th>\n",
       "    </tr>\n",
       "  </thead>\n",
       "  <tbody>\n",
       "    <tr>\n",
       "      <th>2017-01-23</th>\n",
       "      <td>4.400803</td>\n",
       "      <td>19799.85</td>\n",
       "      <td>0.4939</td>\n",
       "      <td>0.0</td>\n",
       "    </tr>\n",
       "    <tr>\n",
       "      <th>2017-01-24</th>\n",
       "      <td>3.939187</td>\n",
       "      <td>19912.71</td>\n",
       "      <td>0.9753</td>\n",
       "      <td>0.0</td>\n",
       "    </tr>\n",
       "    <tr>\n",
       "      <th>2017-01-25</th>\n",
       "      <td>4.297997</td>\n",
       "      <td>20068.51</td>\n",
       "      <td>0.1605</td>\n",
       "      <td>3.0</td>\n",
       "    </tr>\n",
       "    <tr>\n",
       "      <th>2017-01-26</th>\n",
       "      <td>3.376683</td>\n",
       "      <td>20100.91</td>\n",
       "      <td>0.5197</td>\n",
       "      <td>3.0</td>\n",
       "    </tr>\n",
       "    <tr>\n",
       "      <th>2017-01-27</th>\n",
       "      <td>2.589067</td>\n",
       "      <td>20093.78</td>\n",
       "      <td>1.8175</td>\n",
       "      <td>1.0</td>\n",
       "    </tr>\n",
       "    <tr>\n",
       "      <th>2017-01-28</th>\n",
       "      <td>2.030490</td>\n",
       "      <td>19971.13</td>\n",
       "      <td>-0.4928</td>\n",
       "      <td>2.0</td>\n",
       "    </tr>\n",
       "    <tr>\n",
       "      <th>2017-01-29</th>\n",
       "      <td>1.911960</td>\n",
       "      <td>19971.13</td>\n",
       "      <td>-2.7618</td>\n",
       "      <td>5.0</td>\n",
       "    </tr>\n",
       "    <tr>\n",
       "      <th>2017-01-30</th>\n",
       "      <td>1.717383</td>\n",
       "      <td>19971.13</td>\n",
       "      <td>-1.0777</td>\n",
       "      <td>5.0</td>\n",
       "    </tr>\n",
       "    <tr>\n",
       "      <th>2017-01-31</th>\n",
       "      <td>0.922157</td>\n",
       "      <td>19864.09</td>\n",
       "      <td>0.0619</td>\n",
       "      <td>1.0</td>\n",
       "    </tr>\n",
       "    <tr>\n",
       "      <th>2017-02-01</th>\n",
       "      <td>0.237480</td>\n",
       "      <td>19890.94</td>\n",
       "      <td>1.2483</td>\n",
       "      <td>1.0</td>\n",
       "    </tr>\n",
       "  </tbody>\n",
       "</table>\n",
       "</div>"
      ],
      "text/plain": [
       "            net_approval     Price  compound  sentiment\n",
       "2017-01-23      4.400803  19799.85    0.4939        0.0\n",
       "2017-01-24      3.939187  19912.71    0.9753        0.0\n",
       "2017-01-25      4.297997  20068.51    0.1605        3.0\n",
       "2017-01-26      3.376683  20100.91    0.5197        3.0\n",
       "2017-01-27      2.589067  20093.78    1.8175        1.0\n",
       "2017-01-28      2.030490  19971.13   -0.4928        2.0\n",
       "2017-01-29      1.911960  19971.13   -2.7618        5.0\n",
       "2017-01-30      1.717383  19971.13   -1.0777        5.0\n",
       "2017-01-31      0.922157  19864.09    0.0619        1.0\n",
       "2017-02-01      0.237480  19890.94    1.2483        1.0"
      ]
     },
     "execution_count": 213,
     "metadata": {},
     "output_type": "execute_result"
    }
   ],
   "source": [
    "master_df.head(10)"
   ]
  },
  {
   "cell_type": "markdown",
   "metadata": {},
   "source": [
    "**Load and add Google Trends data**"
   ]
  },
  {
   "cell_type": "code",
   "execution_count": 214,
   "metadata": {},
   "outputs": [],
   "source": [
    "trump_kw_df = pd.read_csv('data/trump_google_trends.csv', index_col='Week')\n",
    "trump_mueller_df = pd.read_csv('data/trump_mueller_google_trends.csv', index_col='Week')"
   ]
  },
  {
   "cell_type": "code",
   "execution_count": 215,
   "metadata": {},
   "outputs": [],
   "source": [
    "#Change date object to datetime\n",
    "trump_kw_df.index = pd.to_datetime(trump_kw_df.index)\n",
    "trump_mueller_df.index = pd.to_datetime(trump_mueller_df.index)"
   ]
  },
  {
   "cell_type": "code",
   "execution_count": 216,
   "metadata": {},
   "outputs": [
    {
     "data": {
      "text/html": [
       "<div>\n",
       "<style scoped>\n",
       "    .dataframe tbody tr th:only-of-type {\n",
       "        vertical-align: middle;\n",
       "    }\n",
       "\n",
       "    .dataframe tbody tr th {\n",
       "        vertical-align: top;\n",
       "    }\n",
       "\n",
       "    .dataframe thead th {\n",
       "        text-align: right;\n",
       "    }\n",
       "</style>\n",
       "<table border=\"1\" class=\"dataframe\">\n",
       "  <thead>\n",
       "    <tr style=\"text-align: right;\">\n",
       "      <th></th>\n",
       "      <th>trump_mueller_kw</th>\n",
       "    </tr>\n",
       "    <tr>\n",
       "      <th>Week</th>\n",
       "      <th></th>\n",
       "    </tr>\n",
       "  </thead>\n",
       "  <tbody>\n",
       "    <tr>\n",
       "      <th>2017-01-29</th>\n",
       "      <td>0</td>\n",
       "    </tr>\n",
       "    <tr>\n",
       "      <th>2017-02-05</th>\n",
       "      <td>0</td>\n",
       "    </tr>\n",
       "    <tr>\n",
       "      <th>2017-02-12</th>\n",
       "      <td>0</td>\n",
       "    </tr>\n",
       "    <tr>\n",
       "      <th>2017-02-19</th>\n",
       "      <td>0</td>\n",
       "    </tr>\n",
       "    <tr>\n",
       "      <th>2017-02-26</th>\n",
       "      <td>0</td>\n",
       "    </tr>\n",
       "    <tr>\n",
       "      <th>2017-03-05</th>\n",
       "      <td>0</td>\n",
       "    </tr>\n",
       "    <tr>\n",
       "      <th>2017-03-12</th>\n",
       "      <td>0</td>\n",
       "    </tr>\n",
       "    <tr>\n",
       "      <th>2017-03-19</th>\n",
       "      <td>0</td>\n",
       "    </tr>\n",
       "    <tr>\n",
       "      <th>2017-03-26</th>\n",
       "      <td>1</td>\n",
       "    </tr>\n",
       "    <tr>\n",
       "      <th>2017-04-02</th>\n",
       "      <td>0</td>\n",
       "    </tr>\n",
       "  </tbody>\n",
       "</table>\n",
       "</div>"
      ],
      "text/plain": [
       "            trump_mueller_kw\n",
       "Week                        \n",
       "2017-01-29                 0\n",
       "2017-02-05                 0\n",
       "2017-02-12                 0\n",
       "2017-02-19                 0\n",
       "2017-02-26                 0\n",
       "2017-03-05                 0\n",
       "2017-03-12                 0\n",
       "2017-03-19                 0\n",
       "2017-03-26                 1\n",
       "2017-04-02                 0"
      ]
     },
     "execution_count": 216,
     "metadata": {},
     "output_type": "execute_result"
    }
   ],
   "source": [
    "trump_mueller_df.head(10)"
   ]
  },
  {
   "cell_type": "code",
   "execution_count": 217,
   "metadata": {},
   "outputs": [],
   "source": [
    "master_df = master_df.join(trump_kw_df, how='outer')"
   ]
  },
  {
   "cell_type": "code",
   "execution_count": 218,
   "metadata": {},
   "outputs": [],
   "source": [
    "master_df = master_df.join(trump_mueller_df)"
   ]
  },
  {
   "cell_type": "code",
   "execution_count": 219,
   "metadata": {},
   "outputs": [],
   "source": [
    "#master_df = master_df.drop(['trump_kw', 'trump_mueller_kw'], axis=1)"
   ]
  },
  {
   "cell_type": "code",
   "execution_count": 221,
   "metadata": {},
   "outputs": [],
   "source": [
    "# Fill null values with last valid observation\n",
    "\n",
    "master_df['trump_kw'] = master_df['trump_kw'].fillna(method='ffill')"
   ]
  },
  {
   "cell_type": "code",
   "execution_count": 223,
   "metadata": {},
   "outputs": [],
   "source": [
    "# Fill null values with last valid observation\n",
    "\n",
    "master_df['trump_mueller_kw'] = master_df['trump_mueller_kw'].fillna(method='ffill')"
   ]
  },
  {
   "cell_type": "code",
   "execution_count": 225,
   "metadata": {},
   "outputs": [],
   "source": [
    "# Fill nfirst week ull values with next valid observation\n",
    "\n",
    "master_df['trump_kw'] = master_df['trump_kw'].fillna(method='backfill')\n",
    "master_df['trump_mueller_kw'] = master_df['trump_mueller_kw'].fillna(method='backfill')"
   ]
  },
  {
   "cell_type": "code",
   "execution_count": 240,
   "metadata": {},
   "outputs": [],
   "source": [
    "master_df['compound'] = master_df['compound'].fillna(method='backfill')\n",
    "master_df['sentiment'] = master_df['sentiment'].fillna(method='backfill')"
   ]
  },
  {
   "cell_type": "code",
   "execution_count": 244,
   "metadata": {},
   "outputs": [
    {
     "name": "stdout",
     "output_type": "stream",
     "text": [
      "<class 'pandas.core.frame.DataFrame'>\n",
      "DatetimeIndex: 726 entries, 2017-01-23 to 2019-01-18\n",
      "Data columns (total 6 columns):\n",
      "net_approval        726 non-null float64\n",
      "Price               726 non-null float64\n",
      "compound            726 non-null float64\n",
      "sentiment           726 non-null float64\n",
      "trump_kw            726 non-null float64\n",
      "trump_mueller_kw    726 non-null float64\n",
      "dtypes: float64(6)\n",
      "memory usage: 59.7 KB\n"
     ]
    }
   ],
   "source": [
    "master_df.info();"
   ]
  },
  {
   "cell_type": "code",
   "execution_count": 245,
   "metadata": {},
   "outputs": [],
   "source": [
    "master_df.head(3);"
   ]
  },
  {
   "cell_type": "markdown",
   "metadata": {},
   "source": [
    "**Save Pickle**"
   ]
  },
  {
   "cell_type": "code",
   "execution_count": 246,
   "metadata": {},
   "outputs": [],
   "source": [
    "with open('dt_master.pickle', 'wb') as to_write:\n",
    "    pickle.dump(master_df, to_write)"
   ]
  },
  {
   "cell_type": "markdown",
   "metadata": {},
   "source": [
    "**Exploratory Data Analysis**"
   ]
  },
  {
   "cell_type": "code",
   "execution_count": 247,
   "metadata": {},
   "outputs": [
    {
     "data": {
      "text/html": [
       "<div>\n",
       "<style scoped>\n",
       "    .dataframe tbody tr th:only-of-type {\n",
       "        vertical-align: middle;\n",
       "    }\n",
       "\n",
       "    .dataframe tbody tr th {\n",
       "        vertical-align: top;\n",
       "    }\n",
       "\n",
       "    .dataframe thead th {\n",
       "        text-align: right;\n",
       "    }\n",
       "</style>\n",
       "<table border=\"1\" class=\"dataframe\">\n",
       "  <thead>\n",
       "    <tr style=\"text-align: right;\">\n",
       "      <th></th>\n",
       "      <th>net_approval</th>\n",
       "      <th>Price</th>\n",
       "      <th>compound</th>\n",
       "      <th>sentiment</th>\n",
       "      <th>trump_kw</th>\n",
       "      <th>trump_mueller_kw</th>\n",
       "    </tr>\n",
       "  </thead>\n",
       "  <tbody>\n",
       "    <tr>\n",
       "      <th>2017-01-23</th>\n",
       "      <td>4.400803</td>\n",
       "      <td>19799.85</td>\n",
       "      <td>0.4939</td>\n",
       "      <td>0.0</td>\n",
       "      <td>100.0</td>\n",
       "      <td>0.0</td>\n",
       "    </tr>\n",
       "    <tr>\n",
       "      <th>2017-01-24</th>\n",
       "      <td>3.939187</td>\n",
       "      <td>19912.71</td>\n",
       "      <td>0.9753</td>\n",
       "      <td>0.0</td>\n",
       "      <td>100.0</td>\n",
       "      <td>0.0</td>\n",
       "    </tr>\n",
       "    <tr>\n",
       "      <th>2017-01-25</th>\n",
       "      <td>4.297997</td>\n",
       "      <td>20068.51</td>\n",
       "      <td>0.1605</td>\n",
       "      <td>3.0</td>\n",
       "      <td>100.0</td>\n",
       "      <td>0.0</td>\n",
       "    </tr>\n",
       "    <tr>\n",
       "      <th>2017-01-26</th>\n",
       "      <td>3.376683</td>\n",
       "      <td>20100.91</td>\n",
       "      <td>0.5197</td>\n",
       "      <td>3.0</td>\n",
       "      <td>100.0</td>\n",
       "      <td>0.0</td>\n",
       "    </tr>\n",
       "    <tr>\n",
       "      <th>2017-01-27</th>\n",
       "      <td>2.589067</td>\n",
       "      <td>20093.78</td>\n",
       "      <td>1.8175</td>\n",
       "      <td>1.0</td>\n",
       "      <td>100.0</td>\n",
       "      <td>0.0</td>\n",
       "    </tr>\n",
       "  </tbody>\n",
       "</table>\n",
       "</div>"
      ],
      "text/plain": [
       "            net_approval     Price  compound  sentiment  trump_kw  \\\n",
       "2017-01-23      4.400803  19799.85    0.4939        0.0     100.0   \n",
       "2017-01-24      3.939187  19912.71    0.9753        0.0     100.0   \n",
       "2017-01-25      4.297997  20068.51    0.1605        3.0     100.0   \n",
       "2017-01-26      3.376683  20100.91    0.5197        3.0     100.0   \n",
       "2017-01-27      2.589067  20093.78    1.8175        1.0     100.0   \n",
       "\n",
       "            trump_mueller_kw  \n",
       "2017-01-23               0.0  \n",
       "2017-01-24               0.0  \n",
       "2017-01-25               0.0  \n",
       "2017-01-26               0.0  \n",
       "2017-01-27               0.0  "
      ]
     },
     "execution_count": 247,
     "metadata": {},
     "output_type": "execute_result"
    }
   ],
   "source": [
    "master_df.head()"
   ]
  },
  {
   "cell_type": "code",
   "execution_count": 143,
   "metadata": {},
   "outputs": [
    {
     "data": {
      "text/plain": [
       "<matplotlib.axes._subplots.AxesSubplot at 0x1a235ee470>"
      ]
     },
     "execution_count": 143,
     "metadata": {},
     "output_type": "execute_result"
    },
    {
     "data": {
      "image/png": "[encoded data removed]",
      "text/plain": [
       "<Figure size 432x288 with 1 Axes>"
      ]
     },
     "metadata": {
      "needs_background": "light"
     },
     "output_type": "display_data"
    }
   ],
   "source": [
    "#matplotlib\n",
    "\n",
    "dt_ratings.plot()"
   ]
  },
  {
   "cell_type": "code",
   "execution_count": 144,
   "metadata": {},
   "outputs": [
    {
     "data": {
      "text/plain": [
       "<matplotlib.axes._subplots.AxesSubplot at 0x1a22e7db70>"
      ]
     },
     "execution_count": 144,
     "metadata": {},
     "output_type": "execute_result"
    },
    {
     "data": {
      "image/png": "[encoded data removed]",
      "text/plain": [
       "<Figure size 432x288 with 1 Axes>"
      ]
     },
     "metadata": {
      "needs_background": "light"
     },
     "output_type": "display_data"
    }
   ],
   "source": [
    "djia_df.plot()"
   ]
  },
  {
   "cell_type": "code",
   "execution_count": null,
   "metadata": {},
   "outputs": [],
   "source": []
  }
 ],
 "metadata": {
  "kernelspec": {
   "display_name": "Python 3",
   "language": "python",
   "name": "python3"
  },
  "language_info": {
   "codemirror_mode": {
    "name": "ipython",
    "version": 3
   },
   "file_extension": ".py",
   "mimetype": "text/x-python",
   "name": "python",
   "nbconvert_exporter": "python",
   "pygments_lexer": "ipython3",
   "version": "3.7.1"
  }
 },
 "nbformat": 4,
 "nbformat_minor": 2
}
