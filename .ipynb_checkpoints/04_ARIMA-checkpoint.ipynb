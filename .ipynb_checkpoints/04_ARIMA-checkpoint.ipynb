{
 "cells": [
  {
   "cell_type": "code",
   "execution_count": 21,
   "metadata": {},
   "outputs": [],
   "source": [
    "# load libraries\n",
    "\n",
    "import pandas as pd\n",
    "from pandas import datetime\n",
    "import numpy as np\n",
    "\n",
    "import seaborn as sns\n",
    "import matplotlib.pyplot as plt\n",
    "import plotly.plotly as py\n",
    "import plotly.graph_objs as go\n",
    "\n",
    "import statsmodels.api as sm\n",
    "import statsmodels.tsa.api as smt\n",
    "from statsmodels.tsa.arima_model import ARIMA\n",
    "import statsmodels.formula.api as smf\n",
    "from sklearn.metrics import mean_squared_error\n",
    "from math import sqrt\n",
    "\n",
    "from sklearn.model_selection import KFold, cross_val_score, GridSearchCV, train_test_split, TimeSeriesSplit \n",
    "from sklearn.preprocessing import StandardScaler\n",
    "from sklearn.svm import SVC\n",
    "from statsmodels.tsa.vector_ar.vecm import coint_johansen\n",
    "\n",
    "from pylab import rcParams #visual decomposition for time series\n",
    "\n",
    "from datetime import datetime, timedelta\n",
    "\n",
    "import warnings\n",
    "import itertools\n",
    "\n",
    "%matplotlib inline\n",
    "plt.style.use('fivethirtyeight')"
   ]
  },
  {
   "cell_type": "markdown",
   "metadata": {},
   "source": [
    "**Approval Ratings**"
   ]
  },
  {
   "cell_type": "code",
   "execution_count": 12,
   "metadata": {},
   "outputs": [],
   "source": [
    "dt_ratings = pd.read_pickle('dt_ratings.pickle')"
   ]
  },
  {
   "cell_type": "code",
   "execution_count": 13,
   "metadata": {},
   "outputs": [
    {
     "data": {
      "text/html": [
       "<div>\n",
       "<style scoped>\n",
       "    .dataframe tbody tr th:only-of-type {\n",
       "        vertical-align: middle;\n",
       "    }\n",
       "\n",
       "    .dataframe tbody tr th {\n",
       "        vertical-align: top;\n",
       "    }\n",
       "\n",
       "    .dataframe thead th {\n",
       "        text-align: right;\n",
       "    }\n",
       "</style>\n",
       "<table border=\"1\" class=\"dataframe\">\n",
       "  <thead>\n",
       "    <tr style=\"text-align: right;\">\n",
       "      <th></th>\n",
       "      <th>approve_estimate</th>\n",
       "      <th>disapprove_estimate</th>\n",
       "      <th>net_approval</th>\n",
       "    </tr>\n",
       "    <tr>\n",
       "      <th>modeldate</th>\n",
       "      <th></th>\n",
       "      <th></th>\n",
       "      <th></th>\n",
       "    </tr>\n",
       "  </thead>\n",
       "  <tbody>\n",
       "    <tr>\n",
       "      <th>2017-01-23</th>\n",
       "      <td>45.488977</td>\n",
       "      <td>41.088173</td>\n",
       "      <td>4.400803</td>\n",
       "    </tr>\n",
       "    <tr>\n",
       "      <th>2017-01-24</th>\n",
       "      <td>45.480880</td>\n",
       "      <td>41.541693</td>\n",
       "      <td>3.939187</td>\n",
       "    </tr>\n",
       "    <tr>\n",
       "      <th>2017-01-25</th>\n",
       "      <td>47.325433</td>\n",
       "      <td>43.027437</td>\n",
       "      <td>4.297997</td>\n",
       "    </tr>\n",
       "    <tr>\n",
       "      <th>2017-01-26</th>\n",
       "      <td>44.073550</td>\n",
       "      <td>40.696867</td>\n",
       "      <td>3.376683</td>\n",
       "    </tr>\n",
       "    <tr>\n",
       "      <th>2017-01-27</th>\n",
       "      <td>43.868173</td>\n",
       "      <td>41.279107</td>\n",
       "      <td>2.589067</td>\n",
       "    </tr>\n",
       "  </tbody>\n",
       "</table>\n",
       "</div>"
      ],
      "text/plain": [
       "            approve_estimate  disapprove_estimate  net_approval\n",
       "modeldate                                                      \n",
       "2017-01-23         45.488977            41.088173      4.400803\n",
       "2017-01-24         45.480880            41.541693      3.939187\n",
       "2017-01-25         47.325433            43.027437      4.297997\n",
       "2017-01-26         44.073550            40.696867      3.376683\n",
       "2017-01-27         43.868173            41.279107      2.589067"
      ]
     },
     "execution_count": 13,
     "metadata": {},
     "output_type": "execute_result"
    }
   ],
   "source": [
    "dt_ratings.head()"
   ]
  },
  {
   "cell_type": "markdown",
   "metadata": {},
   "source": [
    "**Master Data**"
   ]
  },
  {
   "cell_type": "code",
   "execution_count": 10,
   "metadata": {},
   "outputs": [],
   "source": [
    "master_df = pd.read_pickle('dt_master.pickle')"
   ]
  },
  {
   "cell_type": "code",
   "execution_count": 11,
   "metadata": {},
   "outputs": [
    {
     "data": {
      "text/html": [
       "<div>\n",
       "<style scoped>\n",
       "    .dataframe tbody tr th:only-of-type {\n",
       "        vertical-align: middle;\n",
       "    }\n",
       "\n",
       "    .dataframe tbody tr th {\n",
       "        vertical-align: top;\n",
       "    }\n",
       "\n",
       "    .dataframe thead th {\n",
       "        text-align: right;\n",
       "    }\n",
       "</style>\n",
       "<table border=\"1\" class=\"dataframe\">\n",
       "  <thead>\n",
       "    <tr style=\"text-align: right;\">\n",
       "      <th></th>\n",
       "      <th>net_approval</th>\n",
       "      <th>Price</th>\n",
       "      <th>compound</th>\n",
       "      <th>sentiment</th>\n",
       "      <th>trump_kw</th>\n",
       "      <th>trump_mueller_kw</th>\n",
       "    </tr>\n",
       "  </thead>\n",
       "  <tbody>\n",
       "    <tr>\n",
       "      <th>2017-01-23</th>\n",
       "      <td>4.400803</td>\n",
       "      <td>19799.85</td>\n",
       "      <td>0.4939</td>\n",
       "      <td>0.0</td>\n",
       "      <td>100.0</td>\n",
       "      <td>0.0</td>\n",
       "    </tr>\n",
       "    <tr>\n",
       "      <th>2017-01-24</th>\n",
       "      <td>3.939187</td>\n",
       "      <td>19912.71</td>\n",
       "      <td>0.9753</td>\n",
       "      <td>0.0</td>\n",
       "      <td>100.0</td>\n",
       "      <td>0.0</td>\n",
       "    </tr>\n",
       "    <tr>\n",
       "      <th>2017-01-25</th>\n",
       "      <td>4.297997</td>\n",
       "      <td>20068.51</td>\n",
       "      <td>0.1605</td>\n",
       "      <td>3.0</td>\n",
       "      <td>100.0</td>\n",
       "      <td>0.0</td>\n",
       "    </tr>\n",
       "    <tr>\n",
       "      <th>2017-01-26</th>\n",
       "      <td>3.376683</td>\n",
       "      <td>20100.91</td>\n",
       "      <td>0.5197</td>\n",
       "      <td>3.0</td>\n",
       "      <td>100.0</td>\n",
       "      <td>0.0</td>\n",
       "    </tr>\n",
       "    <tr>\n",
       "      <th>2017-01-27</th>\n",
       "      <td>2.589067</td>\n",
       "      <td>20093.78</td>\n",
       "      <td>1.8175</td>\n",
       "      <td>1.0</td>\n",
       "      <td>100.0</td>\n",
       "      <td>0.0</td>\n",
       "    </tr>\n",
       "  </tbody>\n",
       "</table>\n",
       "</div>"
      ],
      "text/plain": [
       "            net_approval     Price  compound  sentiment  trump_kw  \\\n",
       "2017-01-23      4.400803  19799.85    0.4939        0.0     100.0   \n",
       "2017-01-24      3.939187  19912.71    0.9753        0.0     100.0   \n",
       "2017-01-25      4.297997  20068.51    0.1605        3.0     100.0   \n",
       "2017-01-26      3.376683  20100.91    0.5197        3.0     100.0   \n",
       "2017-01-27      2.589067  20093.78    1.8175        1.0     100.0   \n",
       "\n",
       "            trump_mueller_kw  \n",
       "2017-01-23               0.0  \n",
       "2017-01-24               0.0  \n",
       "2017-01-25               0.0  \n",
       "2017-01-26               0.0  \n",
       "2017-01-27               0.0  "
      ]
     },
     "execution_count": 11,
     "metadata": {},
     "output_type": "execute_result"
    }
   ],
   "source": [
    "master_df.head()"
   ]
  },
  {
   "cell_type": "markdown",
   "metadata": {},
   "source": [
    "**Dow Jones Data**"
   ]
  },
  {
   "cell_type": "code",
   "execution_count": 14,
   "metadata": {},
   "outputs": [],
   "source": [
    "djia_df = pd.read_pickle('djia_data.pickle')"
   ]
  },
  {
   "cell_type": "code",
   "execution_count": 15,
   "metadata": {},
   "outputs": [],
   "source": [
    "djia_df.head(1);"
   ]
  },
  {
   "cell_type": "markdown",
   "metadata": {},
   "source": [
    "**Twitter Data**"
   ]
  },
  {
   "cell_type": "code",
   "execution_count": null,
   "metadata": {},
   "outputs": [],
   "source": [
    "dt_tweets = pd.read_pickle('dt_tweets.pickle')"
   ]
  },
  {
   "cell_type": "code",
   "execution_count": null,
   "metadata": {},
   "outputs": [],
   "source": [
    "dt_tweets.index = dt_tweets['date']"
   ]
  },
  {
   "cell_type": "markdown",
   "metadata": {},
   "source": [
    "### Convert Dataframes"
   ]
  },
  {
   "cell_type": "code",
   "execution_count": 26,
   "metadata": {},
   "outputs": [],
   "source": [
    "#DJIA Price Data\n",
    "djia_price = djia_df[['Price']].copy()"
   ]
  },
  {
   "cell_type": "code",
   "execution_count": 28,
   "metadata": {},
   "outputs": [],
   "source": [
    "djia_percent = djia_df[['Change %']].copy()"
   ]
  },
  {
   "cell_type": "code",
   "execution_count": 29,
   "metadata": {},
   "outputs": [],
   "source": [
    "approvals = dt_ratings[['approve_estimate']].copy()"
   ]
  },
  {
   "cell_type": "code",
   "execution_count": 30,
   "metadata": {},
   "outputs": [],
   "source": [
    "disapprovals = dt_ratings[['disapprove_estimate']].copy()"
   ]
  },
  {
   "cell_type": "code",
   "execution_count": null,
   "metadata": {},
   "outputs": [],
   "source": [
    "#trump_kw = pd.DataFrame({\"ds\": master_df.index, \"y\": master_df.trump_kw})"
   ]
  },
  {
   "cell_type": "code",
   "execution_count": 8,
   "metadata": {},
   "outputs": [],
   "source": [
    "#Define price and rate of change\n",
    "data = master_df\n",
    "\n",
    "#Price dataframe\n",
    "djia_df = data.drop(['net_approval', 'compound', 'sentiment', 'trump_kw', 'trump_mueller_kw'], axis=1)\n",
    "\n",
    "#variables df\n",
    "variables_df = data.drop(['Price'], axis =1)\n"
   ]
  },
  {
   "cell_type": "code",
   "execution_count": 24,
   "metadata": {},
   "outputs": [],
   "source": [
    "variables_df['approvals'] = dt_tweets['approve_estimate']"
   ]
  },
  {
   "cell_type": "code",
   "execution_count": 26,
   "metadata": {},
   "outputs": [],
   "source": [
    "variables2_df = variables_df.drop(['net_approval'], axis =1)"
   ]
  },
  {
   "cell_type": "code",
   "execution_count": 30,
   "metadata": {},
   "outputs": [],
   "source": [
    "variables3_df = variables2_df"
   ]
  },
  {
   "cell_type": "code",
   "execution_count": 31,
   "metadata": {},
   "outputs": [],
   "source": [
    "variables3_df['approv_per'] = variables_df['approvals'].pct_change().fillna(method='bfill')"
   ]
  },
  {
   "cell_type": "code",
   "execution_count": 34,
   "metadata": {},
   "outputs": [],
   "source": [
    "variables3_df = variables3_df.drop(['approvals'], axis =1)"
   ]
  },
  {
   "cell_type": "code",
   "execution_count": 35,
   "metadata": {},
   "outputs": [
    {
     "data": {
      "text/html": [
       "<div>\n",
       "<style scoped>\n",
       "    .dataframe tbody tr th:only-of-type {\n",
       "        vertical-align: middle;\n",
       "    }\n",
       "\n",
       "    .dataframe tbody tr th {\n",
       "        vertical-align: top;\n",
       "    }\n",
       "\n",
       "    .dataframe thead th {\n",
       "        text-align: right;\n",
       "    }\n",
       "</style>\n",
       "<table border=\"1\" class=\"dataframe\">\n",
       "  <thead>\n",
       "    <tr style=\"text-align: right;\">\n",
       "      <th></th>\n",
       "      <th>compound</th>\n",
       "      <th>sentiment</th>\n",
       "      <th>trump_kw</th>\n",
       "      <th>trump_mueller_kw</th>\n",
       "      <th>approv_per</th>\n",
       "    </tr>\n",
       "  </thead>\n",
       "  <tbody>\n",
       "    <tr>\n",
       "      <th>2017-01-23</th>\n",
       "      <td>0.4939</td>\n",
       "      <td>0.0</td>\n",
       "      <td>100.0</td>\n",
       "      <td>0.0</td>\n",
       "      <td>-0.000178</td>\n",
       "    </tr>\n",
       "    <tr>\n",
       "      <th>2017-01-24</th>\n",
       "      <td>0.9753</td>\n",
       "      <td>0.0</td>\n",
       "      <td>100.0</td>\n",
       "      <td>0.0</td>\n",
       "      <td>-0.000178</td>\n",
       "    </tr>\n",
       "    <tr>\n",
       "      <th>2017-01-25</th>\n",
       "      <td>0.1605</td>\n",
       "      <td>3.0</td>\n",
       "      <td>100.0</td>\n",
       "      <td>0.0</td>\n",
       "      <td>0.040557</td>\n",
       "    </tr>\n",
       "    <tr>\n",
       "      <th>2017-01-26</th>\n",
       "      <td>0.5197</td>\n",
       "      <td>3.0</td>\n",
       "      <td>100.0</td>\n",
       "      <td>0.0</td>\n",
       "      <td>-0.068713</td>\n",
       "    </tr>\n",
       "    <tr>\n",
       "      <th>2017-01-27</th>\n",
       "      <td>1.8175</td>\n",
       "      <td>1.0</td>\n",
       "      <td>100.0</td>\n",
       "      <td>0.0</td>\n",
       "      <td>-0.004660</td>\n",
       "    </tr>\n",
       "  </tbody>\n",
       "</table>\n",
       "</div>"
      ],
      "text/plain": [
       "            compound  sentiment  trump_kw  trump_mueller_kw  approv_per\n",
       "2017-01-23    0.4939        0.0     100.0               0.0   -0.000178\n",
       "2017-01-24    0.9753        0.0     100.0               0.0   -0.000178\n",
       "2017-01-25    0.1605        3.0     100.0               0.0    0.040557\n",
       "2017-01-26    0.5197        3.0     100.0               0.0   -0.068713\n",
       "2017-01-27    1.8175        1.0     100.0               0.0   -0.004660"
      ]
     },
     "execution_count": 35,
     "metadata": {},
     "output_type": "execute_result"
    }
   ],
   "source": [
    "variables3_df.head()"
   ]
  },
  {
   "cell_type": "code",
   "execution_count": 9,
   "metadata": {},
   "outputs": [],
   "source": [
    "#Calculate percent change\n",
    "djia_df['djia_per'] = djia_df.pct_change().fillna(method='bfill')"
   ]
  },
  {
   "cell_type": "code",
   "execution_count": 10,
   "metadata": {},
   "outputs": [],
   "source": [
    "djia_df.head();"
   ]
  },
  {
   "cell_type": "markdown",
   "metadata": {},
   "source": [
    "## Split Data"
   ]
  },
  {
   "cell_type": "code",
   "execution_count": 27,
   "metadata": {},
   "outputs": [],
   "source": [
    "train = djia_df[:int(0.8*(len(djia_df)))]\n",
    "test = djia_df[int(0.8*(len(djia_df))):]\n",
    "\n",
    "train_exo = variables_df[:int(0.8*(len(djia_df)))]\n",
    "test_exo = variables_df[int(0.8*(len(djia_df))):]\n",
    "\n",
    "train_exo2 = variables2_df[:int(0.8*(len(djia_df)))]\n",
    "test_exo2 = variables2_df[int(0.8*(len(djia_df))):]"
   ]
  },
  {
   "cell_type": "code",
   "execution_count": 36,
   "metadata": {},
   "outputs": [],
   "source": [
    "train_exo3 = variables3_df[:int(0.8*(len(djia_df)))]\n",
    "test_exo3 = variables3_df[int(0.8*(len(djia_df))):]"
   ]
  },
  {
   "cell_type": "markdown",
   "metadata": {},
   "source": [
    "## Stationarize "
   ]
  },
  {
   "cell_type": "code",
   "execution_count": 18,
   "metadata": {},
   "outputs": [
    {
     "data": {
      "image/png": "[encoded data removed]",
      "text/plain": [
       "<Figure size 1080x288 with 2 Axes>"
      ]
     },
     "metadata": {
      "needs_background": "light"
     },
     "output_type": "display_data"
    }
   ],
   "source": [
    "# Graph data\n",
    "fig, axes = plt.subplots(1, 2, figsize=(15,4))\n",
    "\n",
    "# Levels\n",
    "axes[0].plot(master_df.index._mpl_repr(), djia_df.Price, '-')\n",
    "axes[0].set(title='DJIA Price during Trump Administration')\n",
    "\n",
    "# Log difference\n",
    "axes[1].plot(master_df.index._mpl_repr(),djia_df['djia_per'] , '-')\n",
    "axes[1].hlines(0, master_df.index[0], master_df.index[-1], colors='r')\n",
    "axes[1].set(title='DJIA Price - Percent Change');"
   ]
  },
  {
   "cell_type": "markdown",
   "metadata": {},
   "source": [
    "**Testing Stationarity**"
   ]
  },
  {
   "cell_type": "code",
   "execution_count": 19,
   "metadata": {},
   "outputs": [],
   "source": [
    "# define Dickey-Fuller Test (DFT) function\n",
    "import statsmodels.tsa.stattools as ts\n",
    "def dftest(timeseries):\n",
    "    dftest = ts.adfuller(timeseries, autolag='AIC')\n",
    "    dfoutput = pd.Series(dftest[0:4], index=['Test Statistic','p-value','Lags Used','Observations Used'])\n",
    "    for key,value in dftest[4].items():\n",
    "        dfoutput['Critical Value (%s)'%key] = value\n",
    "    print(dfoutput)\n",
    "    #Determine rolling statistics\n",
    "    rolmean = timeseries.rolling(window=12).mean()\n",
    "    rolstd = timeseries.rolling(window=12).std()\n",
    "\n",
    "    #Plot rolling statistics:\n",
    "    orig = plt.plot(timeseries, color='blue',label='Original')\n",
    "    mean = plt.plot(rolmean, color='red', label='Rolling Mean')\n",
    "    std = plt.plot(rolstd, color='black', label = 'Rolling Std')\n",
    "    plt.legend(loc='best')\n",
    "    plt.title('Rolling Mean and Standard Deviation')\n",
    "    plt.show(block=False)"
   ]
  },
  {
   "cell_type": "code",
   "execution_count": 20,
   "metadata": {},
   "outputs": [
    {
     "name": "stdout",
     "output_type": "stream",
     "text": [
      "Test Statistic          -24.962651\n",
      "p-value                   0.000000\n",
      "Lags Used                 0.000000\n",
      "Observations Used       725.000000\n",
      "Critical Value (1%)      -3.439402\n",
      "Critical Value (5%)      -2.865535\n",
      "Critical Value (10%)     -2.568897\n",
      "dtype: float64\n"
     ]
    },
    {
     "data": {
      "image/png": "[encoded data removed]",
      "text/plain": [
       "<Figure size 432x288 with 1 Axes>"
      ]
     },
     "metadata": {
      "needs_background": "light"
     },
     "output_type": "display_data"
    }
   ],
   "source": [
    "dftest(djia_df['djia_per'])\n",
    "#Data stationary"
   ]
  },
  {
   "cell_type": "markdown",
   "metadata": {},
   "source": [
    "## Autocorrelation "
   ]
  },
  {
   "cell_type": "code",
   "execution_count": 25,
   "metadata": {},
   "outputs": [
    {
     "data": {
      "image/png": "[encoded data removed]",
      "text/plain": [
       "<Figure size 1080x288 with 2 Axes>"
      ]
     },
     "metadata": {
      "needs_background": "light"
     },
     "output_type": "display_data"
    }
   ],
   "source": [
    "fig, axes = plt.subplots(1, 2, figsize=(15,4))\n",
    "\n",
    "fig = sm.graphics.tsa.plot_acf(djia_df.iloc[1:]['djia_per'], lags=45, ax=axes[0])\n",
    "fig = sm.graphics.tsa.plot_pacf(djia_df.iloc[1:]['djia_per'], lags=45, ax=axes[1])"
   ]
  },
  {
   "cell_type": "markdown",
   "metadata": {},
   "source": [
    "### Walk Forward Validation"
   ]
  },
  {
   "cell_type": "code",
   "execution_count": 19,
   "metadata": {},
   "outputs": [
    {
     "ename": "NameError",
     "evalue": "name 'test' is not defined",
     "output_type": "error",
     "traceback": [
      "\u001b[0;31m---------------------------------------------------------------------------\u001b[0m",
      "\u001b[0;31mNameError\u001b[0m                                 Traceback (most recent call last)",
      "\u001b[0;32m<ipython-input-19-2d7bd2ceb6f3>\u001b[0m in \u001b[0;36m<module>\u001b[0;34m\u001b[0m\n\u001b[1;32m      1\u001b[0m \u001b[0;31m# walk-forward validation\u001b[0m\u001b[0;34m\u001b[0m\u001b[0;34m\u001b[0m\u001b[0;34m\u001b[0m\u001b[0m\n\u001b[0;32m----> 2\u001b[0;31m \u001b[0;32mfor\u001b[0m \u001b[0mt\u001b[0m \u001b[0;32min\u001b[0m \u001b[0mrange\u001b[0m\u001b[0;34m(\u001b[0m\u001b[0mlen\u001b[0m\u001b[0;34m(\u001b[0m\u001b[0mtest\u001b[0m\u001b[0;34m)\u001b[0m\u001b[0;34m)\u001b[0m\u001b[0;34m:\u001b[0m\u001b[0;34m\u001b[0m\u001b[0;34m\u001b[0m\u001b[0m\n\u001b[0m\u001b[1;32m      3\u001b[0m     \u001b[0;31m# fit model\u001b[0m\u001b[0;34m\u001b[0m\u001b[0;34m\u001b[0m\u001b[0;34m\u001b[0m\u001b[0m\n\u001b[1;32m      4\u001b[0m     \u001b[0mmodel\u001b[0m \u001b[0;34m=\u001b[0m \u001b[0mARIMA\u001b[0m\u001b[0;34m(\u001b[0m\u001b[0mhistory\u001b[0m\u001b[0;34m,\u001b[0m \u001b[0morder\u001b[0m\u001b[0;34m=\u001b[0m\u001b[0;34m(\u001b[0m\u001b[0;36m4\u001b[0m\u001b[0;34m,\u001b[0m\u001b[0;36m1\u001b[0m\u001b[0;34m,\u001b[0m\u001b[0;36m0\u001b[0m\u001b[0;34m)\u001b[0m\u001b[0;34m)\u001b[0m\u001b[0;34m\u001b[0m\u001b[0;34m\u001b[0m\u001b[0m\n\u001b[1;32m      5\u001b[0m     \u001b[0mmodel_fit\u001b[0m \u001b[0;34m=\u001b[0m \u001b[0mmodel\u001b[0m\u001b[0;34m.\u001b[0m\u001b[0mfit\u001b[0m\u001b[0;34m(\u001b[0m\u001b[0mdisp\u001b[0m\u001b[0;34m=\u001b[0m\u001b[0;32mFalse\u001b[0m\u001b[0;34m)\u001b[0m\u001b[0;34m\u001b[0m\u001b[0;34m\u001b[0m\u001b[0m\n",
      "\u001b[0;31mNameError\u001b[0m: name 'test' is not defined"
     ]
    }
   ],
   "source": [
    "# load dataset\n",
    "def parser(x):\n",
    "\treturn datetime.strptime('190'+x, '%Y-%m')\n",
    "series = read_csv('shampoo-sales.csv', header=0, parse_dates=[0], index_col=0, squeeze=True, date_parser=parser)\n",
    "# split into train and test sets\n",
    "X = series.values\n",
    "size = int(len(X) * 0.66)\n",
    "train, test = X[0:size], X[size:len(X)]\n",
    "history = [x for x in train]\n",
    "predictions = list()\n",
    "# walk-forward validation\n",
    "for t in range(len(test)):\n",
    "\t# fit model\n",
    "\tmodel = ARIMA(history, order=(4,1,0))\n",
    "\tmodel_fit = model.fit(disp=False)\n",
    "\t# one step forecast\n",
    "\tyhat = model_fit.forecast()[0]\n",
    "\t# store forecast and ob\n",
    "\tpredictions.append(yhat)\n",
    "\thistory.append(test[t])\n",
    "# evaluate forecasts\n",
    "rmse = sqrt(mean_squared_error(test, predictions))\n",
    "print('Test RMSE: %.3f' % rmse)"
   ]
  },
  {
   "cell_type": "markdown",
   "metadata": {},
   "source": [
    "## Model Building"
   ]
  },
  {
   "cell_type": "markdown",
   "metadata": {},
   "source": [
    "**Grid Search**"
   ]
  },
  {
   "cell_type": "code",
   "execution_count": 17,
   "metadata": {},
   "outputs": [],
   "source": [
    "# Define the p, d and q parameters to take any value between 0 and 2\n",
    "p = d = q = range(0, 2)\n",
    "\n",
    "# Generate all different combinations of p, q and q triplets\n",
    "pdq = list(itertools.product(p, d, q))\n",
    "\n",
    "# Generate all different combinations of seasonal p, q and q triplets\n",
    "seasonal_pdq = [(x[0], x[1], x[2], 12) for x in list(itertools.product(p, d, q))]"
   ]
  },
  {
   "cell_type": "code",
   "execution_count": 18,
   "metadata": {},
   "outputs": [],
   "source": [
    "warnings.filterwarnings(\"ignore\") # specify to ignore warning messages\n",
    "\n",
    "for param in pdq:\n",
    "    for param_seasonal in seasonal_pdq:\n",
    "        try:\n",
    "            mod = sm.tsa.statespace.SARIMAX(y,\n",
    "                                            order=param,\n",
    "                                            seasonal_order=param_seasonal,\n",
    "                                            enforce_stationarity=False,\n",
    "                                            enforce_invertibility=False)\n",
    "\n",
    "            results = mod.fit()\n",
    "\n",
    "            print('ARIMA{}x{}12 - AIC:{}'.format(param, param_seasonal, results.aic))\n",
    "        except:\n",
    "            continue"
   ]
  },
  {
   "cell_type": "markdown",
   "metadata": {},
   "source": [
    "**AR Model**"
   ]
  },
  {
   "cell_type": "code",
   "execution_count": 18,
   "metadata": {},
   "outputs": [
    {
     "name": "stderr",
     "output_type": "stream",
     "text": [
      "/Users/Jaime/anaconda3/lib/python3.7/site-packages/statsmodels/tsa/base/tsa_model.py:171: ValueWarning:\n",
      "\n",
      "No frequency information was provided, so inferred frequency D will be used.\n",
      "\n"
     ]
    },
    {
     "data": {
      "text/html": [
       "<table class=\"simpletable\">\n",
       "<caption>Statespace Model Results</caption>\n",
       "<tr>\n",
       "  <th>Dep. Variable:</th>       <td>djia_per</td>     <th>  No. Observations:  </th>    <td>580</td>   \n",
       "</tr>\n",
       "<tr>\n",
       "  <th>Model:</th>           <td>SARIMAX(2, 0, 0)</td> <th>  Log Likelihood     </th> <td>2138.037</td> \n",
       "</tr>\n",
       "<tr>\n",
       "  <th>Date:</th>            <td>Wed, 23 Jan 2019</td> <th>  AIC                </th> <td>-4270.074</td>\n",
       "</tr>\n",
       "<tr>\n",
       "  <th>Time:</th>                <td>13:37:53</td>     <th>  BIC                </th> <td>-4256.985</td>\n",
       "</tr>\n",
       "<tr>\n",
       "  <th>Sample:</th>             <td>01-23-2017</td>    <th>  HQIC               </th> <td>-4264.971</td>\n",
       "</tr>\n",
       "<tr>\n",
       "  <th></th>                   <td>- 08-25-2018</td>   <th>                     </th>     <td> </td>    \n",
       "</tr>\n",
       "<tr>\n",
       "  <th>Covariance Type:</th>        <td>opg</td>       <th>                     </th>     <td> </td>    \n",
       "</tr>\n",
       "</table>\n",
       "<table class=\"simpletable\">\n",
       "<tr>\n",
       "     <td></td>       <th>coef</th>     <th>std err</th>      <th>z</th>      <th>P>|z|</th>  <th>[0.025</th>    <th>0.975]</th>  \n",
       "</tr>\n",
       "<tr>\n",
       "  <th>ar.L1</th>  <td>    0.0554</td> <td>    0.025</td> <td>    2.211</td> <td> 0.027</td> <td>    0.006</td> <td>    0.104</td>\n",
       "</tr>\n",
       "<tr>\n",
       "  <th>ar.L2</th>  <td>   -0.1133</td> <td>    0.029</td> <td>   -3.891</td> <td> 0.000</td> <td>   -0.170</td> <td>   -0.056</td>\n",
       "</tr>\n",
       "<tr>\n",
       "  <th>sigma2</th> <td> 3.678e-05</td> <td>  1.1e-06</td> <td>   33.298</td> <td> 0.000</td> <td> 3.46e-05</td> <td> 3.89e-05</td>\n",
       "</tr>\n",
       "</table>\n",
       "<table class=\"simpletable\">\n",
       "<tr>\n",
       "  <th>Ljung-Box (Q):</th>          <td>77.32</td> <th>  Jarque-Bera (JB):  </th> <td>3065.81</td>\n",
       "</tr>\n",
       "<tr>\n",
       "  <th>Prob(Q):</th>                <td>0.00</td>  <th>  Prob(JB):          </th>  <td>0.00</td>  \n",
       "</tr>\n",
       "<tr>\n",
       "  <th>Heteroskedasticity (H):</th> <td>4.06</td>  <th>  Skew:              </th>  <td>-1.39</td> \n",
       "</tr>\n",
       "<tr>\n",
       "  <th>Prob(H) (two-sided):</th>    <td>0.00</td>  <th>  Kurtosis:          </th>  <td>13.91</td> \n",
       "</tr>\n",
       "</table><br/><br/>Warnings:<br/>[1] Covariance matrix calculated using the outer product of gradients (complex-step)."
      ],
      "text/plain": [
       "<class 'statsmodels.iolib.summary.Summary'>\n",
       "\"\"\"\n",
       "                           Statespace Model Results                           \n",
       "==============================================================================\n",
       "Dep. Variable:               djia_per   No. Observations:                  580\n",
       "Model:               SARIMAX(2, 0, 0)   Log Likelihood                2138.037\n",
       "Date:                Wed, 23 Jan 2019   AIC                          -4270.074\n",
       "Time:                        13:37:53   BIC                          -4256.985\n",
       "Sample:                    01-23-2017   HQIC                         -4264.971\n",
       "                         - 08-25-2018                                         \n",
       "Covariance Type:                  opg                                         \n",
       "==============================================================================\n",
       "                 coef    std err          z      P>|z|      [0.025      0.975]\n",
       "------------------------------------------------------------------------------\n",
       "ar.L1          0.0554      0.025      2.211      0.027       0.006       0.104\n",
       "ar.L2         -0.1133      0.029     -3.891      0.000      -0.170      -0.056\n",
       "sigma2      3.678e-05    1.1e-06     33.298      0.000    3.46e-05    3.89e-05\n",
       "===================================================================================\n",
       "Ljung-Box (Q):                       77.32   Jarque-Bera (JB):              3065.81\n",
       "Prob(Q):                              0.00   Prob(JB):                         0.00\n",
       "Heteroskedasticity (H):               4.06   Skew:                            -1.39\n",
       "Prob(H) (two-sided):                  0.00   Kurtosis:                        13.91\n",
       "===================================================================================\n",
       "\n",
       "Warnings:\n",
       "[1] Covariance matrix calculated using the outer product of gradients (complex-step).\n",
       "\"\"\""
      ]
     },
     "execution_count": 18,
     "metadata": {},
     "output_type": "execute_result"
    }
   ],
   "source": [
    "mod_ar = sm.tsa.statespace.SARIMAX(train.djia_per, order=(2,0,0), seasonal_order=(0,0,0,12)).fit()\n",
    "mod_ar.summary()"
   ]
  },
  {
   "cell_type": "code",
   "execution_count": 19,
   "metadata": {},
   "outputs": [
    {
     "data": {
      "image/png": "[encoded data removed]",
      "text/plain": [
       "<Figure size 720x576 with 4 Axes>"
      ]
     },
     "metadata": {},
     "output_type": "display_data"
    }
   ],
   "source": [
    "mod_ar.plot_diagnostics(figsize=(10, 8));"
   ]
  },
  {
   "cell_type": "code",
   "execution_count": 24,
   "metadata": {},
   "outputs": [
    {
     "name": "stderr",
     "output_type": "stream",
     "text": [
      "/Users/Jaime/anaconda3/lib/python3.7/site-packages/statsmodels/tsa/base/tsa_model.py:171: ValueWarning:\n",
      "\n",
      "No frequency information was provided, so inferred frequency D will be used.\n",
      "\n"
     ]
    },
    {
     "data": {
      "text/html": [
       "<table class=\"simpletable\">\n",
       "<caption>Statespace Model Results</caption>\n",
       "<tr>\n",
       "  <th>Dep. Variable:</th>              <td>djia_per</td>            <th>  No. Observations:  </th>    <td>580</td>   \n",
       "</tr>\n",
       "<tr>\n",
       "  <th>Model:</th>           <td>SARIMAX(1, 1, 0)x(0, 1, 1, 12)</td> <th>  Log Likelihood     </th> <td>1935.853</td> \n",
       "</tr>\n",
       "<tr>\n",
       "  <th>Date:</th>                   <td>Wed, 23 Jan 2019</td>        <th>  AIC                </th> <td>-3865.705</td>\n",
       "</tr>\n",
       "<tr>\n",
       "  <th>Time:</th>                       <td>12:23:57</td>            <th>  BIC                </th> <td>-3852.684</td>\n",
       "</tr>\n",
       "<tr>\n",
       "  <th>Sample:</th>                    <td>01-23-2017</td>           <th>  HQIC               </th> <td>-3860.624</td>\n",
       "</tr>\n",
       "<tr>\n",
       "  <th></th>                          <td>- 08-25-2018</td>          <th>                     </th>     <td> </td>    \n",
       "</tr>\n",
       "<tr>\n",
       "  <th>Covariance Type:</th>               <td>opg</td>              <th>                     </th>     <td> </td>    \n",
       "</tr>\n",
       "</table>\n",
       "<table class=\"simpletable\">\n",
       "<tr>\n",
       "      <td></td>        <th>coef</th>     <th>std err</th>      <th>z</th>      <th>P>|z|</th>  <th>[0.025</th>    <th>0.975]</th>  \n",
       "</tr>\n",
       "<tr>\n",
       "  <th>ar.L1</th>    <td>   -0.4056</td> <td>    0.019</td> <td>  -21.559</td> <td> 0.000</td> <td>   -0.442</td> <td>   -0.369</td>\n",
       "</tr>\n",
       "<tr>\n",
       "  <th>ma.S.L12</th> <td>   -0.9995</td> <td>    1.460</td> <td>   -0.684</td> <td> 0.494</td> <td>   -3.862</td> <td>    1.863</td>\n",
       "</tr>\n",
       "<tr>\n",
       "  <th>sigma2</th>   <td> 5.835e-05</td> <td> 8.41e-05</td> <td>    0.694</td> <td> 0.488</td> <td>   -0.000</td> <td>    0.000</td>\n",
       "</tr>\n",
       "</table>\n",
       "<table class=\"simpletable\">\n",
       "<tr>\n",
       "  <th>Ljung-Box (Q):</th>          <td>226.56</td> <th>  Jarque-Bera (JB):  </th> <td>2099.77</td>\n",
       "</tr>\n",
       "<tr>\n",
       "  <th>Prob(Q):</th>                 <td>0.00</td>  <th>  Prob(JB):          </th>  <td>0.00</td>  \n",
       "</tr>\n",
       "<tr>\n",
       "  <th>Heteroskedasticity (H):</th>  <td>4.12</td>  <th>  Skew:              </th>  <td>0.04</td>  \n",
       "</tr>\n",
       "<tr>\n",
       "  <th>Prob(H) (two-sided):</th>     <td>0.00</td>  <th>  Kurtosis:          </th>  <td>12.43</td> \n",
       "</tr>\n",
       "</table><br/><br/>Warnings:<br/>[1] Covariance matrix calculated using the outer product of gradients (complex-step)."
      ],
      "text/plain": [
       "<class 'statsmodels.iolib.summary.Summary'>\n",
       "\"\"\"\n",
       "                                 Statespace Model Results                                 \n",
       "==========================================================================================\n",
       "Dep. Variable:                           djia_per   No. Observations:                  580\n",
       "Model:             SARIMAX(1, 1, 0)x(0, 1, 1, 12)   Log Likelihood                1935.853\n",
       "Date:                            Wed, 23 Jan 2019   AIC                          -3865.705\n",
       "Time:                                    12:23:57   BIC                          -3852.684\n",
       "Sample:                                01-23-2017   HQIC                         -3860.624\n",
       "                                     - 08-25-2018                                         \n",
       "Covariance Type:                              opg                                         \n",
       "==============================================================================\n",
       "                 coef    std err          z      P>|z|      [0.025      0.975]\n",
       "------------------------------------------------------------------------------\n",
       "ar.L1         -0.4056      0.019    -21.559      0.000      -0.442      -0.369\n",
       "ma.S.L12      -0.9995      1.460     -0.684      0.494      -3.862       1.863\n",
       "sigma2      5.835e-05   8.41e-05      0.694      0.488      -0.000       0.000\n",
       "===================================================================================\n",
       "Ljung-Box (Q):                      226.56   Jarque-Bera (JB):              2099.77\n",
       "Prob(Q):                              0.00   Prob(JB):                         0.00\n",
       "Heteroskedasticity (H):               4.12   Skew:                             0.04\n",
       "Prob(H) (two-sided):                  0.00   Kurtosis:                        12.43\n",
       "===================================================================================\n",
       "\n",
       "Warnings:\n",
       "[1] Covariance matrix calculated using the outer product of gradients (complex-step).\n",
       "\"\"\""
      ]
     },
     "execution_count": 24,
     "metadata": {},
     "output_type": "execute_result"
    }
   ],
   "source": [
    "sar = sm.tsa.statespace.SARIMAX(train.djia_per, order=(1,1,0), seasonal_order=(0,1,1,12)).fit()\n",
    "sar.summary()"
   ]
  },
  {
   "cell_type": "code",
   "execution_count": 12,
   "metadata": {},
   "outputs": [
    {
     "name": "stderr",
     "output_type": "stream",
     "text": [
      "/Users/Jaime/anaconda3/lib/python3.7/site-packages/statsmodels/tsa/base/tsa_model.py:171: ValueWarning:\n",
      "\n",
      "No frequency information was provided, so inferred frequency D will be used.\n",
      "\n"
     ]
    },
    {
     "data": {
      "text/html": [
       "<table class=\"simpletable\">\n",
       "<caption>Statespace Model Results</caption>\n",
       "<tr>\n",
       "  <th>Dep. Variable:</th>       <td>djia_per</td>     <th>  No. Observations:  </th>    <td>580</td>   \n",
       "</tr>\n",
       "<tr>\n",
       "  <th>Model:</th>           <td>SARIMAX(1, 0, 0)</td> <th>  Log Likelihood     </th> <td>2134.315</td> \n",
       "</tr>\n",
       "<tr>\n",
       "  <th>Date:</th>            <td>Wed, 23 Jan 2019</td> <th>  AIC                </th> <td>-4264.631</td>\n",
       "</tr>\n",
       "<tr>\n",
       "  <th>Time:</th>                <td>13:16:41</td>     <th>  BIC                </th> <td>-4255.905</td>\n",
       "</tr>\n",
       "<tr>\n",
       "  <th>Sample:</th>             <td>01-23-2017</td>    <th>  HQIC               </th> <td>-4261.229</td>\n",
       "</tr>\n",
       "<tr>\n",
       "  <th></th>                   <td>- 08-25-2018</td>   <th>                     </th>     <td> </td>    \n",
       "</tr>\n",
       "<tr>\n",
       "  <th>Covariance Type:</th>        <td>opg</td>       <th>                     </th>     <td> </td>    \n",
       "</tr>\n",
       "</table>\n",
       "<table class=\"simpletable\">\n",
       "<tr>\n",
       "     <td></td>       <th>coef</th>     <th>std err</th>      <th>z</th>      <th>P>|z|</th>  <th>[0.025</th>    <th>0.975]</th>  \n",
       "</tr>\n",
       "<tr>\n",
       "  <th>ar.L1</th>  <td>    0.0513</td> <td>    0.023</td> <td>    2.191</td> <td> 0.028</td> <td>    0.005</td> <td>    0.097</td>\n",
       "</tr>\n",
       "<tr>\n",
       "  <th>sigma2</th> <td> 3.726e-05</td> <td> 8.96e-07</td> <td>   41.594</td> <td> 0.000</td> <td> 3.55e-05</td> <td>  3.9e-05</td>\n",
       "</tr>\n",
       "</table>\n",
       "<table class=\"simpletable\">\n",
       "<tr>\n",
       "  <th>Ljung-Box (Q):</th>          <td>98.36</td> <th>  Jarque-Bera (JB):  </th> <td>3645.53</td>\n",
       "</tr>\n",
       "<tr>\n",
       "  <th>Prob(Q):</th>                <td>0.00</td>  <th>  Prob(JB):          </th>  <td>0.00</td>  \n",
       "</tr>\n",
       "<tr>\n",
       "  <th>Heteroskedasticity (H):</th> <td>4.19</td>  <th>  Skew:              </th>  <td>-1.40</td> \n",
       "</tr>\n",
       "<tr>\n",
       "  <th>Prob(H) (two-sided):</th>    <td>0.00</td>  <th>  Kurtosis:          </th>  <td>14.96</td> \n",
       "</tr>\n",
       "</table><br/><br/>Warnings:<br/>[1] Covariance matrix calculated using the outer product of gradients (complex-step)."
      ],
      "text/plain": [
       "<class 'statsmodels.iolib.summary.Summary'>\n",
       "\"\"\"\n",
       "                           Statespace Model Results                           \n",
       "==============================================================================\n",
       "Dep. Variable:               djia_per   No. Observations:                  580\n",
       "Model:               SARIMAX(1, 0, 0)   Log Likelihood                2134.315\n",
       "Date:                Wed, 23 Jan 2019   AIC                          -4264.631\n",
       "Time:                        13:16:41   BIC                          -4255.905\n",
       "Sample:                    01-23-2017   HQIC                         -4261.229\n",
       "                         - 08-25-2018                                         \n",
       "Covariance Type:                  opg                                         \n",
       "==============================================================================\n",
       "                 coef    std err          z      P>|z|      [0.025      0.975]\n",
       "------------------------------------------------------------------------------\n",
       "ar.L1          0.0513      0.023      2.191      0.028       0.005       0.097\n",
       "sigma2      3.726e-05   8.96e-07     41.594      0.000    3.55e-05     3.9e-05\n",
       "===================================================================================\n",
       "Ljung-Box (Q):                       98.36   Jarque-Bera (JB):              3645.53\n",
       "Prob(Q):                              0.00   Prob(JB):                         0.00\n",
       "Heteroskedasticity (H):               4.19   Skew:                            -1.40\n",
       "Prob(H) (two-sided):                  0.00   Kurtosis:                        14.96\n",
       "===================================================================================\n",
       "\n",
       "Warnings:\n",
       "[1] Covariance matrix calculated using the outer product of gradients (complex-step).\n",
       "\"\"\""
      ]
     },
     "execution_count": 12,
     "metadata": {},
     "output_type": "execute_result"
    }
   ],
   "source": [
    "sar = sm.tsa.statespace.SARIMAX(train.djia_per, order=(1,0,0), seasonal_order=(0,0,0,12)).fit()\n",
    "sar.summary()"
   ]
  },
  {
   "cell_type": "code",
   "execution_count": 86,
   "metadata": {},
   "outputs": [
    {
     "data": {
      "text/html": [
       "<table class=\"simpletable\">\n",
       "<caption>Statespace Model Results</caption>\n",
       "<tr>\n",
       "  <th>Dep. Variable:</th>              <td>djia_per</td>            <th>  No. Observations:  </th>    <td>580</td>   \n",
       "</tr>\n",
       "<tr>\n",
       "  <th>Model:</th>           <td>SARIMAX(0, 1, 0)x(1, 1, 1, 12)</td> <th>  Log Likelihood     </th> <td>1868.182</td> \n",
       "</tr>\n",
       "<tr>\n",
       "  <th>Date:</th>                   <td>Wed, 23 Jan 2019</td>        <th>  AIC                </th> <td>-3728.364</td>\n",
       "</tr>\n",
       "<tr>\n",
       "  <th>Time:</th>                       <td>08:27:36</td>            <th>  BIC                </th> <td>-3711.002</td>\n",
       "</tr>\n",
       "<tr>\n",
       "  <th>Sample:</th>                    <td>01-23-2017</td>           <th>  HQIC               </th> <td>-3721.588</td>\n",
       "</tr>\n",
       "<tr>\n",
       "  <th></th>                          <td>- 08-25-2018</td>          <th>                     </th>     <td> </td>    \n",
       "</tr>\n",
       "<tr>\n",
       "  <th>Covariance Type:</th>               <td>opg</td>              <th>                     </th>     <td> </td>    \n",
       "</tr>\n",
       "</table>\n",
       "<table class=\"simpletable\">\n",
       "<tr>\n",
       "      <td></td>         <th>coef</th>     <th>std err</th>      <th>z</th>      <th>P>|z|</th>  <th>[0.025</th>    <th>0.975]</th>  \n",
       "</tr>\n",
       "<tr>\n",
       "  <th>intercept</th> <td> 5.314e-06</td> <td> 8.07e-05</td> <td>    0.066</td> <td> 0.948</td> <td>   -0.000</td> <td>    0.000</td>\n",
       "</tr>\n",
       "<tr>\n",
       "  <th>ar.S.L12</th>  <td>    0.0569</td> <td>    0.051</td> <td>    1.113</td> <td> 0.266</td> <td>   -0.043</td> <td>    0.157</td>\n",
       "</tr>\n",
       "<tr>\n",
       "  <th>ma.S.L12</th>  <td>   -0.7945</td> <td>    0.042</td> <td>  -19.095</td> <td> 0.000</td> <td>   -0.876</td> <td>   -0.713</td>\n",
       "</tr>\n",
       "<tr>\n",
       "  <th>sigma2</th>    <td>  7.89e-05</td> <td> 2.45e-06</td> <td>   32.265</td> <td> 0.000</td> <td> 7.41e-05</td> <td> 8.37e-05</td>\n",
       "</tr>\n",
       "</table>\n",
       "<table class=\"simpletable\">\n",
       "<tr>\n",
       "  <th>Ljung-Box (Q):</th>          <td>221.67</td> <th>  Jarque-Bera (JB):  </th> <td>731.14</td>\n",
       "</tr>\n",
       "<tr>\n",
       "  <th>Prob(Q):</th>                 <td>0.00</td>  <th>  Prob(JB):          </th>  <td>0.00</td> \n",
       "</tr>\n",
       "<tr>\n",
       "  <th>Heteroskedasticity (H):</th>  <td>3.74</td>  <th>  Skew:              </th>  <td>0.38</td> \n",
       "</tr>\n",
       "<tr>\n",
       "  <th>Prob(H) (two-sided):</th>     <td>0.00</td>  <th>  Kurtosis:          </th>  <td>8.51</td> \n",
       "</tr>\n",
       "</table><br/><br/>Warnings:<br/>[1] Covariance matrix calculated using the outer product of gradients (complex-step)."
      ],
      "text/plain": [
       "<class 'statsmodels.iolib.summary.Summary'>\n",
       "\"\"\"\n",
       "                                 Statespace Model Results                                 \n",
       "==========================================================================================\n",
       "Dep. Variable:                           djia_per   No. Observations:                  580\n",
       "Model:             SARIMAX(0, 1, 0)x(1, 1, 1, 12)   Log Likelihood                1868.182\n",
       "Date:                            Wed, 23 Jan 2019   AIC                          -3728.364\n",
       "Time:                                    08:27:36   BIC                          -3711.002\n",
       "Sample:                                01-23-2017   HQIC                         -3721.588\n",
       "                                     - 08-25-2018                                         \n",
       "Covariance Type:                              opg                                         \n",
       "==============================================================================\n",
       "                 coef    std err          z      P>|z|      [0.025      0.975]\n",
       "------------------------------------------------------------------------------\n",
       "intercept   5.314e-06   8.07e-05      0.066      0.948      -0.000       0.000\n",
       "ar.S.L12       0.0569      0.051      1.113      0.266      -0.043       0.157\n",
       "ma.S.L12      -0.7945      0.042    -19.095      0.000      -0.876      -0.713\n",
       "sigma2       7.89e-05   2.45e-06     32.265      0.000    7.41e-05    8.37e-05\n",
       "===================================================================================\n",
       "Ljung-Box (Q):                      221.67   Jarque-Bera (JB):               731.14\n",
       "Prob(Q):                              0.00   Prob(JB):                         0.00\n",
       "Heteroskedasticity (H):               3.74   Skew:                             0.38\n",
       "Prob(H) (two-sided):                  0.00   Kurtosis:                         8.51\n",
       "===================================================================================\n",
       "\n",
       "Warnings:\n",
       "[1] Covariance matrix calculated using the outer product of gradients (complex-step).\n",
       "\"\"\""
      ]
     },
     "execution_count": 86,
     "metadata": {},
     "output_type": "execute_result"
    }
   ],
   "source": [
    "sar = sm.tsa.statespace.SARIMAX(train.djia_per, order=(0,1,0), seasonal_order=(1,1,1,12), trend='c').fit()\n",
    "sar.summary()"
   ]
  },
  {
   "cell_type": "code",
   "execution_count": 23,
   "metadata": {},
   "outputs": [
    {
     "name": "stderr",
     "output_type": "stream",
     "text": [
      "/Users/Jaime/anaconda3/lib/python3.7/site-packages/statsmodels/tsa/base/tsa_model.py:171: ValueWarning:\n",
      "\n",
      "No frequency information was provided, so inferred frequency D will be used.\n",
      "\n"
     ]
    },
    {
     "name": "stdout",
     "output_type": "stream",
     "text": [
      "==============================================================================\n",
      "                 coef    std err          z      P>|z|      [0.025      0.975]\n",
      "------------------------------------------------------------------------------\n",
      "ar.L1          0.0569      0.025      2.241      0.025       0.007       0.107\n",
      "ma.L1         -1.0006      0.109     -9.187      0.000      -1.214      -0.787\n",
      "ar.S.L12      -0.0317      0.040     -0.784      0.433      -0.111       0.048\n",
      "ma.S.L12      -1.0067      0.121     -8.341      0.000      -1.243      -0.770\n",
      "sigma2      3.713e-05   6.74e-06      5.506      0.000    2.39e-05    5.03e-05\n",
      "==============================================================================\n"
     ]
    },
    {
     "name": "stderr",
     "output_type": "stream",
     "text": [
      "/Users/Jaime/anaconda3/lib/python3.7/site-packages/statsmodels/base/model.py:508: ConvergenceWarning:\n",
      "\n",
      "Maximum Likelihood optimization failed to converge. Check mle_retvals\n",
      "\n"
     ]
    }
   ],
   "source": [
    "mod = sm.tsa.statespace.SARIMAX(train.djia_per,\n",
    "                                order=(1, 1, 1),\n",
    "                                seasonal_order=(1, 1, 1, 12),\n",
    "                                enforce_stationarity=False,\n",
    "                                enforce_invertibility=False)\n",
    "\n",
    "results = mod.fit()\n",
    "\n",
    "print(results.summary().tables[1])"
   ]
  },
  {
   "cell_type": "code",
   "execution_count": 77,
   "metadata": {},
   "outputs": [
    {
     "name": "stdout",
     "output_type": "stream",
     "text": [
      "==============================================================================\n",
      "                 coef    std err          z      P>|z|      [0.025      0.975]\n",
      "------------------------------------------------------------------------------\n",
      "const       7.519e-06      0.000      0.022      0.983      -0.001       0.001\n",
      "==============================================================================\n"
     ]
    }
   ],
   "source": [
    "mod = sm.tsa.statespace.SARIMAX(train.djia_per, trend='n', order=(0,0,0), seasonal_order=(0,1,1,12))\n",
    "results = mod.fit()\n",
    "print results.summary()"
   ]
  },
  {
   "cell_type": "code",
   "execution_count": 22,
   "metadata": {},
   "outputs": [
    {
     "name": "stderr",
     "output_type": "stream",
     "text": [
      "/Users/Jaime/anaconda3/lib/python3.7/site-packages/statsmodels/tsa/base/tsa_model.py:171: ValueWarning:\n",
      "\n",
      "No frequency information was provided, so inferred frequency D will be used.\n",
      "\n"
     ]
    },
    {
     "name": "stdout",
     "output_type": "stream",
     "text": [
      "                           Statespace Model Results                           \n",
      "==============================================================================\n",
      "Dep. Variable:               djia_per   No. Observations:                  580\n",
      "Model:               SARIMAX(1, 0, 1)   Log Likelihood                2137.006\n",
      "Date:                Wed, 23 Jan 2019   AIC                          -4258.011\n",
      "Time:                        12:18:01   BIC                          -4223.107\n",
      "Sample:                    01-23-2017   HQIC                         -4244.403\n",
      "                         - 08-25-2018                                         \n",
      "Covariance Type:                  opg                                         \n",
      "====================================================================================\n",
      "                       coef    std err          z      P>|z|      [0.025      0.975]\n",
      "------------------------------------------------------------------------------------\n",
      "net_approval     -1.412e-05   6.35e-05     -0.222      0.824      -0.000       0.000\n",
      "compound          9.146e-05      0.000      0.641      0.522      -0.000       0.000\n",
      "sentiment            0.0002      0.000      1.423      0.155   -7.75e-05       0.000\n",
      "trump_kw          2.951e-06   1.86e-05      0.159      0.874   -3.34e-05    3.93e-05\n",
      "trump_mueller_kw -1.091e-05   1.11e-05     -0.986      0.324   -3.26e-05    1.08e-05\n",
      "ar.L1                0.3119      1.035      0.301      0.763      -1.717       2.341\n",
      "ma.L1               -0.2844      1.043     -0.273      0.785      -2.329       1.760\n",
      "sigma2            3.686e-05   1.17e-06     31.520      0.000    3.46e-05    3.92e-05\n",
      "===================================================================================\n",
      "Ljung-Box (Q):                      103.22   Jarque-Bera (JB):              3557.11\n",
      "Prob(Q):                              0.00   Prob(JB):                         0.00\n",
      "Heteroskedasticity (H):               4.27   Skew:                            -1.31\n",
      "Prob(H) (two-sided):                  0.00   Kurtosis:                        14.85\n",
      "===================================================================================\n",
      "\n",
      "Warnings:\n",
      "[1] Covariance matrix calculated using the outer product of gradients (complex-step).\n"
     ]
    },
    {
     "name": "stderr",
     "output_type": "stream",
     "text": [
      "/Users/Jaime/anaconda3/lib/python3.7/site-packages/statsmodels/base/model.py:508: ConvergenceWarning:\n",
      "\n",
      "Maximum Likelihood optimization failed to converge. Check mle_retvals\n",
      "\n"
     ]
    }
   ],
   "source": [
    "# Variables\n",
    "endog = train.djia_per\n",
    "exog = train_exo\n",
    "\n",
    "# Fit the model\n",
    "mod = sm.tsa.statespace.SARIMAX(endog, exog, order=(1,0,1))\n",
    "res = mod.fit(disp=False)\n",
    "\n",
    "print(res.summary())"
   ]
  },
  {
   "cell_type": "code",
   "execution_count": 28,
   "metadata": {},
   "outputs": [
    {
     "name": "stderr",
     "output_type": "stream",
     "text": [
      "/Users/Jaime/anaconda3/lib/python3.7/site-packages/statsmodels/tsa/base/tsa_model.py:171: ValueWarning:\n",
      "\n",
      "No frequency information was provided, so inferred frequency D will be used.\n",
      "\n"
     ]
    },
    {
     "name": "stdout",
     "output_type": "stream",
     "text": [
      "                           Statespace Model Results                           \n",
      "==============================================================================\n",
      "Dep. Variable:               djia_per   No. Observations:                  580\n",
      "Model:               SARIMAX(1, 0, 1)   Log Likelihood                2136.964\n",
      "Date:                Wed, 23 Jan 2019   AIC                          -4257.929\n",
      "Time:                        14:18:56   BIC                          -4223.024\n",
      "Sample:                    01-23-2017   HQIC                         -4244.321\n",
      "                         - 08-25-2018                                         \n",
      "Covariance Type:                  opg                                         \n",
      "====================================================================================\n",
      "                       coef    std err          z      P>|z|      [0.025      0.975]\n",
      "------------------------------------------------------------------------------------\n",
      "compound             0.0001      0.000      0.756      0.450      -0.000       0.000\n",
      "sentiment            0.0002      0.000      1.481      0.138   -7.14e-05       0.001\n",
      "trump_kw          7.844e-06   2.89e-05      0.271      0.786   -4.88e-05    6.45e-05\n",
      "trump_mueller_kw -8.237e-06   1.18e-05     -0.697      0.486   -3.14e-05    1.49e-05\n",
      "approvals        -3.748e-06   3.26e-05     -0.115      0.908   -6.76e-05    6.01e-05\n",
      "ar.L1                0.3077      1.016      0.303      0.762      -1.683       2.299\n",
      "ma.L1               -0.2795      1.024     -0.273      0.785      -2.286       1.727\n",
      "sigma2            3.689e-05   1.18e-06     31.325      0.000    3.46e-05    3.92e-05\n",
      "===================================================================================\n",
      "Ljung-Box (Q):                      102.99   Jarque-Bera (JB):              3569.33\n",
      "Prob(Q):                              0.00   Prob(JB):                         0.00\n",
      "Heteroskedasticity (H):               4.30   Skew:                            -1.32\n",
      "Prob(H) (two-sided):                  0.00   Kurtosis:                        14.86\n",
      "===================================================================================\n",
      "\n",
      "Warnings:\n",
      "[1] Covariance matrix calculated using the outer product of gradients (complex-step).\n"
     ]
    },
    {
     "name": "stderr",
     "output_type": "stream",
     "text": [
      "/Users/Jaime/anaconda3/lib/python3.7/site-packages/statsmodels/base/model.py:508: ConvergenceWarning:\n",
      "\n",
      "Maximum Likelihood optimization failed to converge. Check mle_retvals\n",
      "\n"
     ]
    }
   ],
   "source": [
    "# Variables\n",
    "endog = train.djia_per\n",
    "exog = train_exo2\n",
    "\n",
    "# Fit the model\n",
    "mod = sm.tsa.statespace.SARIMAX(endog, exog, order=(1,0,1))\n",
    "res = mod.fit(disp=False)\n",
    "\n",
    "print(res.summary())"
   ]
  },
  {
   "cell_type": "code",
   "execution_count": 50,
   "metadata": {},
   "outputs": [
    {
     "name": "stdout",
     "output_type": "stream",
     "text": [
      "                           Statespace Model Results                           \n",
      "==============================================================================\n",
      "Dep. Variable:               djia_per   No. Observations:                  580\n",
      "Model:               SARIMAX(1, 0, 0)   Log Likelihood                2137.909\n",
      "Date:                Wed, 23 Jan 2019   AIC                          -4261.819\n",
      "Time:                        14:26:43   BIC                          -4231.278\n",
      "Sample:                    01-23-2017   HQIC                         -4249.912\n",
      "                         - 08-25-2018                                         \n",
      "Covariance Type:                  opg                                         \n",
      "====================================================================================\n",
      "                       coef    std err          z      P>|z|      [0.025      0.975]\n",
      "------------------------------------------------------------------------------------\n",
      "compound             0.0001      0.000      0.787      0.431      -0.000       0.000\n",
      "sentiment            0.0002      0.000      1.580      0.114   -5.17e-05       0.000\n",
      "trump_kw          4.446e-06   1.57e-05      0.283      0.777   -2.64e-05    3.53e-05\n",
      "trump_mueller_kw -8.678e-06   8.56e-06     -1.014      0.311   -2.55e-05     8.1e-06\n",
      "approv_per          -0.0293      0.040     -0.727      0.467      -0.108       0.050\n",
      "ar.L1                0.0327      0.026      1.249      0.212      -0.019       0.084\n",
      "sigma2            3.682e-05   9.64e-07     38.210      0.000    3.49e-05    3.87e-05\n",
      "===================================================================================\n",
      "Ljung-Box (Q):                      100.84   Jarque-Bera (JB):              3493.48\n",
      "Prob(Q):                              0.00   Prob(JB):                         0.00\n",
      "Heteroskedasticity (H):               4.23   Skew:                            -1.32\n",
      "Prob(H) (two-sided):                  0.00   Kurtosis:                        14.73\n",
      "===================================================================================\n",
      "\n",
      "Warnings:\n",
      "[1] Covariance matrix calculated using the outer product of gradients (complex-step).\n"
     ]
    },
    {
     "name": "stderr",
     "output_type": "stream",
     "text": [
      "/Users/Jaime/anaconda3/lib/python3.7/site-packages/statsmodels/tsa/base/tsa_model.py:171: ValueWarning:\n",
      "\n",
      "No frequency information was provided, so inferred frequency D will be used.\n",
      "\n",
      "/Users/Jaime/anaconda3/lib/python3.7/site-packages/statsmodels/base/model.py:508: ConvergenceWarning:\n",
      "\n",
      "Maximum Likelihood optimization failed to converge. Check mle_retvals\n",
      "\n"
     ]
    }
   ],
   "source": [
    "# Variables\n",
    "endog = train.djia_per\n",
    "exog = train_exo3\n",
    "\n",
    "# Fit the model\n",
    "mod = sm.tsa.statespace.SARIMAX(endog, exog, order=(1,0,0))\n",
    "res = mod.fit(disp=False)\n",
    "\n",
    "print(res.summary())"
   ]
  },
  {
   "cell_type": "markdown",
   "metadata": {},
   "source": [
    "## Predictions"
   ]
  },
  {
   "cell_type": "code",
   "execution_count": null,
   "metadata": {},
   "outputs": [],
   "source": [
    "print(sm.tsa.stattools.grangercausalitytests(df[['Sales','Marketing']].dropna(),1))"
   ]
  }
 ],
 "metadata": {
  "kernelspec": {
   "display_name": "Python 3",
   "language": "python",
   "name": "python3"
  },
  "language_info": {
   "codemirror_mode": {
    "name": "ipython",
    "version": 3
   },
   "file_extension": ".py",
   "mimetype": "text/x-python",
   "name": "python",
   "nbconvert_exporter": "python",
   "pygments_lexer": "ipython3",
   "version": "3.7.1"
  }
 },
 "nbformat": 4,
 "nbformat_minor": 2
}
