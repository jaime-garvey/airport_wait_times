{
 "cells": [
  {
   "cell_type": "code",
   "execution_count": 66,
   "metadata": {},
   "outputs": [],
   "source": [
    "# load libraries\n",
    "\n",
    "import pandas as pd\n",
    "from pandas import datetime\n",
    "import numpy as np\n",
    "\n",
    "import seaborn as sns\n",
    "import matplotlib.pyplot as plt\n",
    "import plotly.plotly as py\n",
    "import plotly.graph_objs as go\n",
    "\n",
    "import statsmodels.api as sm\n",
    "import statsmodels.tsa.api as smt\n",
    "from statsmodels.tsa.arima_model import ARIMA\n",
    "import statsmodels.formula.api as smf\n",
    "from sklearn.metrics import mean_squared_error\n",
    "from math import sqrt\n",
    "\n",
    "from sklearn.model_selection import KFold, cross_val_score, GridSearchCV, train_test_split, TimeSeriesSplit \n",
    "from sklearn.preprocessing import StandardScaler\n",
    "from sklearn.svm import SVC\n",
    "from statsmodels.tsa.vector_ar.vecm import coint_johansen\n",
    "\n",
    "from pylab import rcParams #visual decomposition for time series\n",
    "\n",
    "from datetime import datetime, timedelta\n",
    "\n",
    "import warnings\n",
    "import itertools\n",
    "import pickle\n",
    "\n",
    "import plotly.plotly as py\n",
    "import plotly.graph_objs as go\n",
    "\n",
    "\n",
    "%matplotlib inline\n",
    "plt.style.use('fivethirtyeight')"
   ]
  },
  {
   "cell_type": "markdown",
   "metadata": {},
   "source": [
    "**Approval Ratings**"
   ]
  },
  {
   "cell_type": "code",
   "execution_count": 2,
   "metadata": {},
   "outputs": [],
   "source": [
    "dt_ratings = pd.read_pickle('dt_ratings.pickle')"
   ]
  },
  {
   "cell_type": "code",
   "execution_count": 3,
   "metadata": {},
   "outputs": [
    {
     "data": {
      "text/html": [
       "<div>\n",
       "<style scoped>\n",
       "    .dataframe tbody tr th:only-of-type {\n",
       "        vertical-align: middle;\n",
       "    }\n",
       "\n",
       "    .dataframe tbody tr th {\n",
       "        vertical-align: top;\n",
       "    }\n",
       "\n",
       "    .dataframe thead th {\n",
       "        text-align: right;\n",
       "    }\n",
       "</style>\n",
       "<table border=\"1\" class=\"dataframe\">\n",
       "  <thead>\n",
       "    <tr style=\"text-align: right;\">\n",
       "      <th></th>\n",
       "      <th>approve_estimate</th>\n",
       "      <th>disapprove_estimate</th>\n",
       "      <th>net_approval</th>\n",
       "    </tr>\n",
       "    <tr>\n",
       "      <th>modeldate</th>\n",
       "      <th></th>\n",
       "      <th></th>\n",
       "      <th></th>\n",
       "    </tr>\n",
       "  </thead>\n",
       "  <tbody>\n",
       "    <tr>\n",
       "      <th>2017-01-23</th>\n",
       "      <td>45.488977</td>\n",
       "      <td>41.088173</td>\n",
       "      <td>4.400803</td>\n",
       "    </tr>\n",
       "    <tr>\n",
       "      <th>2017-01-24</th>\n",
       "      <td>45.480880</td>\n",
       "      <td>41.541693</td>\n",
       "      <td>3.939187</td>\n",
       "    </tr>\n",
       "    <tr>\n",
       "      <th>2017-01-25</th>\n",
       "      <td>47.325433</td>\n",
       "      <td>43.027437</td>\n",
       "      <td>4.297997</td>\n",
       "    </tr>\n",
       "    <tr>\n",
       "      <th>2017-01-26</th>\n",
       "      <td>44.073550</td>\n",
       "      <td>40.696867</td>\n",
       "      <td>3.376683</td>\n",
       "    </tr>\n",
       "    <tr>\n",
       "      <th>2017-01-27</th>\n",
       "      <td>43.868173</td>\n",
       "      <td>41.279107</td>\n",
       "      <td>2.589067</td>\n",
       "    </tr>\n",
       "  </tbody>\n",
       "</table>\n",
       "</div>"
      ],
      "text/plain": [
       "            approve_estimate  disapprove_estimate  net_approval\n",
       "modeldate                                                      \n",
       "2017-01-23         45.488977            41.088173      4.400803\n",
       "2017-01-24         45.480880            41.541693      3.939187\n",
       "2017-01-25         47.325433            43.027437      4.297997\n",
       "2017-01-26         44.073550            40.696867      3.376683\n",
       "2017-01-27         43.868173            41.279107      2.589067"
      ]
     },
     "execution_count": 3,
     "metadata": {},
     "output_type": "execute_result"
    }
   ],
   "source": [
    "dt_ratings.head()"
   ]
  },
  {
   "cell_type": "markdown",
   "metadata": {},
   "source": [
    "**Master Data**"
   ]
  },
  {
   "cell_type": "code",
   "execution_count": 4,
   "metadata": {},
   "outputs": [],
   "source": [
    "master_df = pd.read_pickle('dt_master.pickle')"
   ]
  },
  {
   "cell_type": "code",
   "execution_count": 5,
   "metadata": {},
   "outputs": [
    {
     "data": {
      "text/html": [
       "<div>\n",
       "<style scoped>\n",
       "    .dataframe tbody tr th:only-of-type {\n",
       "        vertical-align: middle;\n",
       "    }\n",
       "\n",
       "    .dataframe tbody tr th {\n",
       "        vertical-align: top;\n",
       "    }\n",
       "\n",
       "    .dataframe thead th {\n",
       "        text-align: right;\n",
       "    }\n",
       "</style>\n",
       "<table border=\"1\" class=\"dataframe\">\n",
       "  <thead>\n",
       "    <tr style=\"text-align: right;\">\n",
       "      <th></th>\n",
       "      <th>net_approval</th>\n",
       "      <th>Price</th>\n",
       "      <th>compound</th>\n",
       "      <th>sentiment</th>\n",
       "      <th>trump_kw</th>\n",
       "      <th>trump_mueller_kw</th>\n",
       "    </tr>\n",
       "  </thead>\n",
       "  <tbody>\n",
       "    <tr>\n",
       "      <th>2017-01-23</th>\n",
       "      <td>4.400803</td>\n",
       "      <td>19799.85</td>\n",
       "      <td>0.4939</td>\n",
       "      <td>0.0</td>\n",
       "      <td>100.0</td>\n",
       "      <td>0.0</td>\n",
       "    </tr>\n",
       "    <tr>\n",
       "      <th>2017-01-24</th>\n",
       "      <td>3.939187</td>\n",
       "      <td>19912.71</td>\n",
       "      <td>0.9753</td>\n",
       "      <td>0.0</td>\n",
       "      <td>100.0</td>\n",
       "      <td>0.0</td>\n",
       "    </tr>\n",
       "    <tr>\n",
       "      <th>2017-01-25</th>\n",
       "      <td>4.297997</td>\n",
       "      <td>20068.51</td>\n",
       "      <td>0.1605</td>\n",
       "      <td>3.0</td>\n",
       "      <td>100.0</td>\n",
       "      <td>0.0</td>\n",
       "    </tr>\n",
       "    <tr>\n",
       "      <th>2017-01-26</th>\n",
       "      <td>3.376683</td>\n",
       "      <td>20100.91</td>\n",
       "      <td>0.5197</td>\n",
       "      <td>3.0</td>\n",
       "      <td>100.0</td>\n",
       "      <td>0.0</td>\n",
       "    </tr>\n",
       "    <tr>\n",
       "      <th>2017-01-27</th>\n",
       "      <td>2.589067</td>\n",
       "      <td>20093.78</td>\n",
       "      <td>1.8175</td>\n",
       "      <td>1.0</td>\n",
       "      <td>100.0</td>\n",
       "      <td>0.0</td>\n",
       "    </tr>\n",
       "    <tr>\n",
       "      <th>2017-01-28</th>\n",
       "      <td>2.030490</td>\n",
       "      <td>19971.13</td>\n",
       "      <td>-0.4928</td>\n",
       "      <td>2.0</td>\n",
       "      <td>100.0</td>\n",
       "      <td>0.0</td>\n",
       "    </tr>\n",
       "    <tr>\n",
       "      <th>2017-01-29</th>\n",
       "      <td>1.911960</td>\n",
       "      <td>19971.13</td>\n",
       "      <td>-2.7618</td>\n",
       "      <td>5.0</td>\n",
       "      <td>100.0</td>\n",
       "      <td>0.0</td>\n",
       "    </tr>\n",
       "    <tr>\n",
       "      <th>2017-01-30</th>\n",
       "      <td>1.717383</td>\n",
       "      <td>19971.13</td>\n",
       "      <td>-1.0777</td>\n",
       "      <td>5.0</td>\n",
       "      <td>100.0</td>\n",
       "      <td>0.0</td>\n",
       "    </tr>\n",
       "    <tr>\n",
       "      <th>2017-01-31</th>\n",
       "      <td>0.922157</td>\n",
       "      <td>19864.09</td>\n",
       "      <td>0.0619</td>\n",
       "      <td>1.0</td>\n",
       "      <td>100.0</td>\n",
       "      <td>0.0</td>\n",
       "    </tr>\n",
       "    <tr>\n",
       "      <th>2017-02-01</th>\n",
       "      <td>0.237480</td>\n",
       "      <td>19890.94</td>\n",
       "      <td>1.2483</td>\n",
       "      <td>1.0</td>\n",
       "      <td>100.0</td>\n",
       "      <td>0.0</td>\n",
       "    </tr>\n",
       "  </tbody>\n",
       "</table>\n",
       "</div>"
      ],
      "text/plain": [
       "            net_approval     Price  compound  sentiment  trump_kw  \\\n",
       "2017-01-23      4.400803  19799.85    0.4939        0.0     100.0   \n",
       "2017-01-24      3.939187  19912.71    0.9753        0.0     100.0   \n",
       "2017-01-25      4.297997  20068.51    0.1605        3.0     100.0   \n",
       "2017-01-26      3.376683  20100.91    0.5197        3.0     100.0   \n",
       "2017-01-27      2.589067  20093.78    1.8175        1.0     100.0   \n",
       "2017-01-28      2.030490  19971.13   -0.4928        2.0     100.0   \n",
       "2017-01-29      1.911960  19971.13   -2.7618        5.0     100.0   \n",
       "2017-01-30      1.717383  19971.13   -1.0777        5.0     100.0   \n",
       "2017-01-31      0.922157  19864.09    0.0619        1.0     100.0   \n",
       "2017-02-01      0.237480  19890.94    1.2483        1.0     100.0   \n",
       "\n",
       "            trump_mueller_kw  \n",
       "2017-01-23               0.0  \n",
       "2017-01-24               0.0  \n",
       "2017-01-25               0.0  \n",
       "2017-01-26               0.0  \n",
       "2017-01-27               0.0  \n",
       "2017-01-28               0.0  \n",
       "2017-01-29               0.0  \n",
       "2017-01-30               0.0  \n",
       "2017-01-31               0.0  \n",
       "2017-02-01               0.0  "
      ]
     },
     "execution_count": 5,
     "metadata": {},
     "output_type": "execute_result"
    }
   ],
   "source": [
    "master_df.head(10)"
   ]
  },
  {
   "cell_type": "markdown",
   "metadata": {},
   "source": [
    "**Dow Jones Data**"
   ]
  },
  {
   "cell_type": "code",
   "execution_count": 6,
   "metadata": {},
   "outputs": [],
   "source": [
    "djia_df = pd.read_pickle('djia_data.pickle')"
   ]
  },
  {
   "cell_type": "code",
   "execution_count": 7,
   "metadata": {},
   "outputs": [],
   "source": [
    "djia_df['Change %'] = djia_df['Change %'].apply(lambda x: x.replace('%',''))"
   ]
  },
  {
   "cell_type": "code",
   "execution_count": 8,
   "metadata": {},
   "outputs": [],
   "source": [
    "djia_df['Change %'] = djia_df['Change %'].astype(float)"
   ]
  },
  {
   "cell_type": "code",
   "execution_count": 9,
   "metadata": {},
   "outputs": [
    {
     "name": "stdout",
     "output_type": "stream",
     "text": [
      "<class 'pandas.core.frame.DataFrame'>\n",
      "DatetimeIndex: 502 entries, 2019-01-18 to 2017-01-23\n",
      "Data columns (total 6 columns):\n",
      "Price       502 non-null float64\n",
      "Open        502 non-null object\n",
      "High        502 non-null object\n",
      "Low         502 non-null object\n",
      "Vol.        502 non-null float64\n",
      "Change %    502 non-null float64\n",
      "dtypes: float64(3), object(3)\n",
      "memory usage: 27.5+ KB\n"
     ]
    }
   ],
   "source": [
    "djia_df.info()"
   ]
  },
  {
   "cell_type": "code",
   "execution_count": 69,
   "metadata": {},
   "outputs": [
    {
     "data": {
      "text/html": [
       "<div>\n",
       "<style scoped>\n",
       "    .dataframe tbody tr th:only-of-type {\n",
       "        vertical-align: middle;\n",
       "    }\n",
       "\n",
       "    .dataframe tbody tr th {\n",
       "        vertical-align: top;\n",
       "    }\n",
       "\n",
       "    .dataframe thead th {\n",
       "        text-align: right;\n",
       "    }\n",
       "</style>\n",
       "<table border=\"1\" class=\"dataframe\">\n",
       "  <thead>\n",
       "    <tr style=\"text-align: right;\">\n",
       "      <th></th>\n",
       "      <th>Price</th>\n",
       "      <th>Open</th>\n",
       "      <th>High</th>\n",
       "      <th>Low</th>\n",
       "      <th>Vol.</th>\n",
       "      <th>Change %</th>\n",
       "    </tr>\n",
       "    <tr>\n",
       "      <th>Date</th>\n",
       "      <th></th>\n",
       "      <th></th>\n",
       "      <th></th>\n",
       "      <th></th>\n",
       "      <th></th>\n",
       "      <th></th>\n",
       "    </tr>\n",
       "  </thead>\n",
       "  <tbody>\n",
       "    <tr>\n",
       "      <th>2019-01-18</th>\n",
       "      <td>24706.35</td>\n",
       "      <td>24,534.19</td>\n",
       "      <td>24,750.22</td>\n",
       "      <td>24,459.03</td>\n",
       "      <td>372.97</td>\n",
       "      <td>1.38</td>\n",
       "    </tr>\n",
       "    <tr>\n",
       "      <th>2019-01-17</th>\n",
       "      <td>24370.10</td>\n",
       "      <td>24,147.09</td>\n",
       "      <td>24,474.46</td>\n",
       "      <td>24,088.90</td>\n",
       "      <td>288.59</td>\n",
       "      <td>0.67</td>\n",
       "    </tr>\n",
       "  </tbody>\n",
       "</table>\n",
       "</div>"
      ],
      "text/plain": [
       "               Price       Open       High        Low    Vol.  Change %\n",
       "Date                                                                   \n",
       "2019-01-18  24706.35  24,534.19  24,750.22  24,459.03  372.97      1.38\n",
       "2019-01-17  24370.10  24,147.09  24,474.46  24,088.90  288.59      0.67"
      ]
     },
     "execution_count": 69,
     "metadata": {},
     "output_type": "execute_result"
    }
   ],
   "source": [
    "djia_df.head(2)"
   ]
  },
  {
   "cell_type": "markdown",
   "metadata": {},
   "source": [
    "**Twitter Data**"
   ]
  },
  {
   "cell_type": "code",
   "execution_count": 11,
   "metadata": {},
   "outputs": [],
   "source": [
    "dt_tweets = pd.read_pickle('dt_tweets.pickle')"
   ]
  },
  {
   "cell_type": "code",
   "execution_count": 12,
   "metadata": {},
   "outputs": [],
   "source": [
    "dt_tweets.index = dt_tweets['date']"
   ]
  },
  {
   "cell_type": "code",
   "execution_count": 13,
   "metadata": {},
   "outputs": [],
   "source": [
    "dt_tweets_df = dt_tweets.drop(['date', 'neg', 'neu', 'pos', 'sentiment','text'], axis=1)"
   ]
  },
  {
   "cell_type": "code",
   "execution_count": 14,
   "metadata": {},
   "outputs": [],
   "source": [
    "dt_tweets_df = dt_tweets_df.groupby(dt_tweets_df.index).agg('mean')"
   ]
  },
  {
   "cell_type": "code",
   "execution_count": 15,
   "metadata": {},
   "outputs": [
    {
     "data": {
      "text/html": [
       "<div>\n",
       "<style scoped>\n",
       "    .dataframe tbody tr th:only-of-type {\n",
       "        vertical-align: middle;\n",
       "    }\n",
       "\n",
       "    .dataframe tbody tr th {\n",
       "        vertical-align: top;\n",
       "    }\n",
       "\n",
       "    .dataframe thead th {\n",
       "        text-align: right;\n",
       "    }\n",
       "</style>\n",
       "<table border=\"1\" class=\"dataframe\">\n",
       "  <thead>\n",
       "    <tr style=\"text-align: right;\">\n",
       "      <th></th>\n",
       "      <th>compound</th>\n",
       "    </tr>\n",
       "    <tr>\n",
       "      <th>date</th>\n",
       "      <th></th>\n",
       "    </tr>\n",
       "  </thead>\n",
       "  <tbody>\n",
       "    <tr>\n",
       "      <th>2017-01-23</th>\n",
       "      <td>0.4939</td>\n",
       "    </tr>\n",
       "  </tbody>\n",
       "</table>\n",
       "</div>"
      ],
      "text/plain": [
       "            compound\n",
       "date                \n",
       "2017-01-23    0.4939"
      ]
     },
     "execution_count": 15,
     "metadata": {},
     "output_type": "execute_result"
    }
   ],
   "source": [
    "dt_tweets_df.head(1)"
   ]
  },
  {
   "cell_type": "code",
   "execution_count": 16,
   "metadata": {},
   "outputs": [
    {
     "data": {
      "text/html": [
       "<div>\n",
       "<style scoped>\n",
       "    .dataframe tbody tr th:only-of-type {\n",
       "        vertical-align: middle;\n",
       "    }\n",
       "\n",
       "    .dataframe tbody tr th {\n",
       "        vertical-align: top;\n",
       "    }\n",
       "\n",
       "    .dataframe thead th {\n",
       "        text-align: right;\n",
       "    }\n",
       "</style>\n",
       "<table border=\"1\" class=\"dataframe\">\n",
       "  <thead>\n",
       "    <tr style=\"text-align: right;\">\n",
       "      <th></th>\n",
       "      <th>text</th>\n",
       "      <th>date</th>\n",
       "      <th>neg</th>\n",
       "      <th>neu</th>\n",
       "      <th>pos</th>\n",
       "      <th>compound</th>\n",
       "      <th>sentiment</th>\n",
       "    </tr>\n",
       "    <tr>\n",
       "      <th>date</th>\n",
       "      <th></th>\n",
       "      <th></th>\n",
       "      <th></th>\n",
       "      <th></th>\n",
       "      <th></th>\n",
       "      <th></th>\n",
       "      <th></th>\n",
       "    </tr>\n",
       "  </thead>\n",
       "  <tbody>\n",
       "    <tr>\n",
       "      <th>2017-01-23</th>\n",
       "      <td>Busy week planned with a heavy focus on jobs a...</td>\n",
       "      <td>2017-01-23</td>\n",
       "      <td>0.000</td>\n",
       "      <td>0.826</td>\n",
       "      <td>0.174</td>\n",
       "      <td>0.4939</td>\n",
       "      <td>0</td>\n",
       "    </tr>\n",
       "    <tr>\n",
       "      <th>2017-01-24</th>\n",
       "      <td>Will be meeting at 9 00 with top automobile ex...</td>\n",
       "      <td>2017-01-24</td>\n",
       "      <td>0.000</td>\n",
       "      <td>0.876</td>\n",
       "      <td>0.124</td>\n",
       "      <td>0.2732</td>\n",
       "      <td>0</td>\n",
       "    </tr>\n",
       "    <tr>\n",
       "      <th>2017-01-24</th>\n",
       "      <td>A photo delivered yesterday that will be displ...</td>\n",
       "      <td>2017-01-24</td>\n",
       "      <td>0.118</td>\n",
       "      <td>0.749</td>\n",
       "      <td>0.134</td>\n",
       "      <td>0.0772</td>\n",
       "      <td>0</td>\n",
       "    </tr>\n",
       "    <tr>\n",
       "      <th>2017-01-24</th>\n",
       "      <td>Great meeting with automobile industry leaders...</td>\n",
       "      <td>2017-01-24</td>\n",
       "      <td>0.000</td>\n",
       "      <td>0.760</td>\n",
       "      <td>0.240</td>\n",
       "      <td>0.6249</td>\n",
       "      <td>0</td>\n",
       "    </tr>\n",
       "    <tr>\n",
       "      <th>2017-01-24</th>\n",
       "      <td>Signing orders to move forward with the constr...</td>\n",
       "      <td>2017-01-24</td>\n",
       "      <td>0.000</td>\n",
       "      <td>1.000</td>\n",
       "      <td>0.000</td>\n",
       "      <td>0.0000</td>\n",
       "      <td>0</td>\n",
       "    </tr>\n",
       "    <tr>\n",
       "      <th>2017-01-25</th>\n",
       "      <td>Great meeting with Ford CEO Mark Fields and Ge...</td>\n",
       "      <td>2017-01-25</td>\n",
       "      <td>0.000</td>\n",
       "      <td>0.785</td>\n",
       "      <td>0.215</td>\n",
       "      <td>0.6249</td>\n",
       "      <td>0</td>\n",
       "    </tr>\n",
       "    <tr>\n",
       "      <th>2017-01-25</th>\n",
       "      <td>Congratulations to for being number one in ina...</td>\n",
       "      <td>2017-01-25</td>\n",
       "      <td>0.138</td>\n",
       "      <td>0.577</td>\n",
       "      <td>0.285</td>\n",
       "      <td>0.4708</td>\n",
       "      <td>0</td>\n",
       "    </tr>\n",
       "    <tr>\n",
       "      <th>2017-01-25</th>\n",
       "      <td>If Chicago doesn t fix the horrible carnage go...</td>\n",
       "      <td>2017-01-25</td>\n",
       "      <td>0.258</td>\n",
       "      <td>0.742</td>\n",
       "      <td>0.000</td>\n",
       "      <td>-0.8402</td>\n",
       "      <td>1</td>\n",
       "    </tr>\n",
       "    <tr>\n",
       "      <th>2017-01-25</th>\n",
       "      <td>Big day planned on NATIONAL SECURITY tomorrow ...</td>\n",
       "      <td>2017-01-25</td>\n",
       "      <td>0.000</td>\n",
       "      <td>0.827</td>\n",
       "      <td>0.173</td>\n",
       "      <td>0.4824</td>\n",
       "      <td>0</td>\n",
       "    </tr>\n",
       "    <tr>\n",
       "      <th>2017-01-25</th>\n",
       "      <td>I will be asking for a major investigation int...</td>\n",
       "      <td>2017-01-25</td>\n",
       "      <td>0.289</td>\n",
       "      <td>0.711</td>\n",
       "      <td>0.000</td>\n",
       "      <td>-0.8455</td>\n",
       "      <td>1</td>\n",
       "    </tr>\n",
       "  </tbody>\n",
       "</table>\n",
       "</div>"
      ],
      "text/plain": [
       "                                                         text       date  \\\n",
       "date                                                                       \n",
       "2017-01-23  Busy week planned with a heavy focus on jobs a... 2017-01-23   \n",
       "2017-01-24  Will be meeting at 9 00 with top automobile ex... 2017-01-24   \n",
       "2017-01-24  A photo delivered yesterday that will be displ... 2017-01-24   \n",
       "2017-01-24  Great meeting with automobile industry leaders... 2017-01-24   \n",
       "2017-01-24  Signing orders to move forward with the constr... 2017-01-24   \n",
       "2017-01-25  Great meeting with Ford CEO Mark Fields and Ge... 2017-01-25   \n",
       "2017-01-25  Congratulations to for being number one in ina... 2017-01-25   \n",
       "2017-01-25  If Chicago doesn t fix the horrible carnage go... 2017-01-25   \n",
       "2017-01-25  Big day planned on NATIONAL SECURITY tomorrow ... 2017-01-25   \n",
       "2017-01-25  I will be asking for a major investigation int... 2017-01-25   \n",
       "\n",
       "              neg    neu    pos  compound  sentiment  \n",
       "date                                                  \n",
       "2017-01-23  0.000  0.826  0.174    0.4939          0  \n",
       "2017-01-24  0.000  0.876  0.124    0.2732          0  \n",
       "2017-01-24  0.118  0.749  0.134    0.0772          0  \n",
       "2017-01-24  0.000  0.760  0.240    0.6249          0  \n",
       "2017-01-24  0.000  1.000  0.000    0.0000          0  \n",
       "2017-01-25  0.000  0.785  0.215    0.6249          0  \n",
       "2017-01-25  0.138  0.577  0.285    0.4708          0  \n",
       "2017-01-25  0.258  0.742  0.000   -0.8402          1  \n",
       "2017-01-25  0.000  0.827  0.173    0.4824          0  \n",
       "2017-01-25  0.289  0.711  0.000   -0.8455          1  "
      ]
     },
     "execution_count": 16,
     "metadata": {},
     "output_type": "execute_result"
    }
   ],
   "source": [
    "dt_tweets.head(10)"
   ]
  },
  {
   "cell_type": "code",
   "execution_count": 17,
   "metadata": {},
   "outputs": [
    {
     "data": {
      "text/plain": [
       "Index(['Price', 'Open', 'High', 'Low', 'Vol.', 'Change %'], dtype='object')"
      ]
     },
     "execution_count": 17,
     "metadata": {},
     "output_type": "execute_result"
    }
   ],
   "source": [
    "djia_df.columns"
   ]
  },
  {
   "cell_type": "markdown",
   "metadata": {},
   "source": [
    "**Make up and down df for graph**"
   ]
  },
  {
   "cell_type": "code",
   "execution_count": 73,
   "metadata": {},
   "outputs": [],
   "source": [
    "djia_up = djia_df.where(djia_df['Change %']>=0)"
   ]
  },
  {
   "cell_type": "code",
   "execution_count": 75,
   "metadata": {},
   "outputs": [],
   "source": [
    "djia_up = djia_up.dropna()"
   ]
  },
  {
   "cell_type": "code",
   "execution_count": 78,
   "metadata": {},
   "outputs": [
    {
     "name": "stdout",
     "output_type": "stream",
     "text": [
      "<class 'pandas.core.frame.DataFrame'>\n",
      "DatetimeIndex: 218 entries, 2019-01-14 to 2017-01-23\n",
      "Data columns (total 6 columns):\n",
      "Price       218 non-null float64\n",
      "Open        218 non-null object\n",
      "High        218 non-null object\n",
      "Low         218 non-null object\n",
      "Vol.        218 non-null float64\n",
      "Change %    218 non-null float64\n",
      "dtypes: float64(3), object(3)\n",
      "memory usage: 11.9+ KB\n"
     ]
    }
   ],
   "source": [
    "djia_down.info()"
   ]
  },
  {
   "cell_type": "code",
   "execution_count": 74,
   "metadata": {},
   "outputs": [],
   "source": [
    "djia_down = djia_df.where(djia_df['Change %']<0)"
   ]
  },
  {
   "cell_type": "code",
   "execution_count": 76,
   "metadata": {},
   "outputs": [],
   "source": [
    "djia_down = djia_down.dropna()"
   ]
  },
  {
   "cell_type": "code",
   "execution_count": 18,
   "metadata": {},
   "outputs": [],
   "source": [
    "# Create a dataframe by merging the headlines and the stock prices dataframe\n",
    "merged_dataframe = djia_df[['Price', 'Open', 'High', 'Low', 'Vol.', 'Change %']].merge(master_df)"
   ]
  },
  {
   "cell_type": "code",
   "execution_count": 19,
   "metadata": {},
   "outputs": [
    {
     "name": "stdout",
     "output_type": "stream",
     "text": [
      "<class 'pandas.core.frame.DataFrame'>\n",
      "Int64Index: 726 entries, 0 to 725\n",
      "Data columns (total 11 columns):\n",
      "Price               726 non-null float64\n",
      "Open                726 non-null object\n",
      "High                726 non-null object\n",
      "Low                 726 non-null object\n",
      "Vol.                726 non-null float64\n",
      "Change %            726 non-null float64\n",
      "net_approval        726 non-null float64\n",
      "compound            726 non-null float64\n",
      "sentiment           726 non-null float64\n",
      "trump_kw            726 non-null float64\n",
      "trump_mueller_kw    726 non-null float64\n",
      "dtypes: float64(8), object(3)\n",
      "memory usage: 68.1+ KB\n"
     ]
    }
   ],
   "source": [
    "merged_dataframe.info()"
   ]
  },
  {
   "cell_type": "code",
   "execution_count": 20,
   "metadata": {},
   "outputs": [],
   "source": [
    "merged_dataframe.index = master_df.index"
   ]
  },
  {
   "cell_type": "code",
   "execution_count": 21,
   "metadata": {},
   "outputs": [
    {
     "data": {
      "text/html": [
       "<div>\n",
       "<style scoped>\n",
       "    .dataframe tbody tr th:only-of-type {\n",
       "        vertical-align: middle;\n",
       "    }\n",
       "\n",
       "    .dataframe tbody tr th {\n",
       "        vertical-align: top;\n",
       "    }\n",
       "\n",
       "    .dataframe thead th {\n",
       "        text-align: right;\n",
       "    }\n",
       "</style>\n",
       "<table border=\"1\" class=\"dataframe\">\n",
       "  <thead>\n",
       "    <tr style=\"text-align: right;\">\n",
       "      <th></th>\n",
       "      <th>Price</th>\n",
       "      <th>Open</th>\n",
       "      <th>High</th>\n",
       "      <th>Low</th>\n",
       "      <th>Vol.</th>\n",
       "      <th>Change %</th>\n",
       "      <th>net_approval</th>\n",
       "      <th>compound</th>\n",
       "      <th>sentiment</th>\n",
       "      <th>trump_kw</th>\n",
       "      <th>trump_mueller_kw</th>\n",
       "    </tr>\n",
       "  </thead>\n",
       "  <tbody>\n",
       "    <tr>\n",
       "      <th>2017-01-23</th>\n",
       "      <td>24706.35</td>\n",
       "      <td>24,534.19</td>\n",
       "      <td>24,750.22</td>\n",
       "      <td>24,459.03</td>\n",
       "      <td>372.97</td>\n",
       "      <td>1.38</td>\n",
       "      <td>-14.905757</td>\n",
       "      <td>1.2601</td>\n",
       "      <td>4.0</td>\n",
       "      <td>34.0</td>\n",
       "      <td>56.0</td>\n",
       "    </tr>\n",
       "    <tr>\n",
       "      <th>2017-01-24</th>\n",
       "      <td>24370.10</td>\n",
       "      <td>24,147.09</td>\n",
       "      <td>24,474.46</td>\n",
       "      <td>24,088.90</td>\n",
       "      <td>288.59</td>\n",
       "      <td>0.67</td>\n",
       "      <td>-14.991483</td>\n",
       "      <td>-1.0234</td>\n",
       "      <td>2.0</td>\n",
       "      <td>34.0</td>\n",
       "      <td>56.0</td>\n",
       "    </tr>\n",
       "    <tr>\n",
       "      <th>2017-01-25</th>\n",
       "      <td>24207.16</td>\n",
       "      <td>24,139.91</td>\n",
       "      <td>24,288.61</td>\n",
       "      <td>24,119.72</td>\n",
       "      <td>302.83</td>\n",
       "      <td>0.59</td>\n",
       "      <td>-14.453337</td>\n",
       "      <td>-0.7066</td>\n",
       "      <td>2.0</td>\n",
       "      <td>34.0</td>\n",
       "      <td>56.0</td>\n",
       "    </tr>\n",
       "    <tr>\n",
       "      <th>2017-01-26</th>\n",
       "      <td>24065.59</td>\n",
       "      <td>23,914.11</td>\n",
       "      <td>24,099.14</td>\n",
       "      <td>23,887.93</td>\n",
       "      <td>291.57</td>\n",
       "      <td>0.65</td>\n",
       "      <td>-13.448737</td>\n",
       "      <td>2.0999</td>\n",
       "      <td>6.0</td>\n",
       "      <td>34.0</td>\n",
       "      <td>56.0</td>\n",
       "    </tr>\n",
       "    <tr>\n",
       "      <th>2017-01-27</th>\n",
       "      <td>23909.84</td>\n",
       "      <td>23,880.53</td>\n",
       "      <td>23,964.90</td>\n",
       "      <td>23,765.24</td>\n",
       "      <td>277.56</td>\n",
       "      <td>-0.36</td>\n",
       "      <td>-12.829610</td>\n",
       "      <td>-3.2650</td>\n",
       "      <td>9.0</td>\n",
       "      <td>37.0</td>\n",
       "      <td>52.0</td>\n",
       "    </tr>\n",
       "  </tbody>\n",
       "</table>\n",
       "</div>"
      ],
      "text/plain": [
       "               Price       Open       High        Low    Vol.  Change %  \\\n",
       "2017-01-23  24706.35  24,534.19  24,750.22  24,459.03  372.97      1.38   \n",
       "2017-01-24  24370.10  24,147.09  24,474.46  24,088.90  288.59      0.67   \n",
       "2017-01-25  24207.16  24,139.91  24,288.61  24,119.72  302.83      0.59   \n",
       "2017-01-26  24065.59  23,914.11  24,099.14  23,887.93  291.57      0.65   \n",
       "2017-01-27  23909.84  23,880.53  23,964.90  23,765.24  277.56     -0.36   \n",
       "\n",
       "            net_approval  compound  sentiment  trump_kw  trump_mueller_kw  \n",
       "2017-01-23    -14.905757    1.2601        4.0      34.0              56.0  \n",
       "2017-01-24    -14.991483   -1.0234        2.0      34.0              56.0  \n",
       "2017-01-25    -14.453337   -0.7066        2.0      34.0              56.0  \n",
       "2017-01-26    -13.448737    2.0999        6.0      34.0              56.0  \n",
       "2017-01-27    -12.829610   -3.2650        9.0      37.0              52.0  "
      ]
     },
     "execution_count": 21,
     "metadata": {},
     "output_type": "execute_result"
    }
   ],
   "source": [
    "merged_dataframe.head()"
   ]
  },
  {
   "cell_type": "code",
   "execution_count": 22,
   "metadata": {},
   "outputs": [
    {
     "data": {
      "text/plain": [
       "Index(['Price', 'Open', 'High', 'Low', 'Vol.', 'Change %', 'net_approval',\n",
       "       'compound', 'sentiment', 'trump_kw', 'trump_mueller_kw'],\n",
       "      dtype='object')"
      ]
     },
     "execution_count": 22,
     "metadata": {},
     "output_type": "execute_result"
    }
   ],
   "source": [
    "merged_dataframe.columns"
   ]
  },
  {
   "cell_type": "markdown",
   "metadata": {},
   "source": [
    "**Variables**"
   ]
  },
  {
   "cell_type": "code",
   "execution_count": 24,
   "metadata": {},
   "outputs": [
    {
     "data": {
      "image/png": "[encoded data removed]",
      "text/plain": [
       "<Figure size 1152x864 with 2 Axes>"
      ]
     },
     "metadata": {
      "needs_background": "light"
     },
     "output_type": "display_data"
    }
   ],
   "source": [
    "plt.figure(figsize=(16,12))\n",
    "plt.title('Pearson correlation of continuous features', y=1.05, size=15)\n",
    "sns.heatmap(merged_dataframe.corr(),linewidths=0.1,vmax=1.0, square=True, linecolor='white', annot=True)\n",
    "plt.show()"
   ]
  },
  {
   "cell_type": "markdown",
   "metadata": {},
   "source": [
    "### Convert Dataframes"
   ]
  },
  {
   "cell_type": "code",
   "execution_count": 25,
   "metadata": {},
   "outputs": [],
   "source": [
    "#DJIA Price Data\n",
    "djia_price = djia_df[['Price']].copy()"
   ]
  },
  {
   "cell_type": "code",
   "execution_count": 26,
   "metadata": {},
   "outputs": [],
   "source": [
    "djia_percent = djia_df[['Change %']].copy()"
   ]
  },
  {
   "cell_type": "code",
   "execution_count": 27,
   "metadata": {},
   "outputs": [
    {
     "name": "stdout",
     "output_type": "stream",
     "text": [
      "<class 'pandas.core.frame.DataFrame'>\n",
      "DatetimeIndex: 502 entries, 2019-01-18 to 2017-01-23\n",
      "Data columns (total 1 columns):\n",
      "Change %    502 non-null float64\n",
      "dtypes: float64(1)\n",
      "memory usage: 7.8 KB\n"
     ]
    }
   ],
   "source": [
    "djia_percent.info()"
   ]
  },
  {
   "cell_type": "code",
   "execution_count": 28,
   "metadata": {},
   "outputs": [],
   "source": [
    "approvals = dt_ratings[['approve_estimate']].copy()"
   ]
  },
  {
   "cell_type": "code",
   "execution_count": 29,
   "metadata": {},
   "outputs": [],
   "source": [
    "disapprovals = dt_ratings[['disapprove_estimate']].copy()"
   ]
  },
  {
   "cell_type": "code",
   "execution_count": 30,
   "metadata": {},
   "outputs": [],
   "source": [
    "compound = dt_tweets[['compound']].copy()"
   ]
  },
  {
   "cell_type": "markdown",
   "metadata": {},
   "source": [
    "**Full DataFrames**"
   ]
  },
  {
   "cell_type": "code",
   "execution_count": 31,
   "metadata": {},
   "outputs": [],
   "source": [
    "djia_per_approvals = pd.DataFrame({\"percent\": djia_percent['Change %'], \"approvals\": approvals.approve_estimate})"
   ]
  },
  {
   "cell_type": "code",
   "execution_count": 32,
   "metadata": {},
   "outputs": [],
   "source": [
    "full_data = pd.DataFrame({\"percent\": djia_df['Change %'], \"approvals\": approvals.approve_estimate, \"disapprovals\": disapprovals.disapprove_estimate, \"trump_kw\":master_df.trump_kw, \"trump_mueller_kw\":master_df.trump_mueller_kw})"
   ]
  },
  {
   "cell_type": "code",
   "execution_count": 33,
   "metadata": {},
   "outputs": [],
   "source": [
    "#full_data['compound'] = compound.compound"
   ]
  },
  {
   "cell_type": "code",
   "execution_count": 34,
   "metadata": {},
   "outputs": [],
   "source": [
    "#full_data['percent'] = full_data['percent'].apply(lambda x: x.replace('%',''))"
   ]
  },
  {
   "cell_type": "code",
   "execution_count": 35,
   "metadata": {},
   "outputs": [],
   "source": [
    "#save dataframe as pickle file\n",
    "\n",
    "with open('full_data.pickle', 'wb') as to_write:\n",
    "    pickle.dump(full_data, to_write)"
   ]
  },
  {
   "cell_type": "code",
   "execution_count": 36,
   "metadata": {},
   "outputs": [],
   "source": [
    "full_data['percent'] = full_data['percent'].fillna(method='bfill')"
   ]
  },
  {
   "cell_type": "code",
   "execution_count": 37,
   "metadata": {},
   "outputs": [],
   "source": [
    "#full_data['compound'] = dt_tweets[['compound']].copy()"
   ]
  },
  {
   "cell_type": "code",
   "execution_count": 38,
   "metadata": {},
   "outputs": [
    {
     "data": {
      "text/html": [
       "<div>\n",
       "<style scoped>\n",
       "    .dataframe tbody tr th:only-of-type {\n",
       "        vertical-align: middle;\n",
       "    }\n",
       "\n",
       "    .dataframe tbody tr th {\n",
       "        vertical-align: top;\n",
       "    }\n",
       "\n",
       "    .dataframe thead th {\n",
       "        text-align: right;\n",
       "    }\n",
       "</style>\n",
       "<table border=\"1\" class=\"dataframe\">\n",
       "  <thead>\n",
       "    <tr style=\"text-align: right;\">\n",
       "      <th></th>\n",
       "      <th>percent</th>\n",
       "      <th>approvals</th>\n",
       "      <th>disapprovals</th>\n",
       "      <th>trump_kw</th>\n",
       "      <th>trump_mueller_kw</th>\n",
       "    </tr>\n",
       "    <tr>\n",
       "      <th>modeldate</th>\n",
       "      <th></th>\n",
       "      <th></th>\n",
       "      <th></th>\n",
       "      <th></th>\n",
       "      <th></th>\n",
       "    </tr>\n",
       "  </thead>\n",
       "  <tbody>\n",
       "    <tr>\n",
       "      <th>2017-01-23</th>\n",
       "      <td>-0.14</td>\n",
       "      <td>45.488977</td>\n",
       "      <td>41.088173</td>\n",
       "      <td>100.0</td>\n",
       "      <td>0.0</td>\n",
       "    </tr>\n",
       "  </tbody>\n",
       "</table>\n",
       "</div>"
      ],
      "text/plain": [
       "            percent  approvals  disapprovals  trump_kw  trump_mueller_kw\n",
       "modeldate                                                               \n",
       "2017-01-23    -0.14  45.488977     41.088173     100.0               0.0"
      ]
     },
     "execution_count": 38,
     "metadata": {},
     "output_type": "execute_result"
    }
   ],
   "source": [
    "full_data.head(1)"
   ]
  },
  {
   "cell_type": "code",
   "execution_count": 39,
   "metadata": {},
   "outputs": [],
   "source": [
    "percent = full_data[['percent']].copy()"
   ]
  },
  {
   "cell_type": "code",
   "execution_count": 40,
   "metadata": {},
   "outputs": [],
   "source": [
    "variables = full_data.drop(['percent'], axis=1)"
   ]
  },
  {
   "cell_type": "code",
   "execution_count": 41,
   "metadata": {},
   "outputs": [],
   "source": [
    "variables = variables.drop(['disapprovals'], axis=1)"
   ]
  },
  {
   "cell_type": "code",
   "execution_count": 42,
   "metadata": {},
   "outputs": [
    {
     "name": "stdout",
     "output_type": "stream",
     "text": [
      "<class 'pandas.core.frame.DataFrame'>\n",
      "DatetimeIndex: 726 entries, 2017-01-23 to 2019-01-18\n",
      "Freq: D\n",
      "Data columns (total 3 columns):\n",
      "approvals           726 non-null float64\n",
      "trump_kw            726 non-null float64\n",
      "trump_mueller_kw    726 non-null float64\n",
      "dtypes: float64(3)\n",
      "memory usage: 22.7 KB\n"
     ]
    }
   ],
   "source": [
    "variables.info()"
   ]
  },
  {
   "cell_type": "markdown",
   "metadata": {},
   "source": [
    "## Split Data"
   ]
  },
  {
   "cell_type": "code",
   "execution_count": 43,
   "metadata": {},
   "outputs": [
    {
     "name": "stdout",
     "output_type": "stream",
     "text": [
      "Price               726\n",
      "Open                726\n",
      "High                726\n",
      "Low                 726\n",
      "Vol.                726\n",
      "Change %            726\n",
      "net_approval        726\n",
      "compound            726\n",
      "sentiment           726\n",
      "trump_kw            726\n",
      "trump_mueller_kw    726\n",
      "dtype: int64\n",
      "726\n",
      "580\n"
     ]
    }
   ],
   "source": [
    "train_full = full_data[:int(0.8*(len(djia_df)))]\n",
    "test_full = full_data[int(0.8*(len(djia_df))):]\n",
    "\n",
    "# Recheck the count\n",
    "print(merged_dataframe.count())\n",
    "# Separate the dataframe for input(X) and output variables(y)\n",
    "X = merged_dataframe[['net_approval','compound', 'sentiment', 'trump_kw', 'trump_mueller_kw']]\n",
    "y = merged_dataframe['Change %']\n",
    "\n",
    "# Split the dataset to test and train sets\n",
    "# Split the initial 70% of the data as training set and the remaining 30% data as the testing set\n",
    "train_size = int(len(X) * 0.8)\n",
    "print(len(y))\n",
    "print(train_size)\n",
    "\n",
    "#X_train, X_test = X[:int(0.8*(len(merged_dataframe)))], X[int(0.8*(len(merged_dataframe))):]\n",
    "X_train, X_test = X[:train_size], X[train_size:]\n",
    "y_train, y_test = y[:train_size], y[train_size:]"
   ]
  },
  {
   "cell_type": "code",
   "execution_count": 60,
   "metadata": {},
   "outputs": [
    {
     "data": {
      "text/html": [
       "<div>\n",
       "<style scoped>\n",
       "    .dataframe tbody tr th:only-of-type {\n",
       "        vertical-align: middle;\n",
       "    }\n",
       "\n",
       "    .dataframe tbody tr th {\n",
       "        vertical-align: top;\n",
       "    }\n",
       "\n",
       "    .dataframe thead th {\n",
       "        text-align: right;\n",
       "    }\n",
       "</style>\n",
       "<table border=\"1\" class=\"dataframe\">\n",
       "  <thead>\n",
       "    <tr style=\"text-align: right;\">\n",
       "      <th></th>\n",
       "      <th>net_approval</th>\n",
       "      <th>compound</th>\n",
       "      <th>sentiment</th>\n",
       "      <th>trump_kw</th>\n",
       "      <th>trump_mueller_kw</th>\n",
       "    </tr>\n",
       "  </thead>\n",
       "  <tbody>\n",
       "    <tr>\n",
       "      <th>2019-01-14</th>\n",
       "      <td>2.589067</td>\n",
       "      <td>1.8175</td>\n",
       "      <td>1.0</td>\n",
       "      <td>100.0</td>\n",
       "      <td>0.0</td>\n",
       "    </tr>\n",
       "    <tr>\n",
       "      <th>2019-01-15</th>\n",
       "      <td>3.376683</td>\n",
       "      <td>0.5197</td>\n",
       "      <td>3.0</td>\n",
       "      <td>100.0</td>\n",
       "      <td>0.0</td>\n",
       "    </tr>\n",
       "    <tr>\n",
       "      <th>2019-01-16</th>\n",
       "      <td>4.297997</td>\n",
       "      <td>0.1605</td>\n",
       "      <td>3.0</td>\n",
       "      <td>100.0</td>\n",
       "      <td>0.0</td>\n",
       "    </tr>\n",
       "    <tr>\n",
       "      <th>2019-01-17</th>\n",
       "      <td>3.939187</td>\n",
       "      <td>0.9753</td>\n",
       "      <td>0.0</td>\n",
       "      <td>100.0</td>\n",
       "      <td>0.0</td>\n",
       "    </tr>\n",
       "    <tr>\n",
       "      <th>2019-01-18</th>\n",
       "      <td>4.400803</td>\n",
       "      <td>0.4939</td>\n",
       "      <td>0.0</td>\n",
       "      <td>100.0</td>\n",
       "      <td>0.0</td>\n",
       "    </tr>\n",
       "  </tbody>\n",
       "</table>\n",
       "</div>"
      ],
      "text/plain": [
       "            net_approval  compound  sentiment  trump_kw  trump_mueller_kw\n",
       "2019-01-14      2.589067    1.8175        1.0     100.0               0.0\n",
       "2019-01-15      3.376683    0.5197        3.0     100.0               0.0\n",
       "2019-01-16      4.297997    0.1605        3.0     100.0               0.0\n",
       "2019-01-17      3.939187    0.9753        0.0     100.0               0.0\n",
       "2019-01-18      4.400803    0.4939        0.0     100.0               0.0"
      ]
     },
     "execution_count": 60,
     "metadata": {},
     "output_type": "execute_result"
    }
   ],
   "source": [
    "X_test.tail()"
   ]
  },
  {
   "cell_type": "markdown",
   "metadata": {},
   "source": [
    "## Stationarize "
   ]
  },
  {
   "cell_type": "code",
   "execution_count": 44,
   "metadata": {},
   "outputs": [
    {
     "data": {
      "image/png": "[encoded data removed]",
      "text/plain": [
       "<Figure size 1080x288 with 2 Axes>"
      ]
     },
     "metadata": {
      "needs_background": "light"
     },
     "output_type": "display_data"
    }
   ],
   "source": [
    "# Graph data\n",
    "fig, axes = plt.subplots(1, 2, figsize=(15,4))\n",
    "\n",
    "# Levels\n",
    "axes[0].plot(master_df.index._mpl_repr(), merged_dataframe.Price, '-')\n",
    "axes[0].set(title='DJIA Price during Trump Administration')\n",
    "\n",
    "# Log difference\n",
    "axes[1].plot(merged_dataframe.index._mpl_repr(),merged_dataframe['Change %'] , '-')\n",
    "axes[1].hlines(0, master_df.index[0], master_df.index[-1], colors='r')\n",
    "axes[1].set(title='DJIA Price - Percent Change');"
   ]
  },
  {
   "cell_type": "markdown",
   "metadata": {},
   "source": [
    "**Testing Stationarity**"
   ]
  },
  {
   "cell_type": "code",
   "execution_count": 45,
   "metadata": {},
   "outputs": [],
   "source": [
    "# define Dickey-Fuller Test (DFT) function\n",
    "import statsmodels.tsa.stattools as ts\n",
    "def dftest(timeseries):\n",
    "    dftest = ts.adfuller(timeseries, autolag='AIC')\n",
    "    dfoutput = pd.Series(dftest[0:4], index=['Test Statistic','p-value','Lags Used','Observations Used'])\n",
    "    for key,value in dftest[4].items():\n",
    "        dfoutput['Critical Value (%s)'%key] = value\n",
    "    print(dfoutput)\n",
    "    #Determine rolling statistics\n",
    "    rolmean = timeseries.rolling(window=12).mean()\n",
    "    rolstd = timeseries.rolling(window=12).std()\n",
    "\n",
    "    #Plot rolling statistics:\n",
    "    orig = plt.plot(timeseries, color='blue',label='Original')\n",
    "    mean = plt.plot(rolmean, color='red', label='Rolling Mean')\n",
    "    std = plt.plot(rolstd, color='black', label = 'Rolling Std')\n",
    "    plt.legend(loc='best')\n",
    "    plt.title('Rolling Mean and Standard Deviation')\n",
    "    plt.show(block=False)"
   ]
  },
  {
   "cell_type": "code",
   "execution_count": 46,
   "metadata": {},
   "outputs": [
    {
     "name": "stdout",
     "output_type": "stream",
     "text": [
      "Test Statistic         -1.097383e+01\n",
      "p-value                 7.759297e-20\n",
      "Lags Used               5.000000e+00\n",
      "Observations Used       7.200000e+02\n",
      "Critical Value (1%)    -3.439465e+00\n",
      "Critical Value (5%)    -2.865563e+00\n",
      "Critical Value (10%)   -2.568912e+00\n",
      "dtype: float64\n"
     ]
    },
    {
     "data": {
      "image/png": "[encoded data removed]",
      "text/plain": [
       "<Figure size 432x288 with 1 Axes>"
      ]
     },
     "metadata": {
      "needs_background": "light"
     },
     "output_type": "display_data"
    }
   ],
   "source": [
    "dftest(merged_dataframe['Change %'])\n",
    "#Data stationary"
   ]
  },
  {
   "cell_type": "markdown",
   "metadata": {},
   "source": [
    "## Autocorrelation "
   ]
  },
  {
   "cell_type": "code",
   "execution_count": 47,
   "metadata": {},
   "outputs": [
    {
     "data": {
      "image/png": "[encoded data removed]",
      "text/plain": [
       "<Figure size 1080x288 with 2 Axes>"
      ]
     },
     "metadata": {
      "needs_background": "light"
     },
     "output_type": "display_data"
    }
   ],
   "source": [
    "fig, axes = plt.subplots(1, 2, figsize=(15,4))\n",
    "\n",
    "fig = sm.graphics.tsa.plot_acf(merged_dataframe.iloc[1:]['Change %'], lags=45, ax=axes[0])\n",
    "fig = sm.graphics.tsa.plot_pacf(merged_dataframe.iloc[1:]['Change %'], lags=45, ax=axes[1])"
   ]
  },
  {
   "cell_type": "markdown",
   "metadata": {},
   "source": [
    "## Model Building"
   ]
  },
  {
   "cell_type": "markdown",
   "metadata": {},
   "source": [
    "### Model (DJIA - % Change in Price)"
   ]
  },
  {
   "cell_type": "markdown",
   "metadata": {},
   "source": [
    "**Grid Search**"
   ]
  },
  {
   "cell_type": "code",
   "execution_count": 48,
   "metadata": {},
   "outputs": [
    {
     "name": "stdout",
     "output_type": "stream",
     "text": [
      "Examples of parameter combinations for Seasonal ARIMA...\n",
      "SARIMAX: (0, 0, 1) x (0, 0, 1, 12)\n",
      "SARIMAX: (0, 0, 1) x (0, 1, 0, 12)\n",
      "SARIMAX: (0, 1, 0) x (0, 1, 1, 12)\n",
      "SARIMAX: (0, 1, 0) x (1, 0, 0, 12)\n"
     ]
    }
   ],
   "source": [
    "# Define the p, d and q parameters to take any value between 0 and 2\n",
    "p = d = q = range(0, 2)\n",
    "\n",
    "# Generate all different combinations of p, q and q triplets\n",
    "pdq = list(itertools.product(p, d, q))\n",
    "\n",
    "# Generate all different combinations of seasonal p, q and q triplets\n",
    "seasonal_pdq = [(x[0], x[1], x[2], 12) for x in list(itertools.product(p, d, q))]\n",
    "\n",
    "print('Examples of parameter combinations for Seasonal ARIMA...')\n",
    "print('SARIMAX: {} x {}'.format(pdq[1], seasonal_pdq[1]))\n",
    "print('SARIMAX: {} x {}'.format(pdq[1], seasonal_pdq[2]))\n",
    "print('SARIMAX: {} x {}'.format(pdq[2], seasonal_pdq[3]))\n",
    "print('SARIMAX: {} x {}'.format(pdq[2], seasonal_pdq[4]))\n"
   ]
  },
  {
   "cell_type": "code",
   "execution_count": 49,
   "metadata": {},
   "outputs": [
    {
     "name": "stdout",
     "output_type": "stream",
     "text": [
      "ARIMA(0, 0, 0)x(0, 0, 0, 12)12 - AIC:1930.9967496005152\n",
      "ARIMA(0, 0, 0)x(0, 0, 1, 12)12 - AIC:1903.5737163876543\n",
      "ARIMA(0, 0, 0)x(0, 1, 0, 12)12 - AIC:2450.7420990032956\n",
      "ARIMA(0, 0, 0)x(0, 1, 1, 12)12 - AIC:1881.198966956644\n",
      "ARIMA(0, 0, 0)x(1, 0, 0, 12)12 - AIC:1907.0503779229766\n",
      "ARIMA(0, 0, 0)x(1, 0, 1, 12)12 - AIC:1888.7278996574278\n",
      "ARIMA(0, 0, 0)x(1, 1, 0, 12)12 - AIC:2147.1744013051366\n",
      "ARIMA(0, 0, 0)x(1, 1, 1, 12)12 - AIC:1907.5318824400538\n",
      "ARIMA(0, 0, 1)x(0, 0, 0, 12)12 - AIC:1836.1236193519435\n",
      "ARIMA(0, 0, 1)x(0, 0, 1, 12)12 - AIC:1811.886547180682\n",
      "ARIMA(0, 0, 1)x(0, 1, 0, 12)12 - AIC:2335.8309106158026\n",
      "ARIMA(0, 0, 1)x(0, 1, 1, 12)12 - AIC:1770.1477135403588\n",
      "ARIMA(0, 0, 1)x(1, 0, 0, 12)12 - AIC:1818.4619319519616\n",
      "ARIMA(0, 0, 1)x(1, 0, 1, 12)12 - AIC:1792.1201015448373\n",
      "ARIMA(0, 0, 1)x(1, 1, 0, 12)12 - AIC:2055.7222410887216\n",
      "ARIMA(0, 0, 1)x(1, 1, 1, 12)12 - AIC:1797.1459610374693\n",
      "ARIMA(0, 1, 0)x(0, 0, 0, 12)12 - AIC:2098.874305332448\n",
      "ARIMA(0, 1, 0)x(0, 0, 1, 12)12 - AIC:2075.774554142014\n",
      "ARIMA(0, 1, 0)x(0, 1, 0, 12)12 - AIC:2575.845983112302\n",
      "ARIMA(0, 1, 0)x(0, 1, 1, 12)12 - AIC:1991.5419454071548\n",
      "ARIMA(0, 1, 0)x(1, 0, 0, 12)12 - AIC:2077.597525022683\n",
      "ARIMA(0, 1, 0)x(1, 0, 1, 12)12 - AIC:2046.6998069277695\n",
      "ARIMA(0, 1, 0)x(1, 1, 0, 12)12 - AIC:2290.138776479344\n",
      "ARIMA(0, 1, 0)x(1, 1, 1, 12)12 - AIC:1993.5423398961743\n",
      "ARIMA(0, 1, 1)x(0, 0, 0, 12)12 - AIC:1946.3691585760025\n",
      "ARIMA(0, 1, 1)x(0, 0, 1, 12)12 - AIC:1900.428145740206\n",
      "ARIMA(0, 1, 1)x(0, 1, 0, 12)12 - AIC:2443.1816076942714\n",
      "ARIMA(0, 1, 1)x(0, 1, 1, 12)12 - AIC:1853.8738050314678\n",
      "ARIMA(0, 1, 1)x(1, 0, 0, 12)12 - AIC:1911.628937515119\n",
      "ARIMA(0, 1, 1)x(1, 0, 1, 12)12 - AIC:1885.5170365777722\n",
      "ARIMA(0, 1, 1)x(1, 1, 0, 12)12 - AIC:2142.4099982167336\n",
      "ARIMA(0, 1, 1)x(1, 1, 1, 12)12 - AIC:1890.4907924035867\n",
      "ARIMA(1, 0, 0)x(0, 0, 0, 12)12 - AIC:1827.1048507307855\n",
      "ARIMA(1, 0, 0)x(0, 0, 1, 12)12 - AIC:1806.560606023348\n",
      "ARIMA(1, 0, 0)x(0, 1, 0, 12)12 - AIC:2327.1126404181914\n",
      "ARIMA(1, 0, 0)x(0, 1, 1, 12)12 - AIC:1770.4527593598507\n",
      "ARIMA(1, 0, 0)x(1, 0, 0, 12)12 - AIC:1806.8062736675165\n",
      "ARIMA(1, 0, 0)x(1, 0, 1, 12)12 - AIC:1780.9901665195612\n",
      "ARIMA(1, 0, 0)x(1, 1, 0, 12)12 - AIC:2025.2703477314778\n",
      "ARIMA(1, 0, 0)x(1, 1, 1, 12)12 - AIC:1806.305330443402\n",
      "ARIMA(1, 0, 1)x(0, 0, 0, 12)12 - AIC:1827.3823256549044\n",
      "ARIMA(1, 0, 1)x(0, 0, 1, 12)12 - AIC:1806.857020472974\n",
      "ARIMA(1, 0, 1)x(0, 1, 0, 12)12 - AIC:2325.785927703395\n",
      "ARIMA(1, 0, 1)x(0, 1, 1, 12)12 - AIC:1751.51596924049\n",
      "ARIMA(1, 0, 1)x(1, 0, 0, 12)12 - AIC:1808.6488440445214\n",
      "ARIMA(1, 0, 1)x(1, 0, 1, 12)12 - AIC:1775.9110210965628\n",
      "ARIMA(1, 0, 1)x(1, 1, 0, 12)12 - AIC:2027.0717900131483\n",
      "ARIMA(1, 0, 1)x(1, 1, 1, 12)12 - AIC:1787.6182007963207\n",
      "ARIMA(1, 1, 0)x(0, 0, 0, 12)12 - AIC:2030.6246995544639\n",
      "ARIMA(1, 1, 0)x(0, 0, 1, 12)12 - AIC:2007.8265674133424\n",
      "ARIMA(1, 1, 0)x(0, 1, 0, 12)12 - AIC:2523.415513921684\n",
      "ARIMA(1, 1, 0)x(0, 1, 1, 12)12 - AIC:1938.7798275812102\n",
      "ARIMA(1, 1, 0)x(1, 0, 0, 12)12 - AIC:2007.5994668682033\n",
      "ARIMA(1, 1, 0)x(1, 0, 1, 12)12 - AIC:1982.4614669332345\n",
      "ARIMA(1, 1, 0)x(1, 1, 0, 12)12 - AIC:2178.788248160339\n",
      "ARIMA(1, 1, 0)x(1, 1, 1, 12)12 - AIC:1985.8874874330359\n",
      "ARIMA(1, 1, 1)x(0, 0, 0, 12)12 - AIC:1831.5637266940867\n",
      "ARIMA(1, 1, 1)x(0, 0, 1, 12)12 - AIC:1805.4124816324788\n",
      "ARIMA(1, 1, 1)x(0, 1, 0, 12)12 - AIC:2324.903205876422\n",
      "ARIMA(1, 1, 1)x(0, 1, 1, 12)12 - AIC:1742.2387700037993\n",
      "ARIMA(1, 1, 1)x(1, 0, 0, 12)12 - AIC:1813.43767947088\n",
      "ARIMA(1, 1, 1)x(1, 0, 1, 12)12 - AIC:1791.0980626870582\n",
      "ARIMA(1, 1, 1)x(1, 1, 0, 12)12 - AIC:2006.128043169132\n",
      "ARIMA(1, 1, 1)x(1, 1, 1, 12)12 - AIC:1781.0024845668784\n"
     ]
    }
   ],
   "source": [
    "warnings.filterwarnings(\"ignore\") # specify to ignore warning messages\n",
    "\n",
    "for param in pdq:\n",
    "    for param_seasonal in seasonal_pdq:\n",
    "        try:\n",
    "            mod = sm.tsa.statespace.SARIMAX(y,\n",
    "                                            order=param,\n",
    "                                            seasonal_order=param_seasonal,\n",
    "                                            enforce_stationarity=False,\n",
    "                                            enforce_invertibility=False)\n",
    "\n",
    "            results = mod.fit()\n",
    "\n",
    "            print('ARIMA{}x{}12 - AIC:{}'.format(param, param_seasonal, results.aic))\n",
    "        except:\n",
    "            continue"
   ]
  },
  {
   "cell_type": "markdown",
   "metadata": {},
   "source": [
    "**AR Model**"
   ]
  },
  {
   "cell_type": "code",
   "execution_count": 50,
   "metadata": {},
   "outputs": [
    {
     "data": {
      "text/html": [
       "<table class=\"simpletable\">\n",
       "<caption>Statespace Model Results</caption>\n",
       "<tr>\n",
       "  <th>Dep. Variable:</th>       <td>Change %</td>     <th>  No. Observations:  </th>    <td>580</td>  \n",
       "</tr>\n",
       "<tr>\n",
       "  <th>Model:</th>           <td>SARIMAX(1, 0, 0)</td> <th>  Log Likelihood     </th> <td>-779.786</td>\n",
       "</tr>\n",
       "<tr>\n",
       "  <th>Date:</th>            <td>Wed, 30 Jan 2019</td> <th>  AIC                </th> <td>1563.571</td>\n",
       "</tr>\n",
       "<tr>\n",
       "  <th>Time:</th>                <td>16:18:05</td>     <th>  BIC                </th> <td>1572.297</td>\n",
       "</tr>\n",
       "<tr>\n",
       "  <th>Sample:</th>             <td>01-23-2017</td>    <th>  HQIC               </th> <td>1566.973</td>\n",
       "</tr>\n",
       "<tr>\n",
       "  <th></th>                   <td>- 08-25-2018</td>   <th>                     </th>     <td> </td>   \n",
       "</tr>\n",
       "<tr>\n",
       "  <th>Covariance Type:</th>        <td>opg</td>       <th>                     </th>     <td> </td>   \n",
       "</tr>\n",
       "</table>\n",
       "<table class=\"simpletable\">\n",
       "<tr>\n",
       "     <td></td>       <th>coef</th>     <th>std err</th>      <th>z</th>      <th>P>|z|</th>  <th>[0.025</th>    <th>0.975]</th>  \n",
       "</tr>\n",
       "<tr>\n",
       "  <th>ar.L1</th>  <td>    0.3712</td> <td>    0.019</td> <td>   19.273</td> <td> 0.000</td> <td>    0.333</td> <td>    0.409</td>\n",
       "</tr>\n",
       "<tr>\n",
       "  <th>sigma2</th> <td>    0.8614</td> <td>    0.026</td> <td>   32.965</td> <td> 0.000</td> <td>    0.810</td> <td>    0.913</td>\n",
       "</tr>\n",
       "</table>\n",
       "<table class=\"simpletable\">\n",
       "<tr>\n",
       "  <th>Ljung-Box (Q):</th>          <td>36.67</td> <th>  Jarque-Bera (JB):  </th> <td>1095.05</td>\n",
       "</tr>\n",
       "<tr>\n",
       "  <th>Prob(Q):</th>                <td>0.62</td>  <th>  Prob(JB):          </th>  <td>0.00</td>  \n",
       "</tr>\n",
       "<tr>\n",
       "  <th>Heteroskedasticity (H):</th> <td>0.13</td>  <th>  Skew:              </th>  <td>-0.86</td> \n",
       "</tr>\n",
       "<tr>\n",
       "  <th>Prob(H) (two-sided):</th>    <td>0.00</td>  <th>  Kurtosis:          </th>  <td>9.51</td>  \n",
       "</tr>\n",
       "</table><br/><br/>Warnings:<br/>[1] Covariance matrix calculated using the outer product of gradients (complex-step)."
      ],
      "text/plain": [
       "<class 'statsmodels.iolib.summary.Summary'>\n",
       "\"\"\"\n",
       "                           Statespace Model Results                           \n",
       "==============================================================================\n",
       "Dep. Variable:               Change %   No. Observations:                  580\n",
       "Model:               SARIMAX(1, 0, 0)   Log Likelihood                -779.786\n",
       "Date:                Wed, 30 Jan 2019   AIC                           1563.571\n",
       "Time:                        16:18:05   BIC                           1572.297\n",
       "Sample:                    01-23-2017   HQIC                          1566.973\n",
       "                         - 08-25-2018                                         \n",
       "Covariance Type:                  opg                                         \n",
       "==============================================================================\n",
       "                 coef    std err          z      P>|z|      [0.025      0.975]\n",
       "------------------------------------------------------------------------------\n",
       "ar.L1          0.3712      0.019     19.273      0.000       0.333       0.409\n",
       "sigma2         0.8614      0.026     32.965      0.000       0.810       0.913\n",
       "===================================================================================\n",
       "Ljung-Box (Q):                       36.67   Jarque-Bera (JB):              1095.05\n",
       "Prob(Q):                              0.62   Prob(JB):                         0.00\n",
       "Heteroskedasticity (H):               0.13   Skew:                            -0.86\n",
       "Prob(H) (two-sided):                  0.00   Kurtosis:                         9.51\n",
       "===================================================================================\n",
       "\n",
       "Warnings:\n",
       "[1] Covariance matrix calculated using the outer product of gradients (complex-step).\n",
       "\"\"\""
      ]
     },
     "execution_count": 50,
     "metadata": {},
     "output_type": "execute_result"
    }
   ],
   "source": [
    "mod_ar = sm.tsa.statespace.SARIMAX(y_train, order=(1,0,0),seasonal_order=(0,0,0,12)).fit()\n",
    "mod_ar.summary()"
   ]
  },
  {
   "cell_type": "code",
   "execution_count": 51,
   "metadata": {},
   "outputs": [
    {
     "data": {
      "image/png": "[encoded data removed]",
      "text/plain": [
       "<Figure size 1080x864 with 4 Axes>"
      ]
     },
     "metadata": {
      "needs_background": "light"
     },
     "output_type": "display_data"
    }
   ],
   "source": [
    "mod_ar.plot_diagnostics(figsize=(15, 12))\n",
    "plt.show()"
   ]
  },
  {
   "cell_type": "code",
   "execution_count": 52,
   "metadata": {},
   "outputs": [],
   "source": [
    "forecast = mod_ar.forecast(steps = 146)"
   ]
  },
  {
   "cell_type": "code",
   "execution_count": 53,
   "metadata": {},
   "outputs": [
    {
     "data": {
      "text/plain": [
       "0.44955843807974216"
      ]
     },
     "execution_count": 53,
     "metadata": {},
     "output_type": "execute_result"
    }
   ],
   "source": [
    "sm.tools.eval_measures.rmse(y_test, forecast)\n",
    "\n",
    "#0.44955843807974216"
   ]
  },
  {
   "cell_type": "code",
   "execution_count": 54,
   "metadata": {},
   "outputs": [
    {
     "data": {
      "image/png": "[encoded data removed]",
      "text/plain": [
       "<Figure size 432x288 with 1 Axes>"
      ]
     },
     "metadata": {
      "needs_background": "light"
     },
     "output_type": "display_data"
    }
   ],
   "source": [
    "ax = y.plot(label='observed')\n",
    "forecast.plot(ax=ax, label='One-step ahead Forecast', alpha=.7)\n",
    "\n",
    "ax.set_xlabel('Date')\n",
    "ax.set_ylabel('Percent Change in DJIA')\n",
    "plt.legend()\n",
    "\n",
    "plt.show()"
   ]
  },
  {
   "cell_type": "markdown",
   "metadata": {},
   "source": [
    "### Model (with Exogenous Variables)"
   ]
  },
  {
   "cell_type": "code",
   "execution_count": 58,
   "metadata": {},
   "outputs": [
    {
     "data": {
      "text/html": [
       "<table class=\"simpletable\">\n",
       "<caption>Statespace Model Results</caption>\n",
       "<tr>\n",
       "  <th>Dep. Variable:</th>       <td>Change %</td>     <th>  No. Observations:  </th>    <td>580</td>  \n",
       "</tr>\n",
       "<tr>\n",
       "  <th>Model:</th>           <td>SARIMAX(1, 0, 0)</td> <th>  Log Likelihood     </th> <td>-778.580</td>\n",
       "</tr>\n",
       "<tr>\n",
       "  <th>Date:</th>            <td>Wed, 30 Jan 2019</td> <th>  AIC                </th> <td>1571.160</td>\n",
       "</tr>\n",
       "<tr>\n",
       "  <th>Time:</th>                <td>16:21:16</td>     <th>  BIC                </th> <td>1601.701</td>\n",
       "</tr>\n",
       "<tr>\n",
       "  <th>Sample:</th>             <td>01-23-2017</td>    <th>  HQIC               </th> <td>1583.067</td>\n",
       "</tr>\n",
       "<tr>\n",
       "  <th></th>                   <td>- 08-25-2018</td>   <th>                     </th>     <td> </td>   \n",
       "</tr>\n",
       "<tr>\n",
       "  <th>Covariance Type:</th>        <td>opg</td>       <th>                     </th>     <td> </td>   \n",
       "</tr>\n",
       "</table>\n",
       "<table class=\"simpletable\">\n",
       "<tr>\n",
       "          <td></td>            <th>coef</th>     <th>std err</th>      <th>z</th>      <th>P>|z|</th>  <th>[0.025</th>    <th>0.975]</th>  \n",
       "</tr>\n",
       "<tr>\n",
       "  <th>net_approval</th>     <td>   -0.0183</td> <td>    0.023</td> <td>   -0.788</td> <td> 0.431</td> <td>   -0.064</td> <td>    0.027</td>\n",
       "</tr>\n",
       "<tr>\n",
       "  <th>compound</th>         <td>    0.0089</td> <td>    0.018</td> <td>    0.507</td> <td> 0.612</td> <td>   -0.026</td> <td>    0.043</td>\n",
       "</tr>\n",
       "<tr>\n",
       "  <th>sentiment</th>        <td>   -0.0016</td> <td>    0.018</td> <td>   -0.086</td> <td> 0.931</td> <td>   -0.037</td> <td>    0.034</td>\n",
       "</tr>\n",
       "<tr>\n",
       "  <th>trump_kw</th>         <td>   -0.0058</td> <td>    0.013</td> <td>   -0.464</td> <td> 0.643</td> <td>   -0.030</td> <td>    0.019</td>\n",
       "</tr>\n",
       "<tr>\n",
       "  <th>trump_mueller_kw</th> <td>   -0.0017</td> <td>    0.003</td> <td>   -0.661</td> <td> 0.508</td> <td>   -0.007</td> <td>    0.003</td>\n",
       "</tr>\n",
       "<tr>\n",
       "  <th>ar.L1</th>            <td>    0.3672</td> <td>    0.020</td> <td>   18.077</td> <td> 0.000</td> <td>    0.327</td> <td>    0.407</td>\n",
       "</tr>\n",
       "<tr>\n",
       "  <th>sigma2</th>           <td>    0.8580</td> <td>    0.027</td> <td>   31.931</td> <td> 0.000</td> <td>    0.805</td> <td>    0.911</td>\n",
       "</tr>\n",
       "</table>\n",
       "<table class=\"simpletable\">\n",
       "<tr>\n",
       "  <th>Ljung-Box (Q):</th>          <td>37.98</td> <th>  Jarque-Bera (JB):  </th> <td>1045.88</td>\n",
       "</tr>\n",
       "<tr>\n",
       "  <th>Prob(Q):</th>                <td>0.56</td>  <th>  Prob(JB):          </th>  <td>0.00</td>  \n",
       "</tr>\n",
       "<tr>\n",
       "  <th>Heteroskedasticity (H):</th> <td>0.13</td>  <th>  Skew:              </th>  <td>-0.78</td> \n",
       "</tr>\n",
       "<tr>\n",
       "  <th>Prob(H) (two-sided):</th>    <td>0.00</td>  <th>  Kurtosis:          </th>  <td>9.39</td>  \n",
       "</tr>\n",
       "</table><br/><br/>Warnings:<br/>[1] Covariance matrix calculated using the outer product of gradients (complex-step)."
      ],
      "text/plain": [
       "<class 'statsmodels.iolib.summary.Summary'>\n",
       "\"\"\"\n",
       "                           Statespace Model Results                           \n",
       "==============================================================================\n",
       "Dep. Variable:               Change %   No. Observations:                  580\n",
       "Model:               SARIMAX(1, 0, 0)   Log Likelihood                -778.580\n",
       "Date:                Wed, 30 Jan 2019   AIC                           1571.160\n",
       "Time:                        16:21:16   BIC                           1601.701\n",
       "Sample:                    01-23-2017   HQIC                          1583.067\n",
       "                         - 08-25-2018                                         \n",
       "Covariance Type:                  opg                                         \n",
       "====================================================================================\n",
       "                       coef    std err          z      P>|z|      [0.025      0.975]\n",
       "------------------------------------------------------------------------------------\n",
       "net_approval        -0.0183      0.023     -0.788      0.431      -0.064       0.027\n",
       "compound             0.0089      0.018      0.507      0.612      -0.026       0.043\n",
       "sentiment           -0.0016      0.018     -0.086      0.931      -0.037       0.034\n",
       "trump_kw            -0.0058      0.013     -0.464      0.643      -0.030       0.019\n",
       "trump_mueller_kw    -0.0017      0.003     -0.661      0.508      -0.007       0.003\n",
       "ar.L1                0.3672      0.020     18.077      0.000       0.327       0.407\n",
       "sigma2               0.8580      0.027     31.931      0.000       0.805       0.911\n",
       "===================================================================================\n",
       "Ljung-Box (Q):                       37.98   Jarque-Bera (JB):              1045.88\n",
       "Prob(Q):                              0.56   Prob(JB):                         0.00\n",
       "Heteroskedasticity (H):               0.13   Skew:                            -0.78\n",
       "Prob(H) (two-sided):                  0.00   Kurtosis:                         9.39\n",
       "===================================================================================\n",
       "\n",
       "Warnings:\n",
       "[1] Covariance matrix calculated using the outer product of gradients (complex-step).\n",
       "\"\"\""
      ]
     },
     "execution_count": 58,
     "metadata": {},
     "output_type": "execute_result"
    }
   ],
   "source": [
    "mod_arx = sm.tsa.statespace.SARIMAX(y_train, X_train, order=(1,0,0), seasonal_order=(0,0,0,12), enforce_stationarity=True, enforce_invertibility=True).fit()\n",
    "mod_arx.summary()"
   ]
  },
  {
   "cell_type": "code",
   "execution_count": 57,
   "metadata": {},
   "outputs": [
    {
     "data": {
      "image/png": "[encoded data removed]",
      "text/plain": [
       "<Figure size 720x576 with 4 Axes>"
      ]
     },
     "metadata": {
      "needs_background": "light"
     },
     "output_type": "display_data"
    }
   ],
   "source": [
    "mod_arx.plot_diagnostics(figsize=(10, 8));"
   ]
  },
  {
   "cell_type": "code",
   "execution_count": 64,
   "metadata": {},
   "outputs": [],
   "source": [
    "yhat = mod_arx.predict(start=pd.to_datetime('2018-08-26'), end=pd.to_datetime('2019-01-18'), exog=X_test)"
   ]
  },
  {
   "cell_type": "code",
   "execution_count": 65,
   "metadata": {},
   "outputs": [
    {
     "data": {
      "text/plain": [
       "0.5136699243597855"
      ]
     },
     "execution_count": 65,
     "metadata": {},
     "output_type": "execute_result"
    }
   ],
   "source": [
    "sm.tools.eval_measures.rmse(y_test, yhat)\n",
    "# RMSE = 0.5136699243597855"
   ]
  },
  {
   "cell_type": "code",
   "execution_count": 89,
   "metadata": {},
   "outputs": [
    {
     "data": {
      "text/html": [
       "<iframe id=\"igraph\" scrolling=\"no\" style=\"border:none;\" seamless=\"seamless\" src=\"https://plot.ly/~jaime-garvey/14.embed\" height=\"525px\" width=\"100%\"></iframe>"
      ],
      "text/plain": [
       "<plotly.tools.PlotlyDisplay object>"
      ]
     },
     "execution_count": 89,
     "metadata": {},
     "output_type": "execute_result"
    }
   ],
   "source": [
    "data = [\n",
    "    go.Bar(\n",
    "        x = djia_up.index,\n",
    "        y = djia_up['Change %'],\n",
    "        marker = dict(\n",
    "          color = 'green'\n",
    "        ),\n",
    "        name = 'up'\n",
    "    ),\n",
    "    go.Bar(\n",
    "        x = djia_down.index,\n",
    "        y = djia_down['Change %'],\n",
    "        marker = dict(\n",
    "          color = 'red'\n",
    "        ),\n",
    "        name = 'down'\n",
    "    )\n",
    "]\n",
    "\n",
    "layout = go.Layout(\n",
    "    title='Dow Jones Returns',\n",
    "    xaxis=dict(\n",
    "        title='Dates',\n",
    "        titlefont=dict(\n",
    "            family='Open Sans',\n",
    "            size=16,\n",
    "            color='#7f7f7f'\n",
    "        )\n",
    "    ),\n",
    "    yaxis=dict(\n",
    "        title='Percent Change in Price (USD)',\n",
    "        titlefont=dict(\n",
    "            family='Open Sans',\n",
    "            size=16,\n",
    "            color='#7f7f7f'\n",
    "        )\n",
    "    )\n",
    ")\n",
    "\n",
    "fig = go.Figure(data=data, layout=layout)\n",
    "py.iplot(fig, filename='djia-bar')"
   ]
  },
  {
   "cell_type": "code",
   "execution_count": 97,
   "metadata": {},
   "outputs": [
    {
     "data": {
      "text/html": [
       "<iframe id=\"igraph\" scrolling=\"no\" style=\"border:none;\" seamless=\"seamless\" src=\"https://plot.ly/~jaime-garvey/16.embed\" height=\"525px\" width=\"100%\"></iframe>"
      ],
      "text/plain": [
       "<plotly.tools.PlotlyDisplay object>"
      ]
     },
     "execution_count": 97,
     "metadata": {},
     "output_type": "execute_result"
    }
   ],
   "source": [
    "data = [\n",
    "    go.Bar(\n",
    "        x = merged_dataframe.index,\n",
    "        y = merged_dataframe['net_approval'],\n",
    "        marker = dict(\n",
    "          color = 'blue'\n",
    "        ),\n",
    "        name = 'down'\n",
    "    )\n",
    "]\n",
    "\n",
    "\n",
    "fig = go.Figure(data=data)\n",
    "py.iplot(fig, filename='variable-bar')"
   ]
  },
  {
   "cell_type": "code",
   "execution_count": 99,
   "metadata": {},
   "outputs": [
    {
     "data": {
      "text/html": [
       "<iframe id=\"igraph\" scrolling=\"no\" style=\"border:none;\" seamless=\"seamless\" src=\"https://plot.ly/~jaime-garvey/18.embed\" height=\"525px\" width=\"100%\"></iframe>"
      ],
      "text/plain": [
       "<plotly.tools.PlotlyDisplay object>"
      ]
     },
     "execution_count": 99,
     "metadata": {},
     "output_type": "execute_result"
    }
   ],
   "source": [
    "data = [\n",
    "    go.Bar(\n",
    "        x = merged_dataframe.index,\n",
    "        y = merged_dataframe['trump_kw'],\n",
    "        marker = dict(\n",
    "          color = 'blue'\n",
    "        ),\n",
    "        name = 'down'\n",
    "    )\n",
    "]\n",
    "\n",
    "\n",
    "fig = go.Figure(data=data)\n",
    "py.iplot(fig, filename='trump-bar')"
   ]
  },
  {
   "cell_type": "code",
   "execution_count": 100,
   "metadata": {},
   "outputs": [
    {
     "data": {
      "text/html": [
       "<iframe id=\"igraph\" scrolling=\"no\" style=\"border:none;\" seamless=\"seamless\" src=\"https://plot.ly/~jaime-garvey/20.embed\" height=\"525px\" width=\"100%\"></iframe>"
      ],
      "text/plain": [
       "<plotly.tools.PlotlyDisplay object>"
      ]
     },
     "execution_count": 100,
     "metadata": {},
     "output_type": "execute_result"
    }
   ],
   "source": [
    "data = [\n",
    "    go.Bar(\n",
    "        x = merged_dataframe.index,\n",
    "        y = merged_dataframe['compound'],\n",
    "        marker = dict(\n",
    "          color = 'blue'\n",
    "        ),\n",
    "        name = 'down'\n",
    "    )\n",
    "]\n",
    "\n",
    "\n",
    "fig = go.Figure(data=data)\n",
    "py.iplot(fig, filename='compound-bar')"
   ]
  },
  {
   "cell_type": "code",
   "execution_count": null,
   "metadata": {},
   "outputs": [],
   "source": []
  }
 ],
 "metadata": {
  "kernelspec": {
   "display_name": "Python 3",
   "language": "python",
   "name": "python3"
  },
  "language_info": {
   "codemirror_mode": {
    "name": "ipython",
    "version": 3
   },
   "file_extension": ".py",
   "mimetype": "text/x-python",
   "name": "python",
   "nbconvert_exporter": "python",
   "pygments_lexer": "ipython3",
   "version": "3.7.1"
  }
 },
 "nbformat": 4,
 "nbformat_minor": 2
}
